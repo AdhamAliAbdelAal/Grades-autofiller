{
 "cells": [
  {
   "cell_type": "code",
   "execution_count": 29,
   "metadata": {},
   "outputs": [],
   "source": [
    "import cv2\n",
    "import numpy as np\n",
    "import math\n",
    "from commonfunctions import *\n",
    "from scipy.ndimage import interpolation as inter\n",
    "import os"
   ]
  },
  {
   "cell_type": "code",
   "execution_count": 30,
   "metadata": {},
   "outputs": [],
   "source": [
    "def biggest_contour(contours):\n",
    "    biggest = np.array([])\n",
    "    biggest2 = np.array([])\n",
    "    max_area = 0\n",
    "    max_area2 = 0\n",
    "    for i in contours:\n",
    "        area = cv2.contourArea(i)\n",
    "        peri = cv2.arcLength(i, True)\n",
    "        approx = cv2.approxPolyDP(i, 0.1 * peri, True)\n",
    "        if area > max_area and len(approx) == 4:\n",
    "            biggest = approx\n",
    "            max_area = area\n",
    "    return biggest"
   ]
  },
  {
   "cell_type": "code",
   "execution_count": 31,
   "metadata": {},
   "outputs": [
    {
     "name": "stdout",
     "output_type": "stream",
     "text": [
      "['1.jpg', '2.jpg', '3.jpg', '4.jpg', '5.jpg', '6.jpg', '7.JPG', '8.JPG', '9.JPG']\n"
     ]
    }
   ],
   "source": [
    "imgList = os.listdir('./imgs')\n",
    "print(imgList[:])\n",
    "imgsPath = \"./imgs/\"\n",
    "imgs = []\n",
    "warped_path = \"./warpedImgs/\"\n",
    "for imgName in imgList:   \n",
    "    img = cv2.imread(imgsPath+imgName)\n",
    "    imgs.append(img)\n",
    "#     show_images([img], ['original'])\n",
    "\n",
    "imgs_original = imgs[:]"
   ]
  },
  {
   "cell_type": "code",
   "execution_count": 32,
   "metadata": {},
   "outputs": [
    {
     "name": "stdout",
     "output_type": "stream",
     "text": [
      "591\n",
      "504\n",
      "586\n",
      "457\n",
      "578\n",
      "459\n",
      "635\n",
      "544\n",
      "586\n",
      "460\n",
      "627\n",
      "534\n",
      "1875\n",
      "1547\n",
      "1967\n",
      "1502\n",
      "2005\n",
      "1624\n"
     ]
    }
   ],
   "source": [
    "for img, img_original, imgName in zip(imgs, imgs_original, imgList):\n",
    "    # Image modification\n",
    "    gray = cv2.cvtColor(img, cv2.COLOR_BGR2GRAY)\n",
    "    gray = cv2.bilateralFilter(gray, 20, 30, 30)\n",
    "\n",
    "    # grad_x = cv2.Sobel(gray, -1, 1, 0)\n",
    "    # # Gradient-Y\n",
    "\n",
    "    # grad_y = cv2.Sobel(gray, -1, 0, 1)\n",
    "\n",
    "\n",
    "    # abs_grad_x = cv2.convertScaleAbs(grad_x)\n",
    "    # abs_grad_y = cv2.convertScaleAbs(grad_y)\n",
    "\n",
    "\n",
    "    # grad = cv2.addWeighted(abs_grad_x, 0.5, abs_grad_y, 0.5, 0)\n",
    "\n",
    "    edged = cv2.Canny(gray, 20, 120)\n",
    "    edged = cv2.dilate(edged.copy(), None, 2)\n",
    "#     show_images([img, gray, edged], ['original', 'gray','edged'])\n",
    "\n",
    "\n",
    "\n",
    "\n",
    "    contours, hierarchy = cv2.findContours(edged, cv2.RETR_TREE, cv2.CHAIN_APPROX_SIMPLE)\n",
    "\n",
    "    contours = sorted(contours, key=cv2.contourArea, reverse=True)[2:10]\n",
    "#     for c in contours:\n",
    "#         cv2.drawContours(img, [c], -1, (0, 255, 0), 3) #######################################\n",
    "#     x, y, w, h = cv2.boundingRect(c)\n",
    "#     new_img = img[y:y+h, x:x+w]\n",
    "    \n",
    "#     show_images([new_img])\n",
    "\n",
    "    biggest = biggest_contour(contours)\n",
    "\n",
    "\n",
    "    points = biggest.reshape(4, 2)\n",
    "    input_points = np.zeros((4, 2), dtype=\"float32\")\n",
    "\n",
    "\n",
    "    #Biggest Contour Points\n",
    "    points_sum = points.sum(axis=1)\n",
    "\n",
    "    top_left = points[np.argmin(points_sum)]\n",
    "    bottom_right = points[np.argmax(points_sum)]\n",
    "\n",
    "    points_diff = np.diff(points, axis=1)\n",
    "    top_right = points[np.argmin(points_diff)]\n",
    "    bottom_left = points[np.argmax(points_diff)]\n",
    "\n",
    "\n",
    "    #Image Dimensions\n",
    "    bottom_width = np.sqrt(pow((bottom_right[0] - bottom_left[0]), 2) + (pow((bottom_right[1] - bottom_left[1]), 2)))\n",
    "    top_width = np.sqrt(pow((top_right[0] - top_left[0]), 2) + (pow((top_right[1] - top_left[1]), 2)))\n",
    "    right_height = np.sqrt(pow((top_right[0] - bottom_right[0]), 2) + (pow((top_right[1] - bottom_right[1]), 2)))\n",
    "    left_height = np.sqrt(pow((top_left[0] - bottom_left[0]), 2) + (pow((top_left[1] - bottom_left[1]), 2)))\n",
    "\n",
    "\n",
    "    # Output image size\n",
    "    width = max(int(bottom_width), int(top_width))\n",
    "    height = max(int(right_height), int(left_height))\n",
    "    print(width)\n",
    "    print(height)\n",
    "    # Points with new Coordinates \n",
    "    converted_points = np.float32([[0, 0], [width, 0], [0, height], [width, height]])\n",
    "\n",
    "    # Warping\n",
    "    arr = np.float32([top_left, top_right, bottom_left, bottom_right])\n",
    "    matrix = cv2.getPerspectiveTransform(arr, converted_points)\n",
    "    img_output = cv2.warpPerspective(img_original, matrix, (width, height))\n",
    "\n",
    "#     show_images([img_original, gray, edged, img], ['original','gray','edged','contours'])\n",
    "\n",
    "\n",
    "#     show_images([img_output], ['Warped'])\n",
    "\n",
    "    cv2.imwrite(warped_path+imgName, img_output)\n",
    "\n"
   ]
  },
  {
   "cell_type": "code",
   "execution_count": null,
   "metadata": {},
   "outputs": [],
   "source": []
  },
  {
   "cell_type": "code",
   "execution_count": null,
   "metadata": {},
   "outputs": [],
   "source": []
  },
  {
   "cell_type": "code",
   "execution_count": null,
   "metadata": {},
   "outputs": [],
   "source": []
  },
  {
   "cell_type": "code",
   "execution_count": null,
   "metadata": {},
   "outputs": [],
   "source": []
  },
  {
   "cell_type": "code",
   "execution_count": null,
   "metadata": {},
   "outputs": [],
   "source": []
  },
  {
   "cell_type": "code",
   "execution_count": null,
   "metadata": {},
   "outputs": [],
   "source": []
  }
 ],
 "metadata": {
  "kernelspec": {
   "display_name": "Python 3 (ipykernel)",
   "language": "python",
   "name": "python3"
  },
  "language_info": {
   "codemirror_mode": {
    "name": "ipython",
    "version": 3
   },
   "file_extension": ".py",
   "mimetype": "text/x-python",
   "name": "python",
   "nbconvert_exporter": "python",
   "pygments_lexer": "ipython3",
   "version": "3.9.13"
  }
 },
 "nbformat": 4,
 "nbformat_minor": 2
}
