{
 "cells": [
  {
   "cell_type": "code",
   "execution_count": 1,
   "metadata": {},
   "outputs": [],
   "source": [
    "import cv2\n",
    "import numpy as np\n",
    "import math\n",
    "from commonfunctions import *\n",
    "from scipy.ndimage import interpolation as inter\n",
    "import os"
   ]
  },
  {
   "cell_type": "code",
   "execution_count": 2,
   "metadata": {},
   "outputs": [],
   "source": [
    "def biggest_contour(contours):\n",
    "    biggest = np.array([])\n",
    "    biggest2 = np.array([])\n",
    "    max_area = 0\n",
    "    max_area2 = 0\n",
    "    for i in contours:\n",
    "        area = cv2.contourArea(i)\n",
    "        peri = cv2.arcLength(i, True)\n",
    "        approx = cv2.approxPolyDP(i, 0.1 * peri, True)\n",
    "        if area > max_area and len(approx) == 4:\n",
    "            biggest = approx\n",
    "            max_area = area\n",
    "    return biggest"
   ]
  },
  {
   "cell_type": "code",
   "execution_count": 3,
   "metadata": {},
   "outputs": [
    {
     "name": "stdout",
     "output_type": "stream",
     "text": [
      "['1.jpg', '11.jpg', '12.jpg', '13.jpg', '14.jpg', '15.jpg', '2.jpg', '3.jpg', '4.jpg', '5.jpg', '6.jpg', '7.jpg', '8.jpg', '9.jpg']\n"
     ]
    }
   ],
   "source": [
    "imgList = os.listdir('./warpedImgs')\n",
    "print(imgList[:])\n",
    "imgsPath = \"./warpedImgs/\"\n",
    "imgs = []\n",
    "warped_path = \"./tables/\"\n",
    "for imgName in imgList:   \n",
    "    img = cv2.imread(imgsPath+imgName)\n",
    "    imgs.append(img)\n",
    "#     show_images([img], ['original'])\n",
    "\n",
    "imgs_original = imgs[:]"
   ]
  },
  {
   "cell_type": "code",
   "execution_count": 4,
   "metadata": {},
   "outputs": [
    {
     "name": "stdout",
     "output_type": "stream",
     "text": [
      "2360\n",
      "1474\n",
      "2434\n",
      "2121\n",
      "2456\n",
      "1912\n",
      "2270\n",
      "1991\n",
      "2420\n",
      "1980\n",
      "2448\n",
      "2012\n",
      "607\n",
      "513\n",
      "644\n",
      "551\n",
      "638\n",
      "543\n",
      "2501\n",
      "1930\n"
     ]
    },
    {
     "ename": "ValueError",
     "evalue": "cannot reshape array of size 0 into shape (4,2)",
     "output_type": "error",
     "traceback": [
      "\u001b[1;31m---------------------------------------------------------------------------\u001b[0m",
      "\u001b[1;31mValueError\u001b[0m                                Traceback (most recent call last)",
      "Input \u001b[1;32mIn [4]\u001b[0m, in \u001b[0;36m<cell line: 1>\u001b[1;34m()\u001b[0m\n\u001b[0;32m     28\u001b[0m     \u001b[38;5;66;03m#for c in contours:\u001b[39;00m\n\u001b[0;32m     29\u001b[0m         \u001b[38;5;66;03m#cv2.drawContours(img, [c], -1, (0, 255, 0), 3) #######################################\u001b[39;00m\n\u001b[0;32m     30\u001b[0m \u001b[38;5;66;03m#     x, y, w, h = cv2.boundingRect(c)\u001b[39;00m\n\u001b[0;32m     31\u001b[0m \u001b[38;5;66;03m#     new_img = img[y:y+h, x:x+w]\u001b[39;00m\n\u001b[0;32m     32\u001b[0m     \n\u001b[0;32m     33\u001b[0m \u001b[38;5;66;03m#     show_images([new_img])\u001b[39;00m\n\u001b[0;32m     35\u001b[0m     biggest \u001b[38;5;241m=\u001b[39m biggest_contour(contours)\n\u001b[1;32m---> 38\u001b[0m     points \u001b[38;5;241m=\u001b[39m \u001b[43mbiggest\u001b[49m\u001b[38;5;241;43m.\u001b[39;49m\u001b[43mreshape\u001b[49m\u001b[43m(\u001b[49m\u001b[38;5;241;43m4\u001b[39;49m\u001b[43m,\u001b[49m\u001b[43m \u001b[49m\u001b[38;5;241;43m2\u001b[39;49m\u001b[43m)\u001b[49m\n\u001b[0;32m     39\u001b[0m     input_points \u001b[38;5;241m=\u001b[39m np\u001b[38;5;241m.\u001b[39mzeros((\u001b[38;5;241m4\u001b[39m, \u001b[38;5;241m2\u001b[39m), dtype\u001b[38;5;241m=\u001b[39m\u001b[38;5;124m\"\u001b[39m\u001b[38;5;124mfloat32\u001b[39m\u001b[38;5;124m\"\u001b[39m)\n\u001b[0;32m     42\u001b[0m     \u001b[38;5;66;03m#Biggest Contour Points\u001b[39;00m\n",
      "\u001b[1;31mValueError\u001b[0m: cannot reshape array of size 0 into shape (4,2)"
     ]
    }
   ],
   "source": [
    "for img, img_original, imgName in zip(imgs, imgs_original, imgList):\n",
    "    # Image modification\n",
    "    gray = cv2.cvtColor(img, cv2.COLOR_BGR2GRAY)\n",
    "    gray = cv2.bilateralFilter(gray, 20, 30, 30)\n",
    "\n",
    "    # grad_x = cv2.Sobel(gray, -1, 1, 0)\n",
    "    # # Gradient-Y\n",
    "\n",
    "    # grad_y = cv2.Sobel(gray, -1, 0, 1)\n",
    "\n",
    "\n",
    "    # abs_grad_x = cv2.convertScaleAbs(grad_x)\n",
    "    # abs_grad_y = cv2.convertScaleAbs(grad_y)\n",
    "\n",
    "\n",
    "    # grad = cv2.addWeighted(abs_grad_x, 0.5, abs_grad_y, 0.5, 0)\n",
    "\n",
    "    edged = cv2.Canny(gray, 20, 120)\n",
    "    edged = cv2.dilate(edged.copy(), None, 2)\n",
    "#     show_images([img, gray, edged], ['original', 'gray','edged'])\n",
    "\n",
    "\n",
    "\n",
    "\n",
    "    contours, hierarchy = cv2.findContours(edged, cv2.RETR_EXTERNAL, cv2.CHAIN_APPROX_SIMPLE)\n",
    "\n",
    "    contours = sorted(contours, key=cv2.contourArea, reverse=True)[:10]\n",
    "    #for c in contours:\n",
    "        #cv2.drawContours(img, [c], -1, (0, 255, 0), 3) #######################################\n",
    "#     x, y, w, h = cv2.boundingRect(c)\n",
    "#     new_img = img[y:y+h, x:x+w]\n",
    "    \n",
    "#     show_images([new_img])\n",
    "\n",
    "    biggest = biggest_contour(contours)\n",
    "\n",
    "    \n",
    "    points = biggest.reshape(4, 2)\n",
    "    input_points = np.zeros((4, 2), dtype=\"float32\")\n",
    "\n",
    "\n",
    "    #Biggest Contour Points\n",
    "    points_sum = points.sum(axis=1)\n",
    "\n",
    "    top_left = points[np.argmin(points_sum)]\n",
    "    bottom_right = points[np.argmax(points_sum)]\n",
    "\n",
    "    points_diff = np.diff(points, axis=1)\n",
    "    top_right = points[np.argmin(points_diff)]\n",
    "    bottom_left = points[np.argmax(points_diff)]\n",
    "\n",
    "\n",
    "    #Image Dimensions\n",
    "    bottom_width = np.sqrt(pow((bottom_right[0] - bottom_left[0]), 2) + (pow((bottom_right[1] - bottom_left[1]), 2)))\n",
    "    top_width = np.sqrt(pow((top_right[0] - top_left[0]), 2) + (pow((top_right[1] - top_left[1]), 2)))\n",
    "    right_height = np.sqrt(pow((top_right[0] - bottom_right[0]), 2) + (pow((top_right[1] - bottom_right[1]), 2)))\n",
    "    left_height = np.sqrt(pow((top_left[0] - bottom_left[0]), 2) + (pow((top_left[1] - bottom_left[1]), 2)))\n",
    "\n",
    "\n",
    "    # Output image size\n",
    "    width = max(int(bottom_width), int(top_width))\n",
    "    height = max(int(right_height), int(left_height))\n",
    "    print(width)\n",
    "    print(height)\n",
    "    # Points with new Coordinates \n",
    "    converted_points = np.float32([[0, 0], [width, 0], [0, height], [width, height]])\n",
    "\n",
    "    # Warping\n",
    "    arr = np.float32([top_left, top_right, bottom_left, bottom_right])\n",
    "    matrix = cv2.getPerspectiveTransform(arr, converted_points)\n",
    "    img_output = cv2.warpPerspective(img_original, matrix, (width, height))\n",
    "\n",
    "#     show_images([img_original, gray, edged, img], ['original','gray','edged','contours'])\n",
    "\n",
    "\n",
    "#     show_images([img_output], ['Warped'])\n",
    "\n",
    "    cv2.imwrite(warped_path+imgName, img_output)\n",
    "\n"
   ]
  },
  {
   "cell_type": "code",
   "execution_count": null,
   "metadata": {},
   "outputs": [],
   "source": []
  },
  {
   "cell_type": "code",
   "execution_count": null,
   "metadata": {},
   "outputs": [],
   "source": []
  },
  {
   "cell_type": "code",
   "execution_count": null,
   "metadata": {},
   "outputs": [],
   "source": []
  },
  {
   "cell_type": "code",
   "execution_count": null,
   "metadata": {},
   "outputs": [],
   "source": []
  },
  {
   "cell_type": "code",
   "execution_count": null,
   "metadata": {},
   "outputs": [],
   "source": []
  },
  {
   "cell_type": "code",
   "execution_count": null,
   "metadata": {},
   "outputs": [],
   "source": []
  }
 ],
 "metadata": {
  "kernelspec": {
   "display_name": "Python 3 (ipykernel)",
   "language": "python",
   "name": "python3"
  },
  "language_info": {
   "codemirror_mode": {
    "name": "ipython",
    "version": 3
   },
   "file_extension": ".py",
   "mimetype": "text/x-python",
   "name": "python",
   "nbconvert_exporter": "python",
   "pygments_lexer": "ipython3",
   "version": "3.9.2"
  }
 },
 "nbformat": 4,
 "nbformat_minor": 2
}
