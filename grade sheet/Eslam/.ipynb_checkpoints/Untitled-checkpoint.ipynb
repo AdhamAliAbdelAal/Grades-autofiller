{
 "cells": [
  {
   "cell_type": "code",
   "execution_count": 1,
   "id": "934faa38",
   "metadata": {},
   "outputs": [
    {
     "name": "stdout",
     "output_type": "stream",
     "text": [
      "koko\n"
     ]
    }
   ],
   "source": [
    "print(\"koko\")"
   ]
  },
  {
   "cell_type": "code",
   "execution_count": 3,
   "id": "614a511e",
   "metadata": {},
   "outputs": [],
   "source": [
    "import cv2\n",
    "import numpy as np"
   ]
  },
  {
   "cell_type": "code",
   "execution_count": null,
   "id": "45f6afb4",
   "metadata": {},
   "outputs": [],
   "source": []
  }
 ],
 "metadata": {
  "kernelspec": {
   "display_name": "Python 3 (ipykernel)",
   "language": "python",
   "name": "python3"
  },
  "language_info": {
   "codemirror_mode": {
    "name": "ipython",
    "version": 3
   },
   "file_extension": ".py",
   "mimetype": "text/x-python",
   "name": "python",
   "nbconvert_exporter": "python",
   "pygments_lexer": "ipython3",
   "version": "3.9.2"
  }
 },
 "nbformat": 4,
 "nbformat_minor": 5
}
