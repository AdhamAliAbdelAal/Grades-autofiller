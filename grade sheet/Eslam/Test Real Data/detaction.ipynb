{
 "cells": [
  {
   "cell_type": "code",
   "execution_count": 243,
   "id": "ac6743d6",
   "metadata": {},
   "outputs": [],
   "source": [
    "import cv2\n",
    "import numpy as np\n",
    "import matplotlib.pyplot as plt\n",
    "from scipy.ndimage import interpolation as inter\n",
    "from skimage.filters import gaussian\n",
    "from scipy.signal import convolve2d\n",
    "from contour_sort import *\n",
    "from fix_image_orientation import *\n",
    "from crop_image import *\n",
    "from paper_extraction import *\n",
    "from commonfunctions import *\n",
    "from skimage.feature import canny\n",
    "from skimage.morphology import binary_erosion, binary_dilation, binary_closing,skeletonize, thin"
   ]
  },
  {
   "cell_type": "code",
   "execution_count": 244,
   "id": "ee574c25",
   "metadata": {},
   "outputs": [],
   "source": [
    "img = cv2.imread('../../Results/Results/2/4/1.jpg')"
   ]
  },
  {
   "cell_type": "code",
   "execution_count": 245,
   "id": "74aeadf8",
   "metadata": {},
   "outputs": [
    {
     "data": {
      "image/png": "[encoded data removed]",
      "text/plain": [
       "<Figure size 432x288 with 1 Axes>"
      ]
     },
     "metadata": {
      "needs_background": "light"
     },
     "output_type": "display_data"
    }
   ],
   "source": [
    "show_images([img], ['original'])"
   ]
  },
  {
   "cell_type": "code",
   "execution_count": 267,
   "id": "4e026c8a",
   "metadata": {},
   "outputs": [
    {
     "data": {
      "image/png": "[encoded data removed]",
      "text/plain": [
       "<Figure size 432x288 with 1 Axes>"
      ]
     },
     "metadata": {
      "needs_background": "light"
     },
     "output_type": "display_data"
    },
    {
     "name": "stdout",
     "output_type": "stream",
     "text": [
      "0.04081632653061224\n",
      "0.04081632653061224\n",
      "0.10204081632653061\n",
      "0.04081632653061224\n",
      "0.0\n",
      "0.0\n",
      "0.02040816326530612\n",
      "0.02040816326530612\n",
      "0.0\n",
      "0.06818181818181818\n",
      "0.04081632653061224\n",
      "0.041666666666666664\n",
      "0.0\n",
      "0.04081632653061224\n",
      "0.043478260869565216\n",
      "0.0\n",
      "0.041666666666666664\n"
     ]
    },
    {
     "data": {
      "image/png": "[encoded data removed]",
      "text/plain": [
       "<Figure size 432x288 with 1 Axes>"
      ]
     },
     "metadata": {
      "needs_background": "light"
     },
     "output_type": "display_data"
    }
   ],
   "source": [
    "def detact_correct (img):\n",
    "   \n",
    "    img = cv2.cvtColor(img,cv2.COLOR_BGR2GRAY)\n",
    "#     kernel = np.array([[-1,-1,-1], [-1,9,-1], [-1,-1,-1]])\n",
    "#     img = convolve2d(~img,  kernel)\n",
    "#     show_images([img], ['original'])\n",
    "    blur = cv2.GaussianBlur(img , (0,0), sigmaX=100, sigmaY=100)\n",
    "  \n",
    "    img = cv2.divide(img, blur, scale=255)\n",
    "    img=cv2.adaptiveThreshold(img, 255, cv2.ADAPTIVE_THRESH_GAUSSIAN_C, \n",
    "            cv2.THRESH_BINARY, 51, 15)\n",
    "#     show_images([divide], ['original'])\n",
    "#     (thresh, img_bin) = cv2.threshold(img, 0, 255,cv2.THRESH_BINARY | cv2.THRESH_OTSU)\n",
    "# #     kernel = cv2.getStructuringElement(cv2.MORPH_RECT, (3,3))\n",
    "# #     morph = cv2.morphologyEx(img_bin, cv2.MORPH_CLOSE, kernel)\n",
    "#     show_images([img_bin], ['original'])\n",
    "#     kernel = cv2.getStructuringElement(cv2.MORPH_RECT, (2, 2))\n",
    "# #     img = cv2.erode(~img, kernel, iterations=1)\n",
    "#     img = cv2.dilate(~img, kernel, iterations=2)\n",
    "#     img = cv2.erode(img, kernel, iterations=2)\n",
    "#     skeleton = skeletonize(img)\n",
    "    lines_ver = cv2.HoughLinesP(img,1,np.pi/180,40,minLineLength=5,maxLineGap=10)\n",
    "#     print(len(lines_ver))\n",
    "    show_images([img], ['original'])\n",
    "    for line  in lines_ver:\n",
    "        for x1, y1, x2, y2 in line:\n",
    "            print(abs((y2-y1)/(x2-x1)))\n",
    "            img=cv2.line(img,(x1,y1),(x2,y2),(255,255,255),1)\n",
    "    show_images([img], ['original'])\n",
    "detact_correct(img=img)"
   ]
  },
  {
   "cell_type": "code",
   "execution_count": 238,
   "id": "efbf0a70",
   "metadata": {},
   "outputs": [
    {
     "ename": "SyntaxError",
     "evalue": "expression cannot contain assignment, perhaps you meant \"==\"? (3955756865.py, line 5)",
     "output_type": "error",
     "traceback": [
      "\u001b[1;36m  Input \u001b[1;32mIn [238]\u001b[1;36m\u001b[0m\n\u001b[1;33m    img = cv2.dilate(~img, kernel, iterations=)\u001b[0m\n\u001b[1;37m                                   ^\u001b[0m\n\u001b[1;31mSyntaxError\u001b[0m\u001b[1;31m:\u001b[0m expression cannot contain assignment, perhaps you meant \"==\"?\n"
     ]
    }
   ],
   "source": [
    "def detact_correct (img):\n",
    "\n",
    "    img = cv2.cvtColor(img,cv2.COLOR_BGR2GRAY)\n",
    "    kernel =np.ones([2, 2], dtype = int)\n",
    "    img = cv2.dilate(~img, kernel, iterations=)\n",
    "    img = cv2.erode(img, kernel, iterations=3)\n",
    "    show_images([img], ['original'])\n",
    "    img=cv2.adaptiveThreshold(img, 255, cv2.ADAPTIVE_THRESH_GAUSSIAN_C, \n",
    "            cv2.THRESH_BINARY, 51, 15)\n",
    "  \n",
    "    kernel =np.ones([2, 2], dtype = int)\n",
    "\n",
    "    (thresh, img_bin) = cv2.threshold(img, 128, 255,cv2.THRESH_BINARY | cv2.THRESH_OTSU)\n",
    "  \n",
    "    lines_ver = cv2.HoughLinesP(img_bin,1,np.pi/180,20,minLineLength=2,maxLineGap=20)\n",
    "    print(len(lines_ver))\n",
    "    show_images([img_bin], ['original'])\n",
    "detact_correct(img=img)"
   ]
  },
  {
   "cell_type": "code",
   "execution_count": null,
   "id": "5a0459ea",
   "metadata": {},
   "outputs": [],
   "source": []
  }
 ],
 "metadata": {
  "kernelspec": {
   "display_name": "Python 3 (ipykernel)",
   "language": "python",
   "name": "python3"
  },
  "language_info": {
   "codemirror_mode": {
    "name": "ipython",
    "version": 3
   },
   "file_extension": ".py",
   "mimetype": "text/x-python",
   "name": "python",
   "nbconvert_exporter": "python",
   "pygments_lexer": "ipython3",
   "version": "3.9.2"
  }
 },
 "nbformat": 4,
 "nbformat_minor": 5
}
