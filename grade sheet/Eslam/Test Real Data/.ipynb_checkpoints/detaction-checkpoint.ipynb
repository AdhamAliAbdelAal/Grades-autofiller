{
 "cells": [
  {
   "cell_type": "code",
   "execution_count": 243,
   "id": "3c8ab455",
   "metadata": {},
   "outputs": [],
   "source": [
    "import cv2\n",
    "import numpy as np\n",
    "import matplotlib.pyplot as plt\n",
    "from scipy.ndimage import interpolation as inter\n",
    "from skimage.filters import gaussian\n",
    "from scipy.signal import convolve2d\n",
    "from contour_sort import *\n",
    "from fix_image_orientation import *\n",
    "from crop_image import *\n",
    "from paper_extraction import *\n",
    "from commonfunctions import *\n",
    "from skimage.feature import canny\n",
    "from skimage.morphology import binary_erosion, binary_dilation, binary_closing,skeletonize, thin"
   ]
  },
  {
   "cell_type": "code",
   "execution_count": 244,
   "id": "16a52f9e",
   "metadata": {},
   "outputs": [],
   "source": [
    "img = cv2.imread('../../Results/Results/2/4/1.jpg')"
   ]
  },
  {
   "cell_type": "code",
   "execution_count": 245,
   "id": "efe656fa",
   "metadata": {},
   "outputs": [
    {
     "data": {
      "image/png": "[encoded data removed]",
      "text/plain": [
       "<Figure size 432x288 with 1 Axes>"
      ]
     },
     "metadata": {
      "needs_background": "light"
     },
     "output_type": "display_data"
    }
   ],
   "source": [
    "show_images([img], ['original'])"
   ]
  },
  {
   "cell_type": "code",
   "execution_count": 249,
   "id": "3756915f",
   "metadata": {},
   "outputs": [
    {
     "ename": "error",
     "evalue": "OpenCV(4.6.0) :-1: error: (-5:Bad argument) in function 'HoughLinesP'\n> Overload resolution failed:\n>  - image data type = 0 is not supported\n>  - Expected Ptr<cv::UMat> for argument 'image'\n",
     "output_type": "error",
     "traceback": [
      "\u001b[1;31m---------------------------------------------------------------------------\u001b[0m",
      "\u001b[1;31merror\u001b[0m                                     Traceback (most recent call last)",
      "Input \u001b[1;32mIn [249]\u001b[0m, in \u001b[0;36m<cell line: 32>\u001b[1;34m()\u001b[0m\n\u001b[0;32m     30\u001b[0m             img\u001b[38;5;241m=\u001b[39mcv2\u001b[38;5;241m.\u001b[39mline(img,(x1,y1),(x2,y2),(\u001b[38;5;241m255\u001b[39m,\u001b[38;5;241m255\u001b[39m,\u001b[38;5;241m255\u001b[39m),\u001b[38;5;241m1\u001b[39m)\n\u001b[0;32m     31\u001b[0m     show_images([img], [\u001b[38;5;124m'\u001b[39m\u001b[38;5;124moriginal\u001b[39m\u001b[38;5;124m'\u001b[39m])\n\u001b[1;32m---> 32\u001b[0m \u001b[43mdetact_correct\u001b[49m\u001b[43m(\u001b[49m\u001b[43mimg\u001b[49m\u001b[38;5;241;43m=\u001b[39;49m\u001b[43mimg\u001b[49m\u001b[43m)\u001b[49m\n",
      "Input \u001b[1;32mIn [249]\u001b[0m, in \u001b[0;36mdetact_correct\u001b[1;34m(img)\u001b[0m\n\u001b[0;32m     22\u001b[0m     img\u001b[38;5;241m=\u001b[39mimg\u001b[38;5;241m/\u001b[39m\u001b[38;5;241m255\u001b[39m\n\u001b[0;32m     23\u001b[0m     img \u001b[38;5;241m=\u001b[39m skeletonize(img)\n\u001b[1;32m---> 24\u001b[0m     lines_ver \u001b[38;5;241m=\u001b[39m \u001b[43mcv2\u001b[49m\u001b[38;5;241;43m.\u001b[39;49m\u001b[43mHoughLinesP\u001b[49m\u001b[43m(\u001b[49m\u001b[43mimg\u001b[49m\u001b[43m,\u001b[49m\u001b[38;5;241;43m1\u001b[39;49m\u001b[43m,\u001b[49m\u001b[43mnp\u001b[49m\u001b[38;5;241;43m.\u001b[39;49m\u001b[43mpi\u001b[49m\u001b[38;5;241;43m/\u001b[39;49m\u001b[38;5;241;43m180\u001b[39;49m\u001b[43m,\u001b[49m\u001b[38;5;241;43m40\u001b[39;49m\u001b[43m,\u001b[49m\u001b[43mminLineLength\u001b[49m\u001b[38;5;241;43m=\u001b[39;49m\u001b[38;5;241;43m5\u001b[39;49m\u001b[43m,\u001b[49m\u001b[43mmaxLineGap\u001b[49m\u001b[38;5;241;43m=\u001b[39;49m\u001b[38;5;241;43m10\u001b[39;49m\u001b[43m)\u001b[49m\n\u001b[0;32m     25\u001b[0m \u001b[38;5;66;03m#     print(len(lines_ver))\u001b[39;00m\n\u001b[0;32m     26\u001b[0m     show_images([img], [\u001b[38;5;124m'\u001b[39m\u001b[38;5;124moriginal\u001b[39m\u001b[38;5;124m'\u001b[39m])\n",
      "\u001b[1;31merror\u001b[0m: OpenCV(4.6.0) :-1: error: (-5:Bad argument) in function 'HoughLinesP'\n> Overload resolution failed:\n>  - image data type = 0 is not supported\n>  - Expected Ptr<cv::UMat> for argument 'image'\n"
     ]
    }
   ],
   "source": [
    "def detact_correct (img):\n",
    "   \n",
    "    img = cv2.cvtColor(img,cv2.COLOR_BGR2GRAY)\n",
    "#     kernel = np.array([[-1,-1,-1], [-1,9,-1], [-1,-1,-1]])\n",
    "#     img = convolve2d(~img,  kernel)\n",
    "#     show_images([img], ['original'])\n",
    "    blur = cv2.GaussianBlur(img , (0,0), sigmaX=100, sigmaY=100)\n",
    "  \n",
    " #     img = cv2.divide(img, blur, scale=255)\n",
    "#     img=cv2.adaptiveThreshold(img, 255, cv2.ADAPTIVE_THRESH_GAUSSIAN_C, \n",
    "#             cv2.THRESH_BINARY, 51, 15)\n",
    "#     show_images([divide], ['original'])\n",
    "    (thresh, img) = cv2.threshold(img, 128, 255,cv2.THRESH_BINARY | cv2.THRESH_OTSU)\n",
    "    img = 255-img\n",
    "# #     kernel = cv2.getStructuringElement(cv2.MORPH_RECT, (3,3))\n",
    "# #     morph = cv2.morphologyEx(img_bin, cv2.MORPH_CLOSE, kernel)\n",
    "#     show_images([img_bin], ['original'])\n",
    "#     kernel = cv2.getStructuringElement(cv2.MORPH_RECT, (2, 2))\n",
    "# #     img = cv2.erode(~img, kernel, iterations=1)\n",
    "#     img = cv2.dilate(~img, kernel, iterations=2)\n",
    "#     img = cv2.erode(img, kernel, iterations=2)\n",
    "    img=img/255\n",
    "    img = skeletonize(img)\n",
    "   \n",
    "#     print(len(lines_ver))\n",
    "    show_images([img], ['original'])\n",
    "    lines_ver = cv2.HoughLinesP(img,1,np.pi/180,40,minLineLength=5,maxLineGap=10)\n",
    "    for line  in lines_ver:\n",
    "        for x1, y1, x2, y2 in line:\n",
    "            print(abs((y2-y1)/(x2-x1)))\n",
    "            img=cv2.line(img,(x1,y1),(x2,y2),(255,255,255),1)\n",
    "    show_images([img], ['original'])\n",
    "detact_correct(img=img)"
   ]
  },
  {
   "cell_type": "code",
   "execution_count": 238,
   "id": "559f88e9",
   "metadata": {},
   "outputs": [
    {
     "ename": "SyntaxError",
     "evalue": "expression cannot contain assignment, perhaps you meant \"==\"? (3955756865.py, line 5)",
     "output_type": "error",
     "traceback": [
      "\u001b[1;36m  Input \u001b[1;32mIn [238]\u001b[1;36m\u001b[0m\n\u001b[1;33m    img = cv2.dilate(~img, kernel, iterations=)\u001b[0m\n\u001b[1;37m                                   ^\u001b[0m\n\u001b[1;31mSyntaxError\u001b[0m\u001b[1;31m:\u001b[0m expression cannot contain assignment, perhaps you meant \"==\"?\n"
     ]
    }
   ],
   "source": [
    "def detact_correct (img):\n",
    "\n",
    "    img = cv2.cvtColor(img,cv2.COLOR_BGR2GRAY)\n",
    "    kernel =np.ones([2, 2], dtype = int)\n",
    "    img = cv2.dilate(~img, kernel, iterations=)\n",
    "    img = cv2.erode(img, kernel, iterations=3)\n",
    "    show_images([img], ['original'])\n",
    "    img=cv2.adaptiveThreshold(img, 255, cv2.ADAPTIVE_THRESH_GAUSSIAN_C, \n",
    "            cv2.THRESH_BINARY, 51, 15)\n",
    "  \n",
    "    kernel =np.ones([2, 2], dtype = int)\n",
    "\n",
    "    (thresh, img_bin) = cv2.threshold(img, 128, 255,cv2.THRESH_BINARY | cv2.THRESH_OTSU)\n",
    "  \n",
    "    lines_ver = cv2.HoughLinesP(img_bin,1,np.pi/180,20,minLineLength=2,maxLineGap=20)\n",
    "    print(len(lines_ver))\n",
    "    show_images([img_bin], ['original'])\n",
    "detact_correct(img=img)"
   ]
  },
  {
   "cell_type": "code",
   "execution_count": null,
   "id": "2f865a67",
   "metadata": {},
   "outputs": [],
   "source": []
  }
 ],
 "metadata": {
  "kernelspec": {
   "display_name": "Python 3 (ipykernel)",
   "language": "python",
   "name": "python3"
  },
  "language_info": {
   "codemirror_mode": {
    "name": "ipython",
    "version": 3
   },
   "file_extension": ".py",
   "mimetype": "text/x-python",
   "name": "python",
   "nbconvert_exporter": "python",
   "pygments_lexer": "ipython3",
   "version": "3.9.2"
  }
 },
 "nbformat": 4,
 "nbformat_minor": 5
}
