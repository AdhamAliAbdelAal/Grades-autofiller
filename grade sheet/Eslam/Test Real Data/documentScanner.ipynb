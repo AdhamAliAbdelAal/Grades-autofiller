{
 "cells": [
  {
   "cell_type": "code",
   "execution_count": 8,
   "id": "c2190689",
   "metadata": {},
   "outputs": [],
   "source": [
    "import cv2\n",
    "import numpy as np\n",
    "from crop_image import *\n",
    "import matplotlib.pyplot as plt"
   ]
  },
  {
   "cell_type": "code",
   "execution_count": 9,
   "id": "7caab35b",
   "metadata": {},
   "outputs": [],
   "source": [
    "def extract_the_paper_from_image(image):\n",
    "    paper = None\n",
    "    gray_scale = cv2.cvtColor(image, cv2.COLOR_BGR2GRAY)\n",
    "    cv2.imwrite('./zz333.jpg',gray_scale) \n",
    "    edged = cv2.Canny(gray_scale, 75, 200)\n",
    "    cv2.imwrite('./zedge.jpg',edged) \n",
    "    contours, _ = cv2.findContours(edged,\n",
    "                                   cv2.RETR_EXTERNAL, cv2.CHAIN_APPROX_NONE)\n",
    "    if (len(contours) > 0):\n",
    "        contours = sorted(contours, key=cv2.contourArea, reverse=True)\n",
    "        paper_contour = None\n",
    "        for cnt in contours:\n",
    "            peri = cv2.arcLength(cnt, True)\n",
    "            ratio = 0.01\n",
    "            approx = cv2.approxPolyDP(cnt, ratio*peri, True)\n",
    "            if (len(approx) == 4):\n",
    "                paper_contour = approx\n",
    "                break\n",
    "        paper = four_point_transform(image, paper_contour.reshape(4, 2))\n",
    "    return paper"
   ]
  },
  {
   "cell_type": "code",
   "execution_count": 12,
   "id": "e3e7122d",
   "metadata": {},
   "outputs": [],
   "source": [
    "img=img = cv2.imread('../../1.jpg')\n",
    "paper=extract_the_paper_from_image(img)"
   ]
  },
  {
   "cell_type": "code",
   "execution_count": null,
   "id": "b6f53976",
   "metadata": {},
   "outputs": [],
   "source": []
  }
 ],
 "metadata": {
  "kernelspec": {
   "display_name": "Python 3 (ipykernel)",
   "language": "python",
   "name": "python3"
  },
  "language_info": {
   "codemirror_mode": {
    "name": "ipython",
    "version": 3
   },
   "file_extension": ".py",
   "mimetype": "text/x-python",
   "name": "python",
   "nbconvert_exporter": "python",
   "pygments_lexer": "ipython3",
   "version": "3.9.2"
  }
 },
 "nbformat": 4,
 "nbformat_minor": 5
}
