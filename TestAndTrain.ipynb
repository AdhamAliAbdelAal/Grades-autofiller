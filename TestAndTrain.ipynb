{
 "cells": [
  {
   "cell_type": "code",
   "execution_count": 3,
   "id": "29fa84c9",
   "metadata": {},
   "outputs": [],
   "source": [
    "import cv2\n",
    "import numpy as np"
   ]
  },
  {
   "cell_type": "code",
   "execution_count": 4,
   "id": "b3263f44",
   "metadata": {},
   "outputs": [],
   "source": [
    "#variable that will help us to resize the extracted handwritten digits\n",
    "RESIZED_IMAGE_WIDTH = 30\n",
    "RESIZED_IMAGE_HEIGHT= 40"
   ]
  },
  {
   "cell_type": "code",
   "execution_count": 5,
   "id": "73599a13",
   "metadata": {},
   "outputs": [
    {
     "name": "stdout",
     "output_type": "stream",
     "text": [
      "[[0. 0. 0. ... 0. 0. 0.]\n",
      " [0. 0. 0. ... 0. 0. 0.]\n",
      " [0. 0. 0. ... 0. 0. 0.]\n",
      " ...\n",
      " [0. 0. 0. ... 0. 0. 0.]\n",
      " [0. 0. 0. ... 0. 0. 0.]\n",
      " [0. 0. 0. ... 0. 0. 0.]]\n"
     ]
    }
   ],
   "source": [
    "#load classifiers on variables\n",
    "digitClassifications = np.loadtxt(\"classifications.txt\", np.float32)\n",
    "flatDigitImages = np.loadtxt(\"flatDigitImages.txt\", np.float32)\n",
    "print(flatDigitImages)"
   ]
  },
  {
   "cell_type": "code",
   "execution_count": 6,
   "id": "69095a41",
   "metadata": {},
   "outputs": [],
   "source": [
    "#convert digitClassifications into 1-d array (needed for KNN algorithm)\n",
    "digitClassifications = digitClassifications.reshape((digitClassifications.size, 1))"
   ]
  },
  {
   "cell_type": "code",
   "execution_count": 7,
   "id": "295285c8",
   "metadata": {
    "scrolled": true
   },
   "outputs": [
    {
     "data": {
      "text/plain": [
       "True"
      ]
     },
     "execution_count": 7,
     "metadata": {},
     "output_type": "execute_result"
    }
   ],
   "source": [
    "#creates empty KNearest classifier.\n",
    "knn = cv2.ml.KNearest_create()\n",
    "KNearest = knn\n",
    "knn.train(flatDigitImages, cv2.ml.ROW_SAMPLE, digitClassifications)"
   ]
  },
  {
   "cell_type": "code",
   "execution_count": 8,
   "id": "09ee99c9",
   "metadata": {},
   "outputs": [],
   "source": [
    "imgTestSample = cv2.imread(\"id dataset/test_image/2.png\")\n",
    "bf = cv2.bilateralFilter(imgTestSample, 50, 100, 100) #to remove noise\n",
    "imgGray = cv2.cvtColor(bf, cv2.COLOR_BGR2GRAY)"
   ]
  },
  {
   "cell_type": "code",
   "execution_count": 9,
   "id": "0edbf018",
   "metadata": {},
   "outputs": [],
   "source": [
    "retVal, th = cv2.threshold(imgGray, 150, 255, cv2.CHAIN_APPROX_NONE)\n",
    "# cv2.imshow('test sample',th)\n",
    "# cv2.waitKey(0)"
   ]
  },
  {
   "cell_type": "code",
   "execution_count": null,
   "id": "bc68e8c0",
   "metadata": {},
   "outputs": [],
   "source": []
  },
  {
   "cell_type": "code",
   "execution_count": 10,
   "id": "c5353a43",
   "metadata": {},
   "outputs": [],
   "source": []
  },
  {
   "cell_type": "code",
   "execution_count": 40,
   "id": "c94f8210",
   "metadata": {},
   "outputs": [
    {
     "name": "stdout",
     "output_type": "stream",
     "text": [
      "88\n",
      "128331\n",
      "128331\n",
      "2\n",
      "299\n",
      "322\n",
      "460\n",
      "391\n",
      "9\n",
      "299\n",
      "437\n",
      "391\n",
      "506\n",
      "414\n",
      "368\n",
      "483\n",
      "330\n",
      "414\n",
      "368\n",
      "299\n",
      "462\n",
      "460\n",
      "440\n",
      "66\n",
      "400\n",
      "462\n",
      "462\n",
      "418\n",
      "330\n",
      "25\n",
      "484\n",
      "484\n",
      "418\n",
      "440\n",
      "30\n",
      "418\n",
      "483\n",
      "484\n",
      "506\n",
      "40\n",
      "396\n",
      "30\n",
      "88\n",
      "176\n",
      "374\n",
      "154\n",
      "176\n",
      "88\n",
      "198\n",
      "198\n",
      "418\n",
      "374\n",
      "264\n",
      "110\n",
      "264\n",
      "110\n",
      "110\n",
      "198\n",
      "308\n",
      "160\n",
      "391\n",
      "300\n",
      "506\n",
      "272\n",
      "440\n",
      "240\n",
      "286\n",
      "180\n",
      "462\n",
      "306\n",
      "440\n",
      "255\n",
      "374\n",
      "140\n",
      "396\n",
      "208\n",
      "462\n",
      "342\n",
      "264\n",
      "220\n",
      "352\n",
      "198\n",
      "460\n",
      "256\n",
      "460\n",
      "289\n",
      "322\n",
      "180\n",
      "460\n",
      "33333333333333332222222222222222111111111111110000000000000000000000000000000\n"
     ]
    }
   ],
   "source": [
    "# cv2.drawContours(imgTestSample, contours, -1, (0,255,0), 3)\n",
    "# cv2.imshow('test sample',imgTestSample)\n",
    "# cv2.waitKey(0)\n",
    "# find the biggest countour (c) by the area\n",
    "strFinalString = \"\"\n",
    "contours, h = cv2.findContours(th, cv2.RETR_EXTERNAL, cv2.CHAIN_APPROX_SIMPLE)\n",
    "cnt = sorted(contours, key=cv2.contourArea)\n",
    "c= cnt[0]\n",
    "[intX, intY, intW, intH] = cv2.boundingRect(c)   \n",
    "imgDigit = th[intY:intY+intH, intX:intX+intW]\n",
    "cv2.imshow('test sample',imgDigit)\n",
    "cv2.waitKey(0)\n",
    "\n",
    "\n",
    "cntr, h = cv2.findContours(imgDigit, cv2.RETR_TREE, cv2.CHAIN_APPROX_SIMPLE)\n",
    "print(len(cntr))\n",
    "for myc in cntr:\n",
    "    [intX, intY, intW, intH] = cv2.boundingRect(myc)\n",
    "    imgROI = imgDigit[intY:intY+intH, intX:intX+intW]\n",
    "    print(imgROI.shape[0]*imgROI.shape[1])\n",
    "    if(imgROI.shape[0]*imgROI.shape[1] > 100 and imgROI.shape[0]*imgROI.shape[1] < 1000):\n",
    "        imgROIResized = cv2.resize(imgROI, (RESIZED_IMAGE_WIDTH, RESIZED_IMAGE_HEIGHT))\n",
    "\n",
    "        cv2.imshow('test sample',imgROI)\n",
    "        cv2.waitKey(0)\n",
    "\n",
    "        finalResized = imgROIResized.reshape((1,RESIZED_IMAGE_WIDTH*RESIZED_IMAGE_HEIGHT))\n",
    "        finalResized = np.float32(finalResized)\n",
    "\n",
    "        retVal, results, resp, dist =KNearest.findNearest(finalResized, k=1)\n",
    "\n",
    "        tmpString = str(int(results[0][0]))\n",
    "        strFinalString = strFinalString + tmpString\n",
    "\n",
    "print(strFinalString)   \n"
   ]
  },
  {
   "cell_type": "code",
   "execution_count": null,
   "id": "fec3acc0",
   "metadata": {},
   "outputs": [],
   "source": []
  },
  {
   "cell_type": "code",
   "execution_count": null,
   "id": "0fb8d1cf",
   "metadata": {},
   "outputs": [],
   "source": []
  },
  {
   "cell_type": "code",
   "execution_count": null,
   "id": "5395a420",
   "metadata": {},
   "outputs": [],
   "source": []
  }
 ],
 "metadata": {
  "kernelspec": {
   "display_name": "Python 3 (ipykernel)",
   "language": "python",
   "name": "python3"
  },
  "language_info": {
   "codemirror_mode": {
    "name": "ipython",
    "version": 3
   },
   "file_extension": ".py",
   "mimetype": "text/x-python",
   "name": "python",
   "nbconvert_exporter": "python",
   "pygments_lexer": "ipython3",
   "version": "3.9.12"
  }
 },
 "nbformat": 4,
 "nbformat_minor": 5
}
