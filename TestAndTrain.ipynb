{
 "cells": [
  {
   "cell_type": "code",
   "execution_count": 79,
   "id": "29fa84c9",
   "metadata": {},
   "outputs": [],
   "source": [
    "import cv2\n",
    "import numpy as np\n",
    "from imutils import contours as imcnts"
   ]
  },
  {
   "cell_type": "code",
   "execution_count": 80,
   "id": "b3263f44",
   "metadata": {},
   "outputs": [],
   "source": [
    "#variable that will help us to resize the extracted handwritten digits\n",
    "RESIZED_IMAGE_WIDTH = 30\n",
    "RESIZED_IMAGE_HEIGHT= 40"
   ]
  },
  {
   "cell_type": "code",
   "execution_count": 81,
   "id": "73599a13",
   "metadata": {},
   "outputs": [
    {
     "name": "stdout",
     "output_type": "stream",
     "text": [
      "[[  0.   0.   0. ...   0.   0.   0.]\n",
      " [  0.   0.   0. ...   0.   0.   0.]\n",
      " [  0.   0.   0. ...   0.   0.   0.]\n",
      " ...\n",
      " [  0.   0.   0. ... 255. 255. 255.]\n",
      " [  0.   0.   0. ...   0.   0.   0.]\n",
      " [  0.   0.   0. ... 127.  25.   0.]]\n"
     ]
    }
   ],
   "source": [
    "#load classifiers on variables\n",
    "digitClassifications = np.loadtxt(\"classifications.txt\", np.float32)\n",
    "flatDigitImages = np.loadtxt(\"flatDigitImages.txt\", np.float32)\n",
    "print(flatDigitImages)"
   ]
  },
  {
   "cell_type": "code",
   "execution_count": 82,
   "id": "69095a41",
   "metadata": {},
   "outputs": [],
   "source": [
    "#convert digitClassifications into 1-d array (needed for KNN algorithm)\n",
    "digitClassifications = digitClassifications.reshape((digitClassifications.size, 1))"
   ]
  },
  {
   "cell_type": "code",
   "execution_count": 83,
   "id": "295285c8",
   "metadata": {
    "scrolled": true
   },
   "outputs": [
    {
     "data": {
      "text/plain": [
       "True"
      ]
     },
     "execution_count": 83,
     "metadata": {},
     "output_type": "execute_result"
    }
   ],
   "source": [
    "#creates empty KNearest classifier.\n",
    "knn = cv2.ml.KNearest_create()\n",
    "KNearest = knn\n",
    "knn.train(flatDigitImages, cv2.ml.ROW_SAMPLE, digitClassifications)"
   ]
  },
  {
   "cell_type": "code",
   "execution_count": 84,
   "id": "09ee99c9",
   "metadata": {},
   "outputs": [],
   "source": [
    "imgTestSample = cv2.imread(\"id dataset/test_image/4.jpg\")\n",
    "#th = imgTestSample \n",
    "#th=np.invert(th)\n",
    "bf = cv2.bilateralFilter(imgTestSample, 50, 100, 100) #to remove noise\n",
    "imgGray = cv2.cvtColor(bf, cv2.COLOR_BGR2GRAY)\n",
    "# cv2.imshow('test sample',imgGray)\n",
    "# cv2.waitKey(0)"
   ]
  },
  {
   "cell_type": "code",
   "execution_count": 85,
   "id": "0edbf018",
   "metadata": {},
   "outputs": [
    {
     "data": {
      "text/plain": [
       "-1"
      ]
     },
     "execution_count": 85,
     "metadata": {},
     "output_type": "execute_result"
    }
   ],
   "source": [
    "#retVal, th = cv2.threshold(imgGray, 140, 255, cv2.CHAIN_APPROX_NONE)\n",
    "\n",
    "\n",
    "th = cv2.adaptiveThreshold(imgGray, 255, cv2.ADAPTIVE_THRESH_MEAN_C, cv2.THRESH_BINARY,7 , 3)\n",
    "th=np.invert(th)\n",
    "cv2.imshow('test sample',th)\n",
    "cv2.waitKey(0)\n",
    "# opening = cv2.morphologyEx(th, cv2.MORPH_OPEN, np.ones((1, 2), np.uint8))\n",
    "# cv2.imshow('test sample',opening)\n",
    "# cv2.waitKey(0)\n",
    "# dilation = cv2.dilate(opening, np.ones((2, 1), np.uint8),iterations=1)\n",
    "# cv2.imshow('test sample',dilation)\n",
    "# cv2.waitKey(0)"
   ]
  },
  {
   "cell_type": "code",
   "execution_count": null,
   "id": "bc68e8c0",
   "metadata": {},
   "outputs": [],
   "source": []
  },
  {
   "cell_type": "code",
   "execution_count": 86,
   "id": "c5353a43",
   "metadata": {},
   "outputs": [],
   "source": [
    "# contours, h = cv2.findContours(th, cv2.RETR_EXTERNAL, cv2.CHAIN_APPROX_SIMPLE)\n",
    "# cnt = sorted(contours, key=cv2.contourArea, reverse=True)\n",
    "# c = cnt[0]\n",
    "# [intX, intY, intW, intH] = cv2.boundingRect(c)   \n",
    "# imgDigit = th[intY:intY+intH, intX:intX+intW]\n",
    "# cv2.imshow('id box',imgDigit)\n",
    "# cv2.waitKey(0)\n",
    "imgDigit = th"
   ]
  },
  {
   "cell_type": "code",
   "execution_count": 88,
   "id": "c94f8210",
   "metadata": {},
   "outputs": [
    {
     "name": "stdout",
     "output_type": "stream",
     "text": [
      "7\n",
      "break\n",
      "7\n",
      "2180255\n"
     ]
    }
   ],
   "source": [
    "# cv2.drawContours(imgTestSample, contours, -1, (0,255,0), 3)\n",
    "# cv2.imshow('test sample',imgTestSample)\n",
    "# cv2.waitKey(0)\n",
    "# find the biggest countour (c) by the area\n",
    "strFinalString = \"\"\n",
    "while True:\n",
    "        contours, h = cv2.findContours(th, cv2.RETR_EXTERNAL, cv2.CHAIN_APPROX_SIMPLE)\n",
    "        print(len(contours))\n",
    "        cnt = sorted(contours, key=cv2.contourArea, reverse=True)\n",
    "        if(cv2.contourArea(cnt[0])<0.4*imgDigit.shape[0]*imgDigit.shape[1]):\n",
    "            print('break')\n",
    "            cv2.imshow('id box',imgDigit)\n",
    "            cv2.waitKey(0)\n",
    "            break\n",
    "        else:\n",
    "            print('hi')\n",
    "            c = cnt[0]\n",
    "            [intX, intY, intW, intH] = cv2.boundingRect(c)   \n",
    "            imgDigit = imgDigit[intY+5:intY+intH-5, intX+5:intX+intW-5]\n",
    "            cv2.imshow('id box',imgDigit)\n",
    "            cv2.waitKey(0)\n",
    "            \n",
    "            \n",
    "cntr, h = cv2.findContours(imgDigit, cv2.RETR_EXTERNAL, cv2.CHAIN_APPROX_SIMPLE)\n",
    "cntr,_=imcnts.sort_contours(cntr,method='left-to-right')\n",
    "print(len(cntr))\n",
    "for myc in cntr:\n",
    "    [intX, intY, intW, intH] = cv2.boundingRect(myc)\n",
    "    imgROI = imgDigit[intY:intY+intH, intX:intX+intW]\n",
    "    #if(imgROI.shape[0]*imgROI.shape[1] > 100 and imgROI.shape[0]*imgROI.shape[1] < 1000):\n",
    "    imgROIResized = cv2.resize(imgROI, (RESIZED_IMAGE_WIDTH, RESIZED_IMAGE_HEIGHT))\n",
    "\n",
    "    cv2.imshow('test sample',imgROI)\n",
    "    cv2.waitKey(0)\n",
    "\n",
    "    finalResized = imgROIResized.reshape((1,RESIZED_IMAGE_WIDTH*RESIZED_IMAGE_HEIGHT))\n",
    "    finalResized = np.float32(finalResized)\n",
    "\n",
    "    retVal, results, resp, dist =KNearest.findNearest(finalResized, k=1)\n",
    "\n",
    "    tmpString = str(int(results[0][0]))\n",
    "    strFinalString = strFinalString + tmpString\n",
    "\n",
    "print(strFinalString)   \n"
   ]
  },
  {
   "cell_type": "code",
   "execution_count": null,
   "id": "fec3acc0",
   "metadata": {},
   "outputs": [],
   "source": []
  },
  {
   "cell_type": "code",
   "execution_count": null,
   "id": "0fb8d1cf",
   "metadata": {},
   "outputs": [],
   "source": []
  },
  {
   "cell_type": "code",
   "execution_count": null,
   "id": "5395a420",
   "metadata": {},
   "outputs": [],
   "source": []
  }
 ],
 "metadata": {
  "kernelspec": {
   "display_name": "Python 3 (ipykernel)",
   "language": "python",
   "name": "python3"
  },
  "language_info": {
   "codemirror_mode": {
    "name": "ipython",
    "version": 3
   },
   "file_extension": ".py",
   "mimetype": "text/x-python",
   "name": "python",
   "nbconvert_exporter": "python",
   "pygments_lexer": "ipython3",
   "version": "3.9.12"
  }
 },
 "nbformat": 4,
 "nbformat_minor": 5
}
