{
 "cells": [
  {
   "cell_type": "code",
   "execution_count": 391,
   "id": "5b4c1051",
   "metadata": {},
   "outputs": [],
   "source": [
    "import cv2\n",
    "import numpy as np\n",
    "from matplotlib import pyplot as plt\n",
    "from crop_image import *\n",
    "import imutils\n",
    "from imutils import contours as imcnts\n",
    "import skimage.io as io\n",
    "from skimage.exposure import histogram\n",
    "from bubble_sheet_answer import *\n",
    "from paper_extraction import *\n",
    "%matplotlib inline"
   ]
  },
  {
   "cell_type": "code",
   "execution_count": 335,
   "id": "2021ae1a",
   "metadata": {},
   "outputs": [
    {
     "data": {
      "text/plain": [
       "-1"
      ]
     },
     "execution_count": 335,
     "metadata": {},
     "output_type": "execute_result"
    }
   ],
   "source": [
    "image = cv2.imread('omr.jpg')\n",
    "cv2.imshow('omr.jpg',image)\n",
    "cv2.waitKey(0)"
   ]
  },
  {
   "cell_type": "code",
   "execution_count": 336,
   "id": "d32f254a",
   "metadata": {},
   "outputs": [
    {
     "data": {
      "text/plain": [
       "-1"
      ]
     },
     "execution_count": 336,
     "metadata": {},
     "output_type": "execute_result"
    }
   ],
   "source": [
    "gray_scale = cv2.cvtColor(image,cv2.COLOR_BGR2GRAY)\n",
    "cv2.imshow('gray scale image.jpg',gray_scale)\n",
    "cv2.waitKey(0)"
   ]
  },
  {
   "cell_type": "code",
   "execution_count": 337,
   "id": "4f332775",
   "metadata": {},
   "outputs": [
    {
     "data": {
      "text/plain": [
       "\"gaussian = cv2.GaussianBlur(image,(3,3),0)\\ncv2.imshow('image',gaussian)\\ncv2.waitKey(0)\""
      ]
     },
     "execution_count": 337,
     "metadata": {},
     "output_type": "execute_result"
    }
   ],
   "source": [
    "\"\"\"gaussian = cv2.GaussianBlur(image,(3,3),0)\n",
    "cv2.imshow('image',gaussian)\n",
    "cv2.waitKey(0)\"\"\""
   ]
  },
  {
   "cell_type": "code",
   "execution_count": 338,
   "id": "129f7331",
   "metadata": {},
   "outputs": [],
   "source": [
    "edged = cv2.Canny(gray_scale,50,200)\n",
    "# cv2.imshow('edged.jpg',edged)\n",
    "# cv2.waitKey(0)"
   ]
  },
  {
   "cell_type": "code",
   "execution_count": 339,
   "id": "4a52a783",
   "metadata": {},
   "outputs": [
    {
     "name": "stdout",
     "output_type": "stream",
     "text": [
      "Number of Contours found = 3\n"
     ]
    }
   ],
   "source": [
    "contours,_= cv2.findContours(edged, \n",
    "    cv2.RETR_EXTERNAL, cv2.CHAIN_APPROX_NONE)\n",
    "\n",
    "print(\"Number of Contours found = \" + str(len(contours)))\n",
    "  \n",
    "cv2.drawContours(image, contours, -1,(0,255,0), 3)\n",
    "  \n",
    "# cv2.imshow('Contours.jpg', image)\n",
    "# cv2.waitKey(0)\n",
    "image = cv2.imread('omr.jpg')"
   ]
  },
  {
   "cell_type": "code",
   "execution_count": 340,
   "id": "e23dc35c",
   "metadata": {},
   "outputs": [],
   "source": [
    "#sorting all contours\n",
    "if(len(contours)>0):\n",
    "    contours=sorted(contours,key=cv2.contourArea,reverse=True)"
   ]
  },
  {
   "cell_type": "code",
   "execution_count": 341,
   "id": "bba4dbc4",
   "metadata": {},
   "outputs": [],
   "source": [
    "cv2.drawContours(image, contours, 0,(0,255,0), 3)\n",
    "  \n",
    "# cv2.imshow('Contours3.jpg', image)\n",
    "# cv2.waitKey(0)\n",
    "image = cv2.imread('omr.jpg')"
   ]
  },
  {
   "cell_type": "code",
   "execution_count": 342,
   "id": "3b88da12",
   "metadata": {},
   "outputs": [
    {
     "name": "stdout",
     "output_type": "stream",
     "text": [
      "2800.3675310611725\n",
      "4\n"
     ]
    }
   ],
   "source": [
    "paper_contour=None\n",
    "for cnt in contours:\n",
    "    peri = cv2.arcLength(cnt,True)\n",
    "    print(peri)\n",
    "    # to approximate the given shape to polygon (high value leads to underestimation and low value leads to overestimation)\n",
    "    ratio=0.02\n",
    "    approx=cv2.approxPolyDP(cnt,ratio*peri,True)\n",
    "    cv2.drawContours(image, [approx], 0,(0,0,255), 3)\n",
    "    print(len(approx))\n",
    "    coordinates=approx.ravel()\n",
    "    for i in range(0,len(coordinates),2):\n",
    "        x=coordinates[i]\n",
    "        y=coordinates[i+1]\n",
    "        cv2.putText(image, \"vertex\"+str(i//2), (x, y),cv2.FONT_HERSHEY_COMPLEX, 0.5, (255, 0, 0)) \n",
    "    if(len(approx)==4):\n",
    "        paper_contour=approx\n",
    "        break\n",
    "# cv2.imshow('Contours2.jpg', image)\n",
    "# cv2.waitKey(0)\n",
    "image = cv2.imread('omr.jpg')"
   ]
  },
  {
   "cell_type": "code",
   "execution_count": 343,
   "id": "beebe794",
   "metadata": {},
   "outputs": [
    {
     "name": "stdout",
     "output_type": "stream",
     "text": [
      "(4, 1, 2)\n"
     ]
    }
   ],
   "source": [
    "print(paper_contour.shape)"
   ]
  },
  {
   "cell_type": "code",
   "execution_count": 385,
   "id": "15bf9dfc",
   "metadata": {},
   "outputs": [
    {
     "data": {
      "text/plain": [
       "-1"
      ]
     },
     "execution_count": 385,
     "metadata": {},
     "output_type": "execute_result"
    }
   ],
   "source": [
    "paper= four_point_transform(image, paper_contour.reshape(4, 2))  \n",
    "cv2.imshow('paper', paper)\n",
    "cv2.waitKey(0)"
   ]
  },
  {
   "cell_type": "code",
   "execution_count": 386,
   "id": "2256f836",
   "metadata": {},
   "outputs": [
    {
     "data": {
      "text/plain": [
       "-1"
      ]
     },
     "execution_count": 386,
     "metadata": {},
     "output_type": "execute_result"
    }
   ],
   "source": [
    "gray_scale_paper= four_point_transform(gray_scale, paper_contour.reshape(4, 2))  \n",
    "gray_scale_paper= four_point_transform(gray_scale_paper, paper_contour.reshape(4, 2))  \n",
    "cv2.imshow('paper', gray_scale_paper)\n",
    "cv2.waitKey(0)"
   ]
  },
  {
   "cell_type": "code",
   "execution_count": 346,
   "id": "e54d9bef",
   "metadata": {},
   "outputs": [
    {
     "name": "stdout",
     "output_type": "stream",
     "text": [
      "[  5   6   7   8   9  10  11  12  13  14  15  16  17  18  19  20  21  22\n",
      "  23  24  25  26  27  28  29  30  31  32  33  34  35  36  37  38  39  40\n",
      "  41  42  43  44  45  46  47  48  49  50  51  52  53  54  55  56  57  58\n",
      "  59  60  61  62  63  64  65  66  67  68  69  70  71  72  73  74  75  76\n",
      "  77  78  79  80  81  82  83  84  85  86  87  88  89  90  91  92  93  94\n",
      "  95  96  97  98  99 100 101 102 103 104 105 106 107 108 109 110 111 112\n",
      " 113 114 115 116 117 118 119 120 121 122 123 124 125 126 127 128 129 130\n",
      " 131 132 133 134 135 136 137 138 139 140 141 142 143 144 145 146 147 148\n",
      " 149 150 151 152 153 154 155 156 157 158 159 160 161 162 163 164 165 166\n",
      " 167 168 169 170 171 172 173 174 175 176 177 178 179 180 181 182]\n"
     ]
    },
    {
     "data": {
      "image/png": "[encoded data removed]",
      "text/plain": [
       "<Figure size 640x480 with 1 Axes>"
      ]
     },
     "metadata": {},
     "output_type": "display_data"
    }
   ],
   "source": [
    "hist, bin_centers = histogram(gray_scale_paper,20)\n",
    "print(bin_centers)\n",
    "plt.figure()\n",
    "plt.bar(bin_centers, hist, width=0.8, align='center')\n",
    "plt.xlabel(\"graylevel\")\n",
    "plt.ylabel(\"frequency\")\n",
    "plt.show()"
   ]
  },
  {
   "cell_type": "code",
   "execution_count": 443,
   "id": "8ac29fb3",
   "metadata": {},
   "outputs": [
    {
     "data": {
      "text/plain": [
       "-1"
      ]
     },
     "execution_count": 443,
     "metadata": {},
     "output_type": "execute_result"
    }
   ],
   "source": [
    "image = cv2.imread('omr.jpg')\n",
    "cv2.imshow('omr.jpg',image)\n",
    "cv2.waitKey(0)\n",
    "gray_scale_paper=extract_the_paper_from_image(image)\n",
    "gray_scale_paper=extract_the_paper_from_image(gray_scale_paper)\n",
    "gray_scale_paper = cv2.cvtColor(gray_scale_paper,cv2.COLOR_BGR2GRAY)\n",
    "cv2.imshow('gray scale image.jpg',gray_scale)\n",
    "cv2.waitKey(0)"
   ]
  },
  {
   "cell_type": "code",
   "execution_count": 444,
   "id": "cc0586b5",
   "metadata": {},
   "outputs": [
    {
     "data": {
      "text/plain": [
       "-1"
      ]
     },
     "execution_count": 444,
     "metadata": {},
     "output_type": "execute_result"
    }
   ],
   "source": [
    "_,thresholded=cv2.threshold(gray_scale_paper,230,255, cv2.THRESH_BINARY_INV | cv2.THRESH_OTSU)\n",
    "cv2.imshow('paper1', thresholded)\n",
    "cv2.waitKey(0)"
   ]
  },
  {
   "cell_type": "code",
   "execution_count": 445,
   "id": "53c98da0",
   "metadata": {},
   "outputs": [],
   "source": [
    "# _,thresholded=cv2.threshold(gray_scale_paper,150,255, cv2.THRESH_BINARY_INV)\n",
    "# cv2.imshow('paper2', thresholded)\n",
    "# cv2.waitKey(0)"
   ]
  },
  {
   "cell_type": "code",
   "execution_count": 446,
   "id": "06cb63ec",
   "metadata": {},
   "outputs": [],
   "source": [
    "pap_cnts,_=cv2.findContours(thresholded, cv2.RETR_EXTERNAL, cv2.CHAIN_APPROX_SIMPLE)"
   ]
  },
  {
   "cell_type": "code",
   "execution_count": 447,
   "id": "4f4399a3",
   "metadata": {},
   "outputs": [],
   "source": [
    "def test_cnts(cnts):\n",
    "    cv2.drawContours(thresholded, cnts, -1,255, 3)\n",
    "  \n",
    "    cv2.imshow('Contours.jpg', thresholded)\n",
    "    cv2.waitKey(0)"
   ]
  },
  {
   "cell_type": "code",
   "execution_count": 448,
   "id": "89175552",
   "metadata": {},
   "outputs": [],
   "source": [
    "pre_question_cnts=[]\n",
    "value=(5,50)\n",
    "i=0\n",
    "for cnt in pap_cnts:\n",
    "    (x,y,w,h)=cv2.boundingRect(cnt)\n",
    "    aspect_ratio=w/h\n",
    "    if(w>=value[0] and w<=value[1] and h>=value[0] and h<=value[1] and aspect_ratio>=0.8 and aspect_ratio<=1.2):\n",
    "        pre_question_cnts.append(cnt)"
   ]
  },
  {
   "cell_type": "code",
   "execution_count": 449,
   "id": "8ba4b8d2",
   "metadata": {},
   "outputs": [
    {
     "name": "stdout",
     "output_type": "stream",
     "text": [
      "158 267\n"
     ]
    }
   ],
   "source": [
    "print(len(pre_question_cnts),len(pap_cnts))"
   ]
  },
  {
   "cell_type": "code",
   "execution_count": 450,
   "id": "b47d745a",
   "metadata": {
    "scrolled": true
   },
   "outputs": [
    {
     "name": "stdout",
     "output_type": "stream",
     "text": [
      "{390, 395, 525, 784, 663, 156, 431, 567, 704, 195, 76, 467, 599, 474, 605, 352, 487, 743, 235, 624, 369, 115, 507, 383}\n",
      "number of bubbles : 24\n",
      "differences: [ 39  41  39  40 117  17  14   7   5  36  36   7  13  20  18  42  32   6\n",
      "  19  39  41  39  41   0]\n",
      "14\n",
      "[39, 117, 17, 7, 36, 7, 13, 20, 42, 32, 6, 19, 39]\n",
      "[117, 17, 7]\n",
      "6 4\n"
     ]
    }
   ],
   "source": [
    "if(len(pre_question_cnts)!=0):\n",
    "    question_cnts,_=imcnts.sort_contours(pre_question_cnts,method='top-to-bottom')\n",
    "    xs_set=set()\n",
    "    i=0\n",
    "\n",
    "    for cnt in question_cnts:\n",
    "        (x,y,w,h)=cv2.boundingRect(cnt)\n",
    "        if(all([ x-i not in xs_set and x+i not in xs_set for i in np.arange(0,5)])):\n",
    "            xs_set.add(x)\n",
    "    number_of_bubbles=len(xs_set)\n",
    "    print(xs_set)\n",
    "    print(\"number of bubbles : \"+str(number_of_bubbles))\n",
    "    xs=np.array(list(sorted(xs_set)))\n",
    "    dist=np.append(xs[1:],xs[-1])-xs\n",
    "    print(\"differences:\" ,dist)\n",
    "    distance_set=[]\n",
    "    for diff in dist:\n",
    "        if(len(distance_set)==0 or all([ diff-i != distance_set[-1] and diff+i != distance_set[-1] for i in np.arange(0,5)])):\n",
    "            distance_set.append(diff)\n",
    "    print(len(distance_set))\n",
    "    distance_set.pop()\n",
    "    print(distance_set)\n",
    "    print(distance_set[1:4])\n",
    "    #distance_set=[1,1]\n",
    "    #print(\"print func\",)\n",
    "    number_of_columns=sum([x > distance_set[i] and x > distance_set[i+2] for i, x in enumerate(distance_set[1:-1])])+1\n",
    "    number_of_choices=number_of_bubbles//number_of_columns\n",
    "    print(number_of_choices,number_of_columns)"
   ]
  },
  {
   "cell_type": "code",
   "execution_count": 451,
   "id": "04e07d92",
   "metadata": {},
   "outputs": [
    {
     "name": "stdout",
     "output_type": "stream",
     "text": [
      "False\n"
     ]
    }
   ],
   "source": [
    "tt=[i>2 for i in np.arange(1,5)]\n",
    "print(all(tt))"
   ]
  },
  {
   "cell_type": "code",
   "execution_count": 452,
   "id": "5dcaa634",
   "metadata": {},
   "outputs": [],
   "source": [
    "# Answer_key= {0:1, 1:4, 2:0, 3:2}\n",
    "# correct=0\n",
    "# flag=False\n",
    "# cv2.drawContours(paper,question_cnts,0,(255,0,0), 1)\n",
    "# cv2.imshow('hgsvrgvj',paper)\n",
    "# cv2.waitKey(0)\n",
    "# cnt=question_cnts[0]\n",
    "# peri = cv2.arcLength(cnt,True)\n",
    "# #print(peri)\n",
    "# # to approximate the given shape to polygon (high value leads to underestimation and low value leads to overestimation)\n",
    "# ratio=0.00005\n",
    "# approx=cv2.approxPolyDP(cnt,ratio*peri,True)\n",
    "# (x,y,w,h)=cv2.boundingRect(cnt)\n",
    "# aspect_ratio=w/h\n",
    "# print(len(approx))\n",
    "# paper= four_point_transform(image, paper_contour.reshape(4, 2))  "
   ]
  },
  {
   "cell_type": "code",
   "execution_count": 453,
   "id": "8f73f4ea",
   "metadata": {},
   "outputs": [
    {
     "name": "stdout",
     "output_type": "stream",
     "text": [
      "158\n"
     ]
    }
   ],
   "source": [
    "print(len(question_cnts))"
   ]
  },
  {
   "cell_type": "code",
   "execution_count": 454,
   "id": "cafbe8f7",
   "metadata": {},
   "outputs": [],
   "source": [
    "#test_cnts(question_cnts)"
   ]
  },
  {
   "cell_type": "code",
   "execution_count": 455,
   "id": "8b34ad89",
   "metadata": {},
   "outputs": [],
   "source": [
    "# _,thresholded=cv2.threshold(gray_scale_paper,150,255, cv2.THRESH_BINARY_INV)\n",
    "# pap_cnts,_=cv2.findContours(thresholded, cv2.RETR_EXTERNAL, cv2.CHAIN_APPROX_SIMPLE)"
   ]
  },
  {
   "cell_type": "code",
   "execution_count": 456,
   "id": "8c1cfbb8",
   "metadata": {},
   "outputs": [],
   "source": [
    "colors=[(255,0,0)\n",
    ",(0,255,0)\n",
    ",(0,0,255)\n",
    ",(0,255,255)\n",
    ",(255,255,0)\n",
    ",(0,0,255)\n",
    ",(0,255,255)\n",
    ",(255,0,255)\n",
    ",(192,192,192)\n",
    ",(128,128,128)\n",
    ",(128,0,0)\n",
    ",(128,128,0)\n",
    ",(0,128,0)\n",
    ",(128,0,128)\n",
    ",(0,128,128)\n",
    ",(0,0,128),\n",
    "       (255,215,0)]"
   ]
  },
  {
   "cell_type": "code",
   "execution_count": 457,
   "id": "5802bab6",
   "metadata": {},
   "outputs": [
    {
     "name": "stdout",
     "output_type": "stream",
     "text": [
      "qestion#1: B\n",
      "qestion#2: F\n",
      "qestion#3: C\n",
      "qestion#4: F\n",
      "qestion#5: B\n",
      "qestion#6: A\n",
      "qestion#7: F\n",
      "qestion#8: F\n",
      "qestion#9: A\n",
      "qestion#10: A\n",
      "qestion#11: E\n",
      "qestion#12: A\n",
      "qestion#13: D\n",
      "qestion#14: D\n",
      "qestion#15: F\n",
      "qestion#16: C\n",
      "qestion#17: E\n",
      "qestion#18: A\n",
      "qestion#19: A\n",
      "qestion#20: C\n",
      "qestion#21: D\n",
      "qestion#22: E\n",
      "qestion#23: F\n",
      "qestion#24: D\n",
      "qestion#25: A\n",
      "qestion#26: B\n",
      "qestion#27: A\n",
      "7\n"
     ]
    }
   ],
   "source": [
    "counter=0\n",
    "qs=0\n",
    "for (row,i) in enumerate(np.arange(0,len(question_cnts),number_of_columns*number_of_choices)):\n",
    "\n",
    "    curr_row_cnts,_=imcnts.sort_contours(question_cnts[i:i+number_of_columns*number_of_choices])\n",
    "    for k in np.arange(0,len(curr_row_cnts),number_of_choices):\n",
    "        curr_ques_cnts=curr_row_cnts[k:k+number_of_choices]\n",
    "        color1=colors[qs%len(colors)]\n",
    "        cv2.drawContours(gray_scale_paper,curr_ques_cnts,-1,color1, 1)\n",
    "        bubbled=None\n",
    "        for (j,c) in enumerate(curr_ques_cnts):\n",
    "            mask = np.zeros(thresholded.shape, dtype=\"uint8\")\n",
    "            #negative one at the last arguement to fill the contours\n",
    "            cv2.drawContours(mask, [c], -1, 255, -1)\n",
    "            mask= cv2.bitwise_and(thresholded, mask)\n",
    "            total= cv2.countNonZero(mask)\n",
    "\n",
    "            if bubbled is None or total >bubbled[0]:\n",
    "                bubbled= (total, j)\n",
    "            color= (0, 0, 255)\n",
    "        print(f\"qestion#{qs+1}: {chr(bubbled[1]+ord('A'))}\")\n",
    "        qs+=1\n",
    "    counter+=1\n",
    "print(counter)\n",
    "counter=0\n",
    "cv2.imshow('paper', gray_scale_paper)\n",
    "cv2.waitKey(0)\n",
    "paper= four_point_transform(image, paper_contour.reshape(4, 2)) "
   ]
  },
  {
   "cell_type": "code",
   "execution_count": 438,
   "id": "fb3c8f00",
   "metadata": {},
   "outputs": [],
   "source": [
    "for i,cnt in enumerate(question_cnts):\n",
    "    color1=(255,0,0) if i%2==0 else (0,0,255)\n",
    "    cv2.drawContours(paper,[cnt],-1,color1, 1)\n",
    "# cv2.imshow('paper', paper)\n",
    "# cv2.waitKey(0)\n",
    "paper= four_point_transform(image, paper_contour.reshape(4, 2)) "
   ]
  },
  {
   "cell_type": "code",
   "execution_count": 439,
   "id": "dc815aef",
   "metadata": {},
   "outputs": [],
   "source": [
    "def show_images(images,titles=None):\n",
    "    #This function is used to show image(s) with titles by sending an array of images and an array of associated titles.\n",
    "    # images[0] will be drawn with the title titles[0] if exists\n",
    "    # You aren't required to understand this function, use it as-is.\n",
    "    n_ims = len(images)\n",
    "    if titles is None: titles = ['(%d)' % i for i in range(1,n_ims + 1)]\n",
    "    fig = plt.figure()\n",
    "    n = 1\n",
    "    for image,title in zip(images,titles):\n",
    "        a = fig.add_subplot(1,n_ims,n)\n",
    "        if image.ndim == 2: \n",
    "            plt.gray()\n",
    "        plt.imshow(image)\n",
    "        a.set_title(title)\n",
    "        n += 1\n",
    "    fig.set_size_inches(np.array(fig.get_size_inches()) * n_ims)\n",
    "    plt.show()\n",
    "\n"
   ]
  },
  {
   "cell_type": "code",
   "execution_count": 440,
   "id": "f282f666",
   "metadata": {},
   "outputs": [
    {
     "name": "stdout",
     "output_type": "stream",
     "text": [
      "[array([[[ 60, 285]],\n",
      "\n",
      "       [[ 59, 286]],\n",
      "\n",
      "       [[ 58, 286]],\n",
      "\n",
      "       ...,\n",
      "\n",
      "       [[ 63, 285]],\n",
      "\n",
      "       [[ 62, 285]],\n",
      "\n",
      "       [[ 61, 285]]], dtype=int32), array([[[ 0, 11]],\n",
      "\n",
      "       [[ 1, 11]],\n",
      "\n",
      "       [[ 2, 11]],\n",
      "\n",
      "       [[ 3, 11]],\n",
      "\n",
      "       [[ 4, 11]],\n",
      "\n",
      "       [[ 5, 11]],\n",
      "\n",
      "       [[ 6, 11]],\n",
      "\n",
      "       [[ 7, 11]],\n",
      "\n",
      "       [[ 8, 12]],\n",
      "\n",
      "       [[ 9, 12]],\n",
      "\n",
      "       [[10, 12]],\n",
      "\n",
      "       [[11, 12]],\n",
      "\n",
      "       [[12, 12]],\n",
      "\n",
      "       [[13, 12]],\n",
      "\n",
      "       [[14, 12]],\n",
      "\n",
      "       [[15, 12]],\n",
      "\n",
      "       [[16, 12]],\n",
      "\n",
      "       [[17, 12]],\n",
      "\n",
      "       [[18, 13]],\n",
      "\n",
      "       [[19, 13]],\n",
      "\n",
      "       [[20, 13]],\n",
      "\n",
      "       [[21, 13]],\n",
      "\n",
      "       [[22, 13]],\n",
      "\n",
      "       [[23, 13]],\n",
      "\n",
      "       [[24, 13]],\n",
      "\n",
      "       [[25, 13]],\n",
      "\n",
      "       [[26, 13]],\n",
      "\n",
      "       [[27, 13]],\n",
      "\n",
      "       [[28, 13]],\n",
      "\n",
      "       [[29, 13]],\n",
      "\n",
      "       [[30, 13]],\n",
      "\n",
      "       [[31, 13]],\n",
      "\n",
      "       [[32, 14]],\n",
      "\n",
      "       [[33, 14]],\n",
      "\n",
      "       [[32, 13]],\n",
      "\n",
      "       [[31, 13]],\n",
      "\n",
      "       [[30, 13]],\n",
      "\n",
      "       [[29, 13]],\n",
      "\n",
      "       [[28, 13]],\n",
      "\n",
      "       [[27, 13]],\n",
      "\n",
      "       [[26, 13]],\n",
      "\n",
      "       [[25, 13]],\n",
      "\n",
      "       [[24, 13]],\n",
      "\n",
      "       [[23, 13]],\n",
      "\n",
      "       [[22, 13]],\n",
      "\n",
      "       [[21, 13]],\n",
      "\n",
      "       [[20, 13]],\n",
      "\n",
      "       [[19, 13]],\n",
      "\n",
      "       [[18, 13]],\n",
      "\n",
      "       [[17, 12]],\n",
      "\n",
      "       [[16, 12]],\n",
      "\n",
      "       [[15, 12]],\n",
      "\n",
      "       [[14, 12]],\n",
      "\n",
      "       [[13, 12]],\n",
      "\n",
      "       [[12, 12]],\n",
      "\n",
      "       [[11, 12]],\n",
      "\n",
      "       [[10, 12]],\n",
      "\n",
      "       [[ 9, 12]],\n",
      "\n",
      "       [[ 8, 12]],\n",
      "\n",
      "       [[ 7, 11]],\n",
      "\n",
      "       [[ 6, 11]],\n",
      "\n",
      "       [[ 5, 11]],\n",
      "\n",
      "       [[ 4, 11]],\n",
      "\n",
      "       [[ 3, 11]],\n",
      "\n",
      "       [[ 2, 11]],\n",
      "\n",
      "       [[ 1, 11]]], dtype=int32), array([[[36,  0]],\n",
      "\n",
      "       [[36,  1]],\n",
      "\n",
      "       [[36,  2]],\n",
      "\n",
      "       [[36,  3]],\n",
      "\n",
      "       [[36,  4]],\n",
      "\n",
      "       [[36,  5]],\n",
      "\n",
      "       [[36,  6]],\n",
      "\n",
      "       [[36,  7]],\n",
      "\n",
      "       [[36,  8]],\n",
      "\n",
      "       [[36,  9]],\n",
      "\n",
      "       [[36, 10]],\n",
      "\n",
      "       [[36, 11]],\n",
      "\n",
      "       [[35, 12]],\n",
      "\n",
      "       [[35, 13]],\n",
      "\n",
      "       [[35, 14]],\n",
      "\n",
      "       [[35, 15]],\n",
      "\n",
      "       [[34, 16]],\n",
      "\n",
      "       [[34, 17]],\n",
      "\n",
      "       [[34, 18]],\n",
      "\n",
      "       [[34, 19]],\n",
      "\n",
      "       [[34, 20]],\n",
      "\n",
      "       [[34, 21]],\n",
      "\n",
      "       [[34, 22]],\n",
      "\n",
      "       [[34, 23]],\n",
      "\n",
      "       [[34, 24]],\n",
      "\n",
      "       [[34, 25]],\n",
      "\n",
      "       [[34, 26]],\n",
      "\n",
      "       [[33, 27]],\n",
      "\n",
      "       [[33, 28]],\n",
      "\n",
      "       [[33, 29]],\n",
      "\n",
      "       [[33, 30]],\n",
      "\n",
      "       [[33, 31]],\n",
      "\n",
      "       [[33, 32]],\n",
      "\n",
      "       [[33, 33]],\n",
      "\n",
      "       [[33, 34]],\n",
      "\n",
      "       [[33, 35]],\n",
      "\n",
      "       [[32, 36]],\n",
      "\n",
      "       [[31, 36]],\n",
      "\n",
      "       [[30, 37]],\n",
      "\n",
      "       [[29, 37]],\n",
      "\n",
      "       [[28, 37]],\n",
      "\n",
      "       [[27, 37]],\n",
      "\n",
      "       [[26, 37]],\n",
      "\n",
      "       [[25, 37]],\n",
      "\n",
      "       [[24, 37]],\n",
      "\n",
      "       [[23, 37]],\n",
      "\n",
      "       [[22, 37]],\n",
      "\n",
      "       [[21, 37]],\n",
      "\n",
      "       [[20, 37]],\n",
      "\n",
      "       [[19, 37]],\n",
      "\n",
      "       [[18, 37]],\n",
      "\n",
      "       [[17, 37]],\n",
      "\n",
      "       [[16, 37]],\n",
      "\n",
      "       [[15, 37]],\n",
      "\n",
      "       [[14, 38]],\n",
      "\n",
      "       [[13, 38]],\n",
      "\n",
      "       [[12, 38]],\n",
      "\n",
      "       [[11, 38]],\n",
      "\n",
      "       [[10, 38]],\n",
      "\n",
      "       [[ 9, 38]],\n",
      "\n",
      "       [[ 8, 38]],\n",
      "\n",
      "       [[ 7, 38]],\n",
      "\n",
      "       [[ 6, 38]],\n",
      "\n",
      "       [[ 5, 38]],\n",
      "\n",
      "       [[ 4, 38]],\n",
      "\n",
      "       [[ 3, 38]],\n",
      "\n",
      "       [[ 2, 38]],\n",
      "\n",
      "       [[ 1, 38]],\n",
      "\n",
      "       [[ 0, 38]],\n",
      "\n",
      "       [[ 1, 38]],\n",
      "\n",
      "       [[ 2, 38]],\n",
      "\n",
      "       [[ 3, 38]],\n",
      "\n",
      "       [[ 4, 38]],\n",
      "\n",
      "       [[ 5, 38]],\n",
      "\n",
      "       [[ 6, 38]],\n",
      "\n",
      "       [[ 7, 38]],\n",
      "\n",
      "       [[ 8, 38]],\n",
      "\n",
      "       [[ 9, 38]],\n",
      "\n",
      "       [[10, 38]],\n",
      "\n",
      "       [[11, 38]],\n",
      "\n",
      "       [[12, 38]],\n",
      "\n",
      "       [[13, 38]],\n",
      "\n",
      "       [[14, 38]],\n",
      "\n",
      "       [[15, 37]],\n",
      "\n",
      "       [[16, 37]],\n",
      "\n",
      "       [[17, 37]],\n",
      "\n",
      "       [[18, 37]],\n",
      "\n",
      "       [[19, 37]],\n",
      "\n",
      "       [[20, 37]],\n",
      "\n",
      "       [[21, 37]],\n",
      "\n",
      "       [[22, 37]],\n",
      "\n",
      "       [[23, 37]],\n",
      "\n",
      "       [[24, 37]],\n",
      "\n",
      "       [[25, 37]],\n",
      "\n",
      "       [[26, 37]],\n",
      "\n",
      "       [[27, 37]],\n",
      "\n",
      "       [[28, 37]],\n",
      "\n",
      "       [[29, 37]],\n",
      "\n",
      "       [[30, 37]],\n",
      "\n",
      "       [[31, 36]],\n",
      "\n",
      "       [[32, 36]],\n",
      "\n",
      "       [[33, 36]],\n",
      "\n",
      "       [[33, 35]],\n",
      "\n",
      "       [[33, 34]],\n",
      "\n",
      "       [[33, 33]],\n",
      "\n",
      "       [[33, 32]],\n",
      "\n",
      "       [[33, 31]],\n",
      "\n",
      "       [[33, 30]],\n",
      "\n",
      "       [[33, 29]],\n",
      "\n",
      "       [[33, 28]],\n",
      "\n",
      "       [[33, 27]],\n",
      "\n",
      "       [[34, 26]],\n",
      "\n",
      "       [[34, 25]],\n",
      "\n",
      "       [[34, 24]],\n",
      "\n",
      "       [[34, 23]],\n",
      "\n",
      "       [[34, 22]],\n",
      "\n",
      "       [[34, 21]],\n",
      "\n",
      "       [[34, 20]],\n",
      "\n",
      "       [[34, 19]],\n",
      "\n",
      "       [[34, 18]],\n",
      "\n",
      "       [[34, 17]],\n",
      "\n",
      "       [[34, 16]],\n",
      "\n",
      "       [[35, 15]],\n",
      "\n",
      "       [[35, 14]],\n",
      "\n",
      "       [[35, 13]],\n",
      "\n",
      "       [[35, 12]],\n",
      "\n",
      "       [[36, 11]],\n",
      "\n",
      "       [[36, 10]],\n",
      "\n",
      "       [[36,  9]],\n",
      "\n",
      "       [[36,  8]],\n",
      "\n",
      "       [[36,  7]],\n",
      "\n",
      "       [[36,  6]],\n",
      "\n",
      "       [[36,  5]],\n",
      "\n",
      "       [[36,  4]],\n",
      "\n",
      "       [[36,  3]],\n",
      "\n",
      "       [[36,  2]],\n",
      "\n",
      "       [[36,  1]]], dtype=int32)]\n"
     ]
    }
   ],
   "source": [
    "print(contours)"
   ]
  },
  {
   "cell_type": "code",
   "execution_count": 441,
   "id": "148a5f6a",
   "metadata": {},
   "outputs": [
    {
     "data": {
      "text/plain": [
       "'adhamA'"
      ]
     },
     "execution_count": 441,
     "metadata": {},
     "output_type": "execute_result"
    }
   ],
   "source": [
    "f\"adham{chr(bubbled[1]+ord('A'))}\""
   ]
  },
  {
   "cell_type": "code",
   "execution_count": null,
   "id": "1e405d25",
   "metadata": {},
   "outputs": [],
   "source": []
  },
  {
   "cell_type": "code",
   "execution_count": null,
   "id": "bdb43202",
   "metadata": {},
   "outputs": [],
   "source": []
  }
 ],
 "metadata": {
  "kernelspec": {
   "display_name": "Python 3 (ipykernel)",
   "language": "python",
   "name": "python3"
  },
  "language_info": {
   "codemirror_mode": {
    "name": "ipython",
    "version": 3
   },
   "file_extension": ".py",
   "mimetype": "text/x-python",
   "name": "python",
   "nbconvert_exporter": "python",
   "pygments_lexer": "ipython3",
   "version": "3.10.7"
  }
 },
 "nbformat": 4,
 "nbformat_minor": 5
}
