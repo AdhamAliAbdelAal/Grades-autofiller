{
 "cells": [
  {
   "cell_type": "code",
   "execution_count": 80,
   "id": "5b4c1051",
   "metadata": {},
   "outputs": [],
   "source": [
    "import cv2\n",
    "import numpy as np\n",
    "from matplotlib import pyplot as plt\n",
    "from crop_image import *\n",
    "import imutils\n",
    "from imutils import contours\n",
    "%matplotlib inline"
   ]
  },
  {
   "cell_type": "code",
   "execution_count": 116,
   "id": "2021ae1a",
   "metadata": {},
   "outputs": [
    {
     "data": {
      "text/plain": [
       "-1"
      ]
     },
     "execution_count": 116,
     "metadata": {},
     "output_type": "execute_result"
    }
   ],
   "source": [
    "image = cv2.imread('bubble sheet\\omr.png')\n",
    "cv2.imshow('image',image)\n",
    "cv2.waitKey(0)"
   ]
  },
  {
   "cell_type": "code",
   "execution_count": 117,
   "id": "d32f254a",
   "metadata": {},
   "outputs": [
    {
     "data": {
      "text/plain": [
       "-1"
      ]
     },
     "execution_count": 117,
     "metadata": {},
     "output_type": "execute_result"
    }
   ],
   "source": [
    "gray_scale = cv2.cvtColor(image,cv2.COLOR_BGR2GRAY)\n",
    "cv2.imshow('gray scale image',gray_scale)\n",
    "cv2.waitKey(0)"
   ]
  },
  {
   "cell_type": "code",
   "execution_count": 47,
   "id": "4f332775",
   "metadata": {},
   "outputs": [
    {
     "data": {
      "text/plain": [
       "\"gaussian = cv2.GaussianBlur(image,(3,3),0)\\ncv2.imshow('image',gaussian)\\ncv2.waitKey(0)\""
      ]
     },
     "execution_count": 47,
     "metadata": {},
     "output_type": "execute_result"
    }
   ],
   "source": [
    "\"\"\"gaussian = cv2.GaussianBlur(image,(3,3),0)\n",
    "cv2.imshow('image',gaussian)\n",
    "cv2.waitKey(0)\"\"\""
   ]
  },
  {
   "cell_type": "code",
   "execution_count": 118,
   "id": "129f7331",
   "metadata": {},
   "outputs": [
    {
     "data": {
      "text/plain": [
       "-1"
      ]
     },
     "execution_count": 118,
     "metadata": {},
     "output_type": "execute_result"
    }
   ],
   "source": [
    "edged = cv2.Canny(gray_scale,253,254)\n",
    "cv2.imshow('image',edged)\n",
    "cv2.waitKey(0)"
   ]
  },
  {
   "cell_type": "code",
   "execution_count": 136,
   "id": "4a52a783",
   "metadata": {},
   "outputs": [
    {
     "name": "stdout",
     "output_type": "stream",
     "text": [
      "Number of Contours found = 2\n"
     ]
    }
   ],
   "source": [
    "contours,_= cv2.findContours(edged, \n",
    "    cv2.RETR_EXTERNAL, cv2.CHAIN_APPROX_NONE)\n",
    "\n",
    "print(\"Number of Contours found = \" + str(len(contours)))\n",
    "  \n",
    "cv2.drawContours(image, contours, 1,(0,255,0), 3)\n",
    "  \n",
    "cv2.imshow('Contours', image)\n",
    "cv2.waitKey(0)\n",
    "image = cv2.imread('bubble sheet\\omr.png')"
   ]
  },
  {
   "cell_type": "code",
   "execution_count": 128,
   "id": "f4d353ee",
   "metadata": {},
   "outputs": [],
   "source": [
    "#sorting all contours\n",
    "if(len(contours)>0):\n",
    "    contours=sorted(contours,key=cv2.contourArea,reverse=True)"
   ]
  },
  {
   "cell_type": "code",
   "execution_count": 129,
   "id": "50757a7f",
   "metadata": {},
   "outputs": [],
   "source": [
    "cv2.drawContours(image, contours, 0,(0,255,0), 3)\n",
    "  \n",
    "cv2.imshow('Contours', image)\n",
    "cv2.waitKey(0)\n",
    "image = cv2.imread('bubble sheet\\omr.png')"
   ]
  },
  {
   "cell_type": "code",
   "execution_count": 137,
   "id": "8b821f31",
   "metadata": {},
   "outputs": [
    {
     "name": "stdout",
     "output_type": "stream",
     "text": [
      "0.0\n",
      "1\n",
      "1466.9533175230026\n",
      "4\n"
     ]
    }
   ],
   "source": [
    "paper_contour=None\n",
    "for cnt in contours:\n",
    "    peri = cv2.arcLength(cnt,True)\n",
    "    print(peri)\n",
    "    # to approximate the given shape to polygon (high value leads to underestimation and low value leads to overestimation)\n",
    "    ratio=0.02\n",
    "    approx=cv2.approxPolyDP(cnt,ratio*peri,True)\n",
    "    cv2.drawContours(image, [approx], 0,(0,0,255), 3)\n",
    "    print(len(approx))\n",
    "    coordinates=approx.ravel()\n",
    "    for i in range(0,len(coordinates),2):\n",
    "        x=coordinates[i]\n",
    "        y=coordinates[i+1]\n",
    "        cv2.putText(image, \"vertex\"+str(i//2), (x, y),cv2.FONT_HERSHEY_COMPLEX, 0.5, (255, 0, 0)) \n",
    "    if(len(approx)==4):\n",
    "        paper_contour=approx\n",
    "        break\n",
    "cv2.imshow('Contours', image)\n",
    "cv2.waitKey(0)\n",
    "image = cv2.imread('bubble sheet\\omr.png')"
   ]
  },
  {
   "cell_type": "code",
   "execution_count": 138,
   "id": "58ce7889",
   "metadata": {},
   "outputs": [
    {
     "name": "stdout",
     "output_type": "stream",
     "text": [
      "(4, 1, 2)\n"
     ]
    }
   ],
   "source": [
    "print(paper_contour.shape)"
   ]
  },
  {
   "cell_type": "code",
   "execution_count": 139,
   "id": "6f7cafe5",
   "metadata": {},
   "outputs": [
    {
     "data": {
      "text/plain": [
       "-1"
      ]
     },
     "execution_count": 139,
     "metadata": {},
     "output_type": "execute_result"
    }
   ],
   "source": [
    "paper= four_point_transform(image, paper_contour.reshape(4, 2))  \n",
    "cv2.imshow('paper', paper)\n",
    "cv2.waitKey(0)"
   ]
  },
  {
   "cell_type": "code",
   "execution_count": null,
   "id": "0b52e1b5",
   "metadata": {},
   "outputs": [],
   "source": []
  }
 ],
 "metadata": {
  "kernelspec": {
   "display_name": "Python 3 (ipykernel)",
   "language": "python",
   "name": "python3"
  },
  "language_info": {
   "codemirror_mode": {
    "name": "ipython",
    "version": 3
   },
   "file_extension": ".py",
   "mimetype": "text/x-python",
   "name": "python",
   "nbconvert_exporter": "python",
   "pygments_lexer": "ipython3",
   "version": "3.10.7"
  }
 },
 "nbformat": 4,
 "nbformat_minor": 5
}
