{
 "cells": [
  {
   "cell_type": "code",
   "execution_count": 79,
   "id": "5b4c1051",
   "metadata": {},
   "outputs": [],
   "source": [
    "import cv2\n",
    "import numpy as np\n",
    "from matplotlib import pyplot as plt\n",
    "from crop_image import *\n",
    "import imutils\n",
    "from imutils import contours as imcnts\n",
    "import skimage.io as io\n",
    "%matplotlib inline"
   ]
  },
  {
   "cell_type": "code",
   "execution_count": 80,
   "id": "2021ae1a",
   "metadata": {},
   "outputs": [],
   "source": [
    "image = cv2.imread('omr.png')\n",
    "cv2.imshow('image.jpg',image)\n",
    "cv2.waitKey(0)\n",
    "number_of_choices=4\n",
    "number_of_columns=2"
   ]
  },
  {
   "cell_type": "code",
   "execution_count": 81,
   "id": "d32f254a",
   "metadata": {},
   "outputs": [
    {
     "data": {
      "text/plain": [
       "-1"
      ]
     },
     "execution_count": 81,
     "metadata": {},
     "output_type": "execute_result"
    }
   ],
   "source": [
    "gray_scale = cv2.cvtColor(image,cv2.COLOR_BGR2GRAY)\n",
    "cv2.imshow('gray scale image.jpg',gray_scale)\n",
    "cv2.waitKey(0)"
   ]
  },
  {
   "cell_type": "code",
   "execution_count": 82,
   "id": "4f332775",
   "metadata": {},
   "outputs": [
    {
     "data": {
      "text/plain": [
       "\"gaussian = cv2.GaussianBlur(image,(3,3),0)\\ncv2.imshow('image',gaussian)\\ncv2.waitKey(0)\""
      ]
     },
     "execution_count": 82,
     "metadata": {},
     "output_type": "execute_result"
    }
   ],
   "source": [
    "\"\"\"gaussian = cv2.GaussianBlur(image,(3,3),0)\n",
    "cv2.imshow('image',gaussian)\n",
    "cv2.waitKey(0)\"\"\""
   ]
  },
  {
   "cell_type": "code",
   "execution_count": 83,
   "id": "129f7331",
   "metadata": {},
   "outputs": [],
   "source": [
    "edged = cv2.Canny(gray_scale,50,200)\n",
    "# cv2.imshow('edged.jpg',edged)\n",
    "# cv2.waitKey(0)"
   ]
  },
  {
   "cell_type": "code",
   "execution_count": 84,
   "id": "4a52a783",
   "metadata": {},
   "outputs": [
    {
     "name": "stdout",
     "output_type": "stream",
     "text": [
      "Number of Contours found = 4\n"
     ]
    }
   ],
   "source": [
    "contours,_= cv2.findContours(edged, \n",
    "    cv2.RETR_EXTERNAL, cv2.CHAIN_APPROX_NONE)\n",
    "\n",
    "print(\"Number of Contours found = \" + str(len(contours)))\n",
    "  \n",
    "cv2.drawContours(image, contours, -1,(0,255,0), 3)\n",
    "  \n",
    "# cv2.imshow('Contours.jpg', image)\n",
    "# cv2.waitKey(0)\n",
    "image = cv2.imread('omr.png')"
   ]
  },
  {
   "cell_type": "code",
   "execution_count": 85,
   "id": "e23dc35c",
   "metadata": {},
   "outputs": [],
   "source": [
    "#sorting all contours\n",
    "if(len(contours)>0):\n",
    "    contours=sorted(contours,key=cv2.contourArea,reverse=True)"
   ]
  },
  {
   "cell_type": "code",
   "execution_count": 86,
   "id": "bba4dbc4",
   "metadata": {},
   "outputs": [],
   "source": [
    "cv2.drawContours(image, contours, 0,(0,255,0), 3)\n",
    "  \n",
    "# cv2.imshow('Contours3.jpg', image)\n",
    "# cv2.waitKey(0)\n",
    "image = cv2.imread('omr.png')"
   ]
  },
  {
   "cell_type": "code",
   "execution_count": 87,
   "id": "3b88da12",
   "metadata": {},
   "outputs": [
    {
     "name": "stdout",
     "output_type": "stream",
     "text": [
      "1730.0\n",
      "4\n"
     ]
    }
   ],
   "source": [
    "paper_contour=None\n",
    "for cnt in contours:\n",
    "    peri = cv2.arcLength(cnt,True)\n",
    "    print(peri)\n",
    "    # to approximate the given shape to polygon (high value leads to underestimation and low value leads to overestimation)\n",
    "    ratio=0.02\n",
    "    approx=cv2.approxPolyDP(cnt,ratio*peri,True)\n",
    "    cv2.drawContours(image, [approx], 0,(0,0,255), 3)\n",
    "    print(len(approx))\n",
    "    coordinates=approx.ravel()\n",
    "    for i in range(0,len(coordinates),2):\n",
    "        x=coordinates[i]\n",
    "        y=coordinates[i+1]\n",
    "        cv2.putText(image, \"vertex\"+str(i//2), (x, y),cv2.FONT_HERSHEY_COMPLEX, 0.5, (255, 0, 0)) \n",
    "    if(len(approx)==4):\n",
    "        paper_contour=approx\n",
    "        break\n",
    "# cv2.imshow('Contours2.jpg', image)\n",
    "# cv2.waitKey(0)\n",
    "image = cv2.imread('omr.png')"
   ]
  },
  {
   "cell_type": "code",
   "execution_count": 88,
   "id": "beebe794",
   "metadata": {},
   "outputs": [
    {
     "name": "stdout",
     "output_type": "stream",
     "text": [
      "(4, 1, 2)\n"
     ]
    }
   ],
   "source": [
    "print(paper_contour.shape)"
   ]
  },
  {
   "cell_type": "code",
   "execution_count": 89,
   "id": "15bf9dfc",
   "metadata": {},
   "outputs": [],
   "source": [
    "paper= four_point_transform(image, paper_contour.reshape(4, 2))  \n",
    "# cv2.imshow('paper', paper)\n",
    "# cv2.waitKey(0)"
   ]
  },
  {
   "cell_type": "code",
   "execution_count": 90,
   "id": "2256f836",
   "metadata": {},
   "outputs": [],
   "source": [
    "gray_scale_paper= four_point_transform(gray_scale, paper_contour.reshape(4, 2))  \n",
    "# cv2.imshow('paper', gray_scale_paper)\n",
    "# cv2.waitKey(0)"
   ]
  },
  {
   "cell_type": "code",
   "execution_count": 91,
   "id": "cc0586b5",
   "metadata": {},
   "outputs": [],
   "source": [
    "# _,thresholded=cv2.threshold(gray_scale_paper,230,255, cv2.THRESH_BINARY_INV | cv2.THRESH_OTSU)\n",
    "# cv2.imshow('paper1', thresholded)\n",
    "# cv2.waitKey(0)"
   ]
  },
  {
   "cell_type": "code",
   "execution_count": 92,
   "id": "53c98da0",
   "metadata": {},
   "outputs": [
    {
     "data": {
      "text/plain": [
       "-1"
      ]
     },
     "execution_count": 92,
     "metadata": {},
     "output_type": "execute_result"
    }
   ],
   "source": [
    "_,thresholded=cv2.threshold(gray_scale_paper,230,255, cv2.THRESH_BINARY_INV)\n",
    "cv2.imshow('paper2', thresholded)\n",
    "cv2.waitKey(0)"
   ]
  },
  {
   "cell_type": "code",
   "execution_count": null,
   "id": "027518b2",
   "metadata": {},
   "outputs": [],
   "source": []
  },
  {
   "cell_type": "code",
   "execution_count": 93,
   "id": "06cb63ec",
   "metadata": {},
   "outputs": [],
   "source": [
    "pap_cnts,_=cv2.findContours(thresholded, cv2.RETR_EXTERNAL, cv2.CHAIN_APPROX_SIMPLE)"
   ]
  },
  {
   "cell_type": "code",
   "execution_count": 94,
   "id": "4f4399a3",
   "metadata": {},
   "outputs": [],
   "source": [
    "def test_cnts(cnts):\n",
    "    cv2.drawContours(thresholded, cnts, -1,255, 3)\n",
    "  \n",
    "    cv2.imshow('Contours.jpg', thresholded)\n",
    "    cv2.waitKey(0)"
   ]
  },
  {
   "cell_type": "code",
   "execution_count": 108,
   "id": "89175552",
   "metadata": {},
   "outputs": [
    {
     "name": "stdout",
     "output_type": "stream",
     "text": [
      "#1 368 325\n",
      "#2 342 325\n",
      "#3 315 325\n",
      "#4 288 325\n",
      "#5 369 296\n",
      "#6 342 296\n",
      "#7 314 296\n",
      "#8 287 296\n",
      "#9 174 296\n",
      "#10 147 296\n",
      "#11 119 296\n",
      "#12 92 296\n",
      "#13 369 266\n",
      "#14 342 266\n",
      "#15 314 266\n",
      "#16 287 266\n",
      "#17 174 266\n",
      "#18 147 266\n",
      "#19 119 266\n",
      "#20 92 266\n",
      "#21 369 236\n",
      "#22 342 236\n",
      "#23 314 236\n",
      "#24 287 236\n",
      "#25 174 236\n",
      "#26 147 236\n",
      "#27 119 236\n",
      "#28 92 236\n",
      "#29 369 206\n",
      "#30 342 206\n",
      "#31 314 206\n",
      "#32 287 206\n",
      "#33 174 206\n",
      "#34 147 206\n",
      "#35 119 206\n",
      "#36 92 206\n",
      "#37 371 129\n",
      "#38 343 129\n",
      "#39 316 129\n",
      "#40 288 129\n",
      "#41 174 129\n",
      "#42 146 129\n",
      "#43 119 129\n",
      "#44 91 129\n",
      "#45 371 99\n",
      "#46 343 99\n",
      "#47 316 99\n",
      "#48 288 99\n",
      "#49 174 99\n",
      "#50 146 99\n",
      "#51 119 99\n",
      "#52 91 99\n",
      "#53 371 69\n",
      "#54 343 69\n",
      "#55 316 69\n",
      "#56 288 69\n",
      "#57 174 69\n",
      "#58 146 69\n",
      "#59 119 69\n",
      "#60 91 69\n",
      "#61 371 39\n",
      "#62 343 39\n",
      "#63 316 39\n",
      "#64 288 39\n",
      "#65 174 39\n",
      "#66 146 39\n",
      "#67 119 39\n",
      "#68 91 39\n"
     ]
    }
   ],
   "source": [
    "pre_question_cnts=[]\n",
    "value=(15,50)\n",
    "i=0\n",
    "for cnt in pap_cnts:\n",
    "    (x,y,w,h)=cv2.boundingRect(cnt)\n",
    "    aspect_ratio=w/h\n",
    "    if(w>=value[0] and w<=value[1] and h>=value[0] and h<=value[1] and aspect_ratio>=0.9 and aspect_ratio<=1.1):\n",
    "        pre_question_cnts.append(cnt)"
   ]
  },
  {
   "cell_type": "code",
   "execution_count": 121,
   "id": "8ba4b8d2",
   "metadata": {},
   "outputs": [
    {
     "name": "stdout",
     "output_type": "stream",
     "text": [
      "68 90\n"
     ]
    }
   ],
   "source": [
    "print(len(pre_question_cnts),len(pap_cnts))"
   ]
  },
  {
   "cell_type": "code",
   "execution_count": 135,
   "id": "b47d745a",
   "metadata": {
    "scrolled": true
   },
   "outputs": [
    {
     "name": "stdout",
     "output_type": "stream",
     "text": [
      "#1 371 39\n",
      "#2 343 39\n",
      "#3 316 39\n",
      "#4 288 39\n",
      "#5 174 39\n",
      "#6 146 39\n",
      "#7 119 39\n",
      "#8 91 39\n",
      "{288, 174, 146, 371, 119, 343, 91, 316} 8\n",
      "1\n",
      "[91, 119, 146, 174, 288, 316, 343, 371]\n"
     ]
    }
   ],
   "source": [
    "question_cnts,_=imcnts.sort_contours(pre_question_cnts,method='top-to-bottom')\n",
    "xs_set=set()\n",
    "i=0\n",
    "\n",
    "for cnt in question_cnts:\n",
    "    (x,y,w,h)=cv2.boundingRect(cnt)\n",
    "    if(x not in xs_set and all([ x-i not in xs_set and x+i not in xs_set for i in np.arange(1,5)])):\n",
    "        xs_set.add(x)\n",
    "#     if(i<8):\n",
    "#         print(f'#{i+1}',x,y)\n",
    "#     i+=1\n",
    "number_of_bubbles=len(xs_set)\n",
    "#print(xs_set,len(xs_set))\n",
    "xs=np.array(list(sorted(xs_set)))\n",
    "dist=np.append(xs[1:],xs[-1])-xs\n",
    "avg=np.mean(dist)\n",
    "number_of_choices=number_of_bubbles//number_of_columns\n",
    "number_of_columns=np.sum(dist>avg)+1\n",
    "#print(np.sum(dist>avg))\n",
    "#print(list(sorted(xs_set)))\n",
    "#1 371 39\n",
    "#2 343 39\n",
    "#3 316 39\n",
    "#4 288 39\n",
    "#5 174 39\n",
    "#6 146 39\n",
    "#7 119 39\n",
    "#8 91 39"
   ]
  },
  {
   "cell_type": "code",
   "execution_count": 128,
   "id": "1108a79d",
   "metadata": {},
   "outputs": [
    {
     "name": "stdout",
     "output_type": "stream",
     "text": [
      "False\n"
     ]
    }
   ],
   "source": [
    "tt=[i>2 for i in np.arange(1,5)]\n",
    "print(all(tt))"
   ]
  },
  {
   "cell_type": "code",
   "execution_count": 120,
   "id": "5dcaa634",
   "metadata": {},
   "outputs": [],
   "source": [
    "# Answer_key= {0:1, 1:4, 2:0, 3:2}\n",
    "# correct=0\n",
    "# flag=False\n",
    "# cv2.drawContours(paper,question_cnts,0,(255,0,0), 1)\n",
    "# cv2.imshow('hgsvrgvj',paper)\n",
    "# cv2.waitKey(0)\n",
    "# cnt=question_cnts[0]\n",
    "# peri = cv2.arcLength(cnt,True)\n",
    "# #print(peri)\n",
    "# # to approximate the given shape to polygon (high value leads to underestimation and low value leads to overestimation)\n",
    "# ratio=0.00005\n",
    "# approx=cv2.approxPolyDP(cnt,ratio*peri,True)\n",
    "# (x,y,w,h)=cv2.boundingRect(cnt)\n",
    "# aspect_ratio=w/h\n",
    "# print(len(approx))\n",
    "# paper= four_point_transform(image, paper_contour.reshape(4, 2))  "
   ]
  },
  {
   "cell_type": "code",
   "execution_count": 99,
   "id": "8f73f4ea",
   "metadata": {},
   "outputs": [
    {
     "name": "stdout",
     "output_type": "stream",
     "text": [
      "68\n"
     ]
    }
   ],
   "source": [
    "print(len(question_cnts))"
   ]
  },
  {
   "cell_type": "code",
   "execution_count": 100,
   "id": "cafbe8f7",
   "metadata": {},
   "outputs": [],
   "source": [
    "#test_cnts(question_cnts)"
   ]
  },
  {
   "cell_type": "code",
   "execution_count": 101,
   "id": "8b34ad89",
   "metadata": {},
   "outputs": [],
   "source": [
    "# _,thresholded=cv2.threshold(gray_scale_paper,150,255, cv2.THRESH_BINARY_INV)\n",
    "# pap_cnts,_=cv2.findContours(thresholded, cv2.RETR_EXTERNAL, cv2.CHAIN_APPROX_SIMPLE)"
   ]
  },
  {
   "cell_type": "code",
   "execution_count": 102,
   "id": "8c1cfbb8",
   "metadata": {},
   "outputs": [],
   "source": [
    "colors=[(255,0,0)\n",
    ",(0,255,0)\n",
    ",(0,0,255)\n",
    ",(0,255,255)\n",
    ",(255,255,0)\n",
    ",(0,0,255)\n",
    ",(0,255,255)\n",
    ",(255,0,255)\n",
    ",(192,192,192)\n",
    ",(128,128,128)\n",
    ",(128,0,0)\n",
    ",(128,128,0)\n",
    ",(0,128,0)\n",
    ",(128,0,128)\n",
    ",(0,128,128)\n",
    ",(0,0,128),\n",
    "       (255,215,0)]"
   ]
  },
  {
   "cell_type": "code",
   "execution_count": 103,
   "id": "5802bab6",
   "metadata": {},
   "outputs": [
    {
     "name": "stdout",
     "output_type": "stream",
     "text": [
      "qestion#1: A\n",
      "qestion#2: A\n",
      "qestion#3: C\n",
      "qestion#4: C\n",
      "qestion#5: A\n",
      "qestion#6: D\n",
      "qestion#7: D\n",
      "qestion#8: C\n",
      "qestion#9: D\n",
      "qestion#10: B\n",
      "qestion#11: C\n",
      "qestion#12: C\n",
      "qestion#13: C\n",
      "qestion#14: B\n",
      "qestion#15: C\n",
      "qestion#16: C\n",
      "qestion#17: D\n",
      "9\n"
     ]
    }
   ],
   "source": [
    "counter=0\n",
    "qs=0\n",
    "for (row,i) in enumerate(np.arange(0,len(question_cnts),number_of_columns*number_of_choices)):\n",
    "\n",
    "    curr_row_cnts,_=imcnts.sort_contours(question_cnts[i:i+number_of_columns*number_of_choices])\n",
    "    for k in np.arange(0,len(curr_row_cnts),number_of_choices):\n",
    "        curr_ques_cnts=curr_row_cnts[k:k+number_of_choices]\n",
    "        color1=colors[qs%len(colors)]\n",
    "        cv2.drawContours(paper,curr_ques_cnts,-1,color1, 1)\n",
    "        bubbled=None\n",
    "        for (j,c) in enumerate(curr_ques_cnts):\n",
    "            mask = np.zeros(thresholded.shape, dtype=\"uint8\")\n",
    "            #negative one at the last arguement to fill the contours\n",
    "            cv2.drawContours(mask, [c], -1, 255, -1)\n",
    "            mask= cv2.bitwise_and(thresholded, mask)\n",
    "            total= cv2.countNonZero(mask)\n",
    "\n",
    "            if bubbled is None or total >bubbled[0]:\n",
    "                bubbled= (total, j)\n",
    "            color= (0, 0, 255)\n",
    "        print(f\"qestion#{qs+1}: {chr(bubbled[1]+ord('A'))}\")\n",
    "        qs+=1\n",
    "    counter+=1\n",
    "print(counter)\n",
    "counter=0\n",
    "cv2.imshow('paper', paper)\n",
    "cv2.waitKey(0)\n",
    "paper= four_point_transform(image, paper_contour.reshape(4, 2)) "
   ]
  },
  {
   "cell_type": "code",
   "execution_count": 104,
   "id": "c9261ae9",
   "metadata": {},
   "outputs": [
    {
     "ename": "SyntaxError",
     "evalue": "incomplete input (3508751463.py, line 2)",
     "output_type": "error",
     "traceback": [
      "\u001b[1;36m  Cell \u001b[1;32mIn [104], line 2\u001b[1;36m\u001b[0m\n\u001b[1;33m    print(correct\u001b[0m\n\u001b[1;37m                 ^\u001b[0m\n\u001b[1;31mSyntaxError\u001b[0m\u001b[1;31m:\u001b[0m incomplete input\n"
     ]
    }
   ],
   "source": [
    "correct=0\n",
    "print(correct"
   ]
  },
  {
   "cell_type": "code",
   "execution_count": null,
   "id": "eb154a66",
   "metadata": {},
   "outputs": [],
   "source": []
  },
  {
   "cell_type": "code",
   "execution_count": null,
   "id": "fa1b8c5d",
   "metadata": {},
   "outputs": [],
   "source": [
    "# cv2.imshow('Contours.jpg', thresholded)\n",
    "# cv2.waitKey(0)"
   ]
  },
  {
   "cell_type": "code",
   "execution_count": null,
   "id": "fb3c8f00",
   "metadata": {},
   "outputs": [],
   "source": [
    "for i,cnt in enumerate(question_cnts):\n",
    "    color1=(255,0,0) if i%2==0 else (0,0,255)\n",
    "    cv2.drawContours(paper,[cnt],-1,color1, 1)\n",
    "# cv2.imshow('paper', paper)\n",
    "# cv2.waitKey(0)\n",
    "paper= four_point_transform(image, paper_contour.reshape(4, 2)) "
   ]
  },
  {
   "cell_type": "code",
   "execution_count": null,
   "id": "dc815aef",
   "metadata": {},
   "outputs": [],
   "source": [
    "def show_images(images,titles=None):\n",
    "    #This function is used to show image(s) with titles by sending an array of images and an array of associated titles.\n",
    "    # images[0] will be drawn with the title titles[0] if exists\n",
    "    # You aren't required to understand this function, use it as-is.\n",
    "    n_ims = len(images)\n",
    "    if titles is None: titles = ['(%d)' % i for i in range(1,n_ims + 1)]\n",
    "    fig = plt.figure()\n",
    "    n = 1\n",
    "    for image,title in zip(images,titles):\n",
    "        a = fig.add_subplot(1,n_ims,n)\n",
    "        if image.ndim == 2: \n",
    "            plt.gray()\n",
    "        plt.imshow(image)\n",
    "        a.set_title(title)\n",
    "        n += 1\n",
    "    fig.set_size_inches(np.array(fig.get_size_inches()) * n_ims)\n",
    "    plt.show()\n",
    "\n"
   ]
  },
  {
   "cell_type": "code",
   "execution_count": null,
   "id": "f282f666",
   "metadata": {},
   "outputs": [],
   "source": [
    "print(contours)"
   ]
  },
  {
   "cell_type": "code",
   "execution_count": null,
   "id": "148a5f6a",
   "metadata": {},
   "outputs": [],
   "source": [
    "f\"adham{chr(bubbled[1]+ord('A'))}\""
   ]
  },
  {
   "cell_type": "code",
   "execution_count": null,
   "id": "1e405d25",
   "metadata": {},
   "outputs": [],
   "source": []
  },
  {
   "cell_type": "code",
   "execution_count": null,
   "id": "bdb43202",
   "metadata": {},
   "outputs": [],
   "source": []
  }
 ],
 "metadata": {
  "kernelspec": {
   "display_name": "Python 3 (ipykernel)",
   "language": "python",
   "name": "python3"
  },
  "language_info": {
   "codemirror_mode": {
    "name": "ipython",
    "version": 3
   },
   "file_extension": ".py",
   "mimetype": "text/x-python",
   "name": "python",
   "nbconvert_exporter": "python",
   "pygments_lexer": "ipython3",
   "version": "3.10.7"
  }
 },
 "nbformat": 4,
 "nbformat_minor": 5
}
