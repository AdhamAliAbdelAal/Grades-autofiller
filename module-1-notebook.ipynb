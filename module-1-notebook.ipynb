{
 "cells": [
  {
   "cell_type": "code",
   "execution_count": 3,
   "id": "5b4c1051",
   "metadata": {},
   "outputs": [],
   "source": [
    "import cv2\n",
    "import numpy as np\n",
    "from matplotlib import pyplot as plt\n",
    "from crop_image import *\n",
    "import imutils\n",
    "from imutils import contours as imcnts\n",
    "%matplotlib inline"
   ]
  },
  {
   "cell_type": "code",
   "execution_count": 4,
   "id": "2021ae1a",
   "metadata": {},
   "outputs": [
    {
     "data": {
      "text/plain": [
       "-1"
      ]
     },
     "execution_count": 4,
     "metadata": {},
     "output_type": "execute_result"
    }
   ],
   "source": [
    "image = cv2.imread('omr.png')\n",
    "cv2.imshow('image.jpg',image)\n",
    "cv2.waitKey(0)"
   ]
  },
  {
   "cell_type": "code",
   "execution_count": 5,
   "id": "d32f254a",
   "metadata": {},
   "outputs": [
    {
     "data": {
      "text/plain": [
       "-1"
      ]
     },
     "execution_count": 5,
     "metadata": {},
     "output_type": "execute_result"
    }
   ],
   "source": [
    "gray_scale = cv2.cvtColor(image,cv2.COLOR_BGR2GRAY)\n",
    "cv2.imshow('gray scale image.jpg',gray_scale)\n",
    "cv2.waitKey(0)"
   ]
  },
  {
   "cell_type": "code",
   "execution_count": 6,
   "id": "4f332775",
   "metadata": {},
   "outputs": [
    {
     "data": {
      "text/plain": [
       "\"gaussian = cv2.GaussianBlur(image,(3,3),0)\\ncv2.imshow('image',gaussian)\\ncv2.waitKey(0)\""
      ]
     },
     "execution_count": 6,
     "metadata": {},
     "output_type": "execute_result"
    }
   ],
   "source": [
    "\"\"\"gaussian = cv2.GaussianBlur(image,(3,3),0)\n",
    "cv2.imshow('image',gaussian)\n",
    "cv2.waitKey(0)\"\"\""
   ]
  },
  {
   "cell_type": "code",
   "execution_count": 7,
   "id": "129f7331",
   "metadata": {},
   "outputs": [
    {
     "data": {
      "text/plain": [
       "-1"
      ]
     },
     "execution_count": 7,
     "metadata": {},
     "output_type": "execute_result"
    }
   ],
   "source": [
    "edged = cv2.Canny(gray_scale,50,200)\n",
    "cv2.imshow('edged.jpg',edged)\n",
    "cv2.waitKey(0)"
   ]
  },
  {
   "cell_type": "code",
   "execution_count": 8,
   "id": "4a52a783",
   "metadata": {},
   "outputs": [
    {
     "name": "stdout",
     "output_type": "stream",
     "text": [
      "Number of Contours found = 4\n"
     ]
    }
   ],
   "source": [
    "contours,_= cv2.findContours(edged, \n",
    "    cv2.RETR_EXTERNAL, cv2.CHAIN_APPROX_NONE)\n",
    "\n",
    "print(\"Number of Contours found = \" + str(len(contours)))\n",
    "  \n",
    "cv2.drawContours(image, contours, -1,(0,255,0), 3)\n",
    "  \n",
    "cv2.imshow('Contours.jpg', image)\n",
    "cv2.waitKey(0)\n",
    "image = cv2.imread('omr.png')"
   ]
  },
  {
   "cell_type": "code",
   "execution_count": 9,
   "id": "e23dc35c",
   "metadata": {},
   "outputs": [],
   "source": [
    "#sorting all contours\n",
    "if(len(contours)>0):\n",
    "    contours=sorted(contours,key=cv2.contourArea,reverse=True)"
   ]
  },
  {
   "cell_type": "code",
   "execution_count": 10,
   "id": "bba4dbc4",
   "metadata": {},
   "outputs": [],
   "source": [
    "cv2.drawContours(image, contours, 0,(0,255,0), 3)\n",
    "  \n",
    "cv2.imshow('Contours3.jpg', image)\n",
    "cv2.waitKey(0)\n",
    "image = cv2.imread('omr.png')"
   ]
  },
  {
   "cell_type": "code",
   "execution_count": 11,
   "id": "3b88da12",
   "metadata": {},
   "outputs": [
    {
     "name": "stdout",
     "output_type": "stream",
     "text": [
      "1484.610171675682\n",
      "4\n"
     ]
    }
   ],
   "source": [
    "paper_contour=None\n",
    "for cnt in contours:\n",
    "    peri = cv2.arcLength(cnt,True)\n",
    "    print(peri)\n",
    "    # to approximate the given shape to polygon (high value leads to underestimation and low value leads to overestimation)\n",
    "    ratio=0.02\n",
    "    approx=cv2.approxPolyDP(cnt,ratio*peri,True)\n",
    "    cv2.drawContours(image, [approx], 0,(0,0,255), 3)\n",
    "    print(len(approx))\n",
    "    coordinates=approx.ravel()\n",
    "    for i in range(0,len(coordinates),2):\n",
    "        x=coordinates[i]\n",
    "        y=coordinates[i+1]\n",
    "        cv2.putText(image, \"vertex\"+str(i//2), (x, y),cv2.FONT_HERSHEY_COMPLEX, 0.5, (255, 0, 0)) \n",
    "    if(len(approx)==4):\n",
    "        paper_contour=approx\n",
    "        break\n",
    "cv2.imshow('Contours2.jpg', image)\n",
    "cv2.waitKey(0)\n",
    "image = cv2.imread('omr.png')"
   ]
  },
  {
   "cell_type": "code",
   "execution_count": 12,
   "id": "beebe794",
   "metadata": {},
   "outputs": [
    {
     "name": "stdout",
     "output_type": "stream",
     "text": [
      "(4, 1, 2)\n"
     ]
    }
   ],
   "source": [
    "print(paper_contour.shape)"
   ]
  },
  {
   "cell_type": "code",
   "execution_count": 13,
   "id": "15bf9dfc",
   "metadata": {},
   "outputs": [
    {
     "data": {
      "text/plain": [
       "-1"
      ]
     },
     "execution_count": 13,
     "metadata": {},
     "output_type": "execute_result"
    }
   ],
   "source": [
    "paper= four_point_transform(image, paper_contour.reshape(4, 2))  \n",
    "cv2.imshow('paper', paper)\n",
    "cv2.waitKey(0)"
   ]
  },
  {
   "cell_type": "code",
   "execution_count": 14,
   "id": "2256f836",
   "metadata": {},
   "outputs": [
    {
     "data": {
      "text/plain": [
       "-1"
      ]
     },
     "execution_count": 14,
     "metadata": {},
     "output_type": "execute_result"
    }
   ],
   "source": [
    "gray_scale_paper= four_point_transform(gray_scale, paper_contour.reshape(4, 2))  \n",
    "cv2.imshow('paper', gray_scale_paper)\n",
    "cv2.waitKey(0)"
   ]
  },
  {
   "cell_type": "code",
   "execution_count": 15,
   "id": "cc0586b5",
   "metadata": {},
   "outputs": [
    {
     "data": {
      "text/plain": [
       "-1"
      ]
     },
     "execution_count": 15,
     "metadata": {},
     "output_type": "execute_result"
    }
   ],
   "source": [
    "_,thresholded=cv2.threshold(gray_scale_paper,0,255, cv2.THRESH_BINARY_INV | cv2.THRESH_OTSU)\n",
    "cv2.imshow('paper1', thresholded)\n",
    "cv2.waitKey(0)"
   ]
  },
  {
   "cell_type": "code",
   "execution_count": 16,
   "id": "53c98da0",
   "metadata": {},
   "outputs": [
    {
     "data": {
      "text/plain": [
       "-1"
      ]
     },
     "execution_count": 16,
     "metadata": {},
     "output_type": "execute_result"
    }
   ],
   "source": [
    "_,thresholded=cv2.threshold(gray_scale_paper,150,255, cv2.THRESH_BINARY_INV)\n",
    "cv2.imshow('paper2', thresholded)\n",
    "cv2.waitKey(0)"
   ]
  },
  {
   "cell_type": "code",
   "execution_count": 17,
   "id": "06cb63ec",
   "metadata": {},
   "outputs": [],
   "source": [
    "pap_cnts,_=cv2.findContours(thresholded, cv2.RETR_EXTERNAL, cv2.CHAIN_APPROX_SIMPLE)"
   ]
  },
  {
   "cell_type": "code",
   "execution_count": 30,
   "id": "4f4399a3",
   "metadata": {},
   "outputs": [],
   "source": [
    "def test_cnts(cnts):\n",
    "    cv2.drawContours(thresholded, cnts, -1,255, 3)\n",
    "  \n",
    "    cv2.imshow('Contours.jpg', thresholded)\n",
    "    cv2.waitKey(0)"
   ]
  },
  {
   "cell_type": "code",
   "execution_count": 58,
   "id": "89175552",
   "metadata": {},
   "outputs": [],
   "source": [
    "pre_question_cnts=[]\n",
    "value=20\n",
    "for cnt in pap_cnts:\n",
    "    (x,y,w,h)=cv2.boundingRect(cnt)\n",
    "    aspect_ratio=w/h\n",
    "    if(w>=value and h>=value and aspect_ratio>=0.9 and aspect_ratio<=1.1):\n",
    "        pre_question_cnts.append(cnt)"
   ]
  },
  {
   "cell_type": "code",
   "execution_count": 59,
   "id": "8ba4b8d2",
   "metadata": {},
   "outputs": [
    {
     "name": "stdout",
     "output_type": "stream",
     "text": [
      "25 73\n"
     ]
    }
   ],
   "source": [
    "print(len(pre_question_cnts),len(pap_cnts))"
   ]
  },
  {
   "cell_type": "code",
   "execution_count": 60,
   "id": "b47d745a",
   "metadata": {},
   "outputs": [],
   "source": [
    "question_cnts,_=imcnts.sort_contours(pre_question_cnts,method='top-to-bottom')"
   ]
  },
  {
   "cell_type": "code",
   "execution_count": 61,
   "id": "5dcaa634",
   "metadata": {},
   "outputs": [],
   "source": [
    "Answer_key= {0:1, 1:4, 2:0, 3:2, 4:0}\n",
    "correct=0"
   ]
  },
  {
   "cell_type": "code",
   "execution_count": 62,
   "id": "8f73f4ea",
   "metadata": {},
   "outputs": [
    {
     "name": "stdout",
     "output_type": "stream",
     "text": [
      "25\n"
     ]
    }
   ],
   "source": [
    "print(len(question_cnts))"
   ]
  },
  {
   "cell_type": "code",
   "execution_count": 63,
   "id": "cafbe8f7",
   "metadata": {},
   "outputs": [],
   "source": [
    "#test_cnts(question_cnts)"
   ]
  },
  {
   "cell_type": "code",
   "execution_count": 64,
   "id": "8b34ad89",
   "metadata": {},
   "outputs": [],
   "source": [
    "_,thresholded=cv2.threshold(gray_scale_paper,150,255, cv2.THRESH_BINARY_INV)\n",
    "pap_cnts,_=cv2.findContours(thresholded, cv2.RETR_EXTERNAL, cv2.CHAIN_APPROX_SIMPLE)"
   ]
  },
  {
   "cell_type": "code",
   "execution_count": 77,
   "id": "5802bab6",
   "metadata": {},
   "outputs": [
    {
     "name": "stdout",
     "output_type": "stream",
     "text": [
      "1\n",
      "4\n",
      "0\n",
      "2\n",
      "1\n"
     ]
    }
   ],
   "source": [
    "for (qs,i) in enumerate(np.arange(0,len(question_cnts),5)):\n",
    "    curr_ques_cnts,_=imcnts.sort_contours(question_cnts[i:i+5])\n",
    "    bubbled=None\n",
    "    for (j,c) in enumerate(curr_ques_cnts):\n",
    "        mask = np.zeros(thresholded.shape, dtype=\"uint8\")\n",
    "        #negative one at the last arguement to fill the contours\n",
    "        cv2.drawContours(mask, [c], -1, 255, -1)\n",
    "        if(j==1 and qs==0):\n",
    "            cv2.imshow('mask1.jpg', mask)\n",
    "            cv2.waitKey(0)\n",
    "        mask= cv2.bitwise_and(thresholded, thresholded, mask=mask)\n",
    "        if(j==1 and qs==0):\n",
    "            cv2.imshow('mask2.jpg', mask)\n",
    "            cv2.waitKey(0)\n",
    "        total= cv2.countNonZero(mask)\n",
    "\n",
    "        if bubbled is None or total >bubbled[0]:\n",
    "            bubbled= (total, j)\n",
    "        color= (0, 0, 255)\n",
    "    k= Answer_key[qs]    \n",
    "    print(bubbled[1])\n",
    "    if k == bubbled[1]:\n",
    "        correct= correct+1\n"
   ]
  },
  {
   "cell_type": "code",
   "execution_count": 74,
   "id": "c9261ae9",
   "metadata": {},
   "outputs": [
    {
     "name": "stdout",
     "output_type": "stream",
     "text": [
      "4\n"
     ]
    }
   ],
   "source": [
    "print(correct)\n",
    "correct=0"
   ]
  },
  {
   "cell_type": "code",
   "execution_count": null,
   "id": "eb154a66",
   "metadata": {},
   "outputs": [],
   "source": []
  },
  {
   "cell_type": "code",
   "execution_count": 57,
   "id": "fa1b8c5d",
   "metadata": {},
   "outputs": [
    {
     "data": {
      "text/plain": [
       "-1"
      ]
     },
     "execution_count": 57,
     "metadata": {},
     "output_type": "execute_result"
    }
   ],
   "source": [
    "cv2.imshow('Contours.jpg', thresholded)\n",
    "cv2.waitKey(0)"
   ]
  },
  {
   "cell_type": "code",
   "execution_count": null,
   "id": "304454d5",
   "metadata": {},
   "outputs": [],
   "source": []
  }
 ],
 "metadata": {
  "kernelspec": {
   "display_name": "Python 3 (ipykernel)",
   "language": "python",
   "name": "python3"
  },
  "language_info": {
   "codemirror_mode": {
    "name": "ipython",
    "version": 3
   },
   "file_extension": ".py",
   "mimetype": "text/x-python",
   "name": "python",
   "nbconvert_exporter": "python",
   "pygments_lexer": "ipython3",
   "version": "3.10.7"
  }
 },
 "nbformat": 4,
 "nbformat_minor": 5
}
