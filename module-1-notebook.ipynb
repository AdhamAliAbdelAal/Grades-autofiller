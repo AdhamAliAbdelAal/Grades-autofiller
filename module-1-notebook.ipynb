{
 "cells": [
  {
   "cell_type": "code",
   "execution_count": 215,
   "id": "5b4c1051",
   "metadata": {},
   "outputs": [],
   "source": [
    "import cv2\n",
    "import numpy as np\n",
    "from matplotlib import pyplot as plt\n",
    "from crop_image import *\n",
    "import imutils\n",
    "from imutils import contours as imcnts\n",
    "import skimage.io as io\n",
    "%matplotlib inline"
   ]
  },
  {
   "cell_type": "code",
   "execution_count": 216,
   "id": "2021ae1a",
   "metadata": {},
   "outputs": [],
   "source": [
    "image = cv2.imread('omr.png')\n",
    "cv2.imshow('image.jpg',image)\n",
    "cv2.waitKey(0)\n",
    "number_of_choices=4\n",
    "number_of_columns=2"
   ]
  },
  {
   "cell_type": "code",
   "execution_count": 217,
   "id": "d32f254a",
   "metadata": {},
   "outputs": [
    {
     "data": {
      "text/plain": [
       "-1"
      ]
     },
     "execution_count": 217,
     "metadata": {},
     "output_type": "execute_result"
    }
   ],
   "source": [
    "gray_scale = cv2.cvtColor(image,cv2.COLOR_BGR2GRAY)\n",
    "cv2.imshow('gray scale image.jpg',gray_scale)\n",
    "cv2.waitKey(0)"
   ]
  },
  {
   "cell_type": "code",
   "execution_count": 218,
   "id": "4f332775",
   "metadata": {},
   "outputs": [
    {
     "data": {
      "text/plain": [
       "\"gaussian = cv2.GaussianBlur(image,(3,3),0)\\ncv2.imshow('image',gaussian)\\ncv2.waitKey(0)\""
      ]
     },
     "execution_count": 218,
     "metadata": {},
     "output_type": "execute_result"
    }
   ],
   "source": [
    "\"\"\"gaussian = cv2.GaussianBlur(image,(3,3),0)\n",
    "cv2.imshow('image',gaussian)\n",
    "cv2.waitKey(0)\"\"\""
   ]
  },
  {
   "cell_type": "code",
   "execution_count": 219,
   "id": "129f7331",
   "metadata": {},
   "outputs": [
    {
     "data": {
      "text/plain": [
       "-1"
      ]
     },
     "execution_count": 219,
     "metadata": {},
     "output_type": "execute_result"
    }
   ],
   "source": [
    "edged = cv2.Canny(gray_scale,50,200)\n",
    "cv2.imshow('edged.jpg',edged)\n",
    "cv2.waitKey(0)"
   ]
  },
  {
   "cell_type": "code",
   "execution_count": 220,
   "id": "4a52a783",
   "metadata": {},
   "outputs": [
    {
     "name": "stdout",
     "output_type": "stream",
     "text": [
      "Number of Contours found = 4\n"
     ]
    }
   ],
   "source": [
    "contours,_= cv2.findContours(edged, \n",
    "    cv2.RETR_EXTERNAL, cv2.CHAIN_APPROX_NONE)\n",
    "\n",
    "print(\"Number of Contours found = \" + str(len(contours)))\n",
    "  \n",
    "cv2.drawContours(image, contours, -1,(0,255,0), 3)\n",
    "  \n",
    "cv2.imshow('Contours.jpg', image)\n",
    "cv2.waitKey(0)\n",
    "image = cv2.imread('omr.png')"
   ]
  },
  {
   "cell_type": "code",
   "execution_count": 221,
   "id": "e23dc35c",
   "metadata": {},
   "outputs": [],
   "source": [
    "#sorting all contours\n",
    "if(len(contours)>0):\n",
    "    contours=sorted(contours,key=cv2.contourArea,reverse=True)"
   ]
  },
  {
   "cell_type": "code",
   "execution_count": 222,
   "id": "bba4dbc4",
   "metadata": {},
   "outputs": [],
   "source": [
    "cv2.drawContours(image, contours, 0,(0,255,0), 3)\n",
    "  \n",
    "cv2.imshow('Contours3.jpg', image)\n",
    "cv2.waitKey(0)\n",
    "image = cv2.imread('omr.png')"
   ]
  },
  {
   "cell_type": "code",
   "execution_count": 223,
   "id": "3b88da12",
   "metadata": {},
   "outputs": [
    {
     "name": "stdout",
     "output_type": "stream",
     "text": [
      "1484.610171675682\n",
      "4\n"
     ]
    }
   ],
   "source": [
    "paper_contour=None\n",
    "for cnt in contours:\n",
    "    peri = cv2.arcLength(cnt,True)\n",
    "    print(peri)\n",
    "    # to approximate the given shape to polygon (high value leads to underestimation and low value leads to overestimation)\n",
    "    ratio=0.02\n",
    "    approx=cv2.approxPolyDP(cnt,ratio*peri,True)\n",
    "    cv2.drawContours(image, [approx], 0,(0,0,255), 3)\n",
    "    print(len(approx))\n",
    "    coordinates=approx.ravel()\n",
    "    for i in range(0,len(coordinates),2):\n",
    "        x=coordinates[i]\n",
    "        y=coordinates[i+1]\n",
    "        cv2.putText(image, \"vertex\"+str(i//2), (x, y),cv2.FONT_HERSHEY_COMPLEX, 0.5, (255, 0, 0)) \n",
    "    if(len(approx)==4):\n",
    "        paper_contour=approx\n",
    "        break\n",
    "cv2.imshow('Contours2.jpg', image)\n",
    "cv2.waitKey(0)\n",
    "image = cv2.imread('omr.png')"
   ]
  },
  {
   "cell_type": "code",
   "execution_count": 224,
   "id": "beebe794",
   "metadata": {},
   "outputs": [
    {
     "name": "stdout",
     "output_type": "stream",
     "text": [
      "(4, 1, 2)\n"
     ]
    }
   ],
   "source": [
    "print(paper_contour.shape)"
   ]
  },
  {
   "cell_type": "code",
   "execution_count": 225,
   "id": "15bf9dfc",
   "metadata": {},
   "outputs": [
    {
     "data": {
      "text/plain": [
       "-1"
      ]
     },
     "execution_count": 225,
     "metadata": {},
     "output_type": "execute_result"
    }
   ],
   "source": [
    "paper= four_point_transform(image, paper_contour.reshape(4, 2))  \n",
    "cv2.imshow('paper', paper)\n",
    "cv2.waitKey(0)"
   ]
  },
  {
   "cell_type": "code",
   "execution_count": 226,
   "id": "2256f836",
   "metadata": {},
   "outputs": [
    {
     "data": {
      "text/plain": [
       "-1"
      ]
     },
     "execution_count": 226,
     "metadata": {},
     "output_type": "execute_result"
    }
   ],
   "source": [
    "gray_scale_paper= four_point_transform(gray_scale, paper_contour.reshape(4, 2))  \n",
    "cv2.imshow('paper', gray_scale_paper)\n",
    "cv2.waitKey(0)"
   ]
  },
  {
   "cell_type": "code",
   "execution_count": 227,
   "id": "cc0586b5",
   "metadata": {},
   "outputs": [
    {
     "data": {
      "text/plain": [
       "-1"
      ]
     },
     "execution_count": 227,
     "metadata": {},
     "output_type": "execute_result"
    }
   ],
   "source": [
    "_,thresholded=cv2.threshold(gray_scale_paper,200,255, cv2.THRESH_BINARY_INV | cv2.THRESH_OTSU)\n",
    "cv2.imshow('paper1', thresholded)\n",
    "cv2.waitKey(0)"
   ]
  },
  {
   "cell_type": "code",
   "execution_count": 228,
   "id": "53c98da0",
   "metadata": {},
   "outputs": [],
   "source": [
    "# _,thresholded=cv2.threshold(gray_scale_paper,200,255, cv2.THRESH_BINARY_INV)\n",
    "# cv2.imshow('paper2', thresholded)\n",
    "# cv2.waitKey(0)"
   ]
  },
  {
   "cell_type": "code",
   "execution_count": 229,
   "id": "06cb63ec",
   "metadata": {},
   "outputs": [],
   "source": [
    "pap_cnts,_=cv2.findContours(thresholded, cv2.RETR_EXTERNAL, cv2.CHAIN_APPROX_SIMPLE)"
   ]
  },
  {
   "cell_type": "code",
   "execution_count": 230,
   "id": "4f4399a3",
   "metadata": {},
   "outputs": [],
   "source": [
    "def test_cnts(cnts):\n",
    "    cv2.drawContours(thresholded, cnts, -1,255, 3)\n",
    "  \n",
    "    cv2.imshow('Contours.jpg', thresholded)\n",
    "    cv2.waitKey(0)"
   ]
  },
  {
   "cell_type": "code",
   "execution_count": 231,
   "id": "89175552",
   "metadata": {},
   "outputs": [],
   "source": [
    "pre_question_cnts=[]\n",
    "value=(15,50)\n",
    "for cnt in pap_cnts:\n",
    "    (x,y,w,h)=cv2.boundingRect(cnt)\n",
    "    aspect_ratio=w/h\n",
    "    if(w>=value[0] and w<=value[1] and h>=value[0] and h<=value[1] and aspect_ratio>=0.9 and aspect_ratio<=1.1):\n",
    "        pre_question_cnts.append(cnt)"
   ]
  },
  {
   "cell_type": "code",
   "execution_count": 232,
   "id": "8ba4b8d2",
   "metadata": {},
   "outputs": [
    {
     "name": "stdout",
     "output_type": "stream",
     "text": [
      "25 75\n"
     ]
    }
   ],
   "source": [
    "print(len(pre_question_cnts),len(pap_cnts))"
   ]
  },
  {
   "cell_type": "code",
   "execution_count": 233,
   "id": "b47d745a",
   "metadata": {},
   "outputs": [],
   "source": [
    "question_cnts,_=imcnts.sort_contours(pre_question_cnts,method='top-to-bottom')"
   ]
  },
  {
   "cell_type": "code",
   "execution_count": 234,
   "id": "5dcaa634",
   "metadata": {},
   "outputs": [],
   "source": [
    "Answer_key= {0:1, 1:4, 2:0, 3:2}\n",
    "correct=0"
   ]
  },
  {
   "cell_type": "code",
   "execution_count": 235,
   "id": "8f73f4ea",
   "metadata": {},
   "outputs": [
    {
     "name": "stdout",
     "output_type": "stream",
     "text": [
      "25\n"
     ]
    }
   ],
   "source": [
    "print(len(question_cnts))"
   ]
  },
  {
   "cell_type": "code",
   "execution_count": 236,
   "id": "cafbe8f7",
   "metadata": {},
   "outputs": [],
   "source": [
    "#test_cnts(question_cnts)"
   ]
  },
  {
   "cell_type": "code",
   "execution_count": 237,
   "id": "8b34ad89",
   "metadata": {},
   "outputs": [],
   "source": [
    "_,thresholded=cv2.threshold(gray_scale_paper,150,255, cv2.THRESH_BINARY_INV)\n",
    "pap_cnts,_=cv2.findContours(thresholded, cv2.RETR_EXTERNAL, cv2.CHAIN_APPROX_SIMPLE)"
   ]
  },
  {
   "cell_type": "code",
   "execution_count": 238,
   "id": "8c1cfbb8",
   "metadata": {},
   "outputs": [],
   "source": [
    "colors=[(255,0,0)\n",
    ",(0,255,0)\n",
    ",(0,0,255)\n",
    ",(0,255,255)\n",
    ",(255,255,0)\n",
    ",(0,0,255)\n",
    ",(0,255,255)\n",
    ",(255,0,255)\n",
    ",(192,192,192)\n",
    ",(128,128,128)\n",
    ",(128,0,0)\n",
    ",(128,128,0)\n",
    ",(0,128,0)\n",
    ",(128,0,128)\n",
    ",(0,128,128)\n",
    ",(0,0,128),\n",
    "       (255,215,0)]"
   ]
  },
  {
   "cell_type": "code",
   "execution_count": 239,
   "id": "5802bab6",
   "metadata": {},
   "outputs": [
    {
     "name": "stdout",
     "output_type": "stream",
     "text": [
      "qestion#1: B\n",
      "qestion#2: D\n",
      "qestion#3: B\n",
      "qestion#4: B\n",
      "qestion#5: D\n",
      "qestion#6: C\n",
      "qestion#7: A\n",
      "4\n"
     ]
    }
   ],
   "source": [
    "counter=0\n",
    "qs=0\n",
    "for (row,i) in enumerate(np.arange(0,len(question_cnts),number_of_columns*number_of_choices)):\n",
    "\n",
    "    curr_row_cnts,_=imcnts.sort_contours(question_cnts[i:i+number_of_columns*number_of_choices])\n",
    "    for k in np.arange(0,len(curr_row_cnts),number_of_choices):\n",
    "        curr_ques_cnts=curr_row_cnts[k:k+number_of_choices]\n",
    "        color1=colors[qs%len(colors)]\n",
    "        cv2.drawContours(paper,curr_ques_cnts,-1,color1, 1)\n",
    "        bubbled=None\n",
    "        for (j,c) in enumerate(curr_ques_cnts):\n",
    "            mask = np.zeros(thresholded.shape, dtype=\"uint8\")\n",
    "            #negative one at the last arguement to fill the contours\n",
    "            cv2.drawContours(mask, [c], -1, 255, -1)\n",
    "            mask= cv2.bitwise_and(thresholded, mask)\n",
    "            total= cv2.countNonZero(mask)\n",
    "\n",
    "            if bubbled is None or total >bubbled[0]:\n",
    "                bubbled= (total, j)\n",
    "            color= (0, 0, 255)\n",
    "        print(f\"qestion#{qs+1}: {chr(bubbled[1]+ord('A'))}\")\n",
    "        qs+=1\n",
    "    counter+=1\n",
    "print(counter)\n",
    "counter=0\n",
    "cv2.imshow('paper', paper)\n",
    "cv2.waitKey(0)\n",
    "paper= four_point_transform(image, paper_contour.reshape(4, 2)) "
   ]
  },
  {
   "cell_type": "code",
   "execution_count": 240,
   "id": "c9261ae9",
   "metadata": {},
   "outputs": [
    {
     "name": "stdout",
     "output_type": "stream",
     "text": [
      "0\n"
     ]
    }
   ],
   "source": [
    "print(correct)\n",
    "correct=0"
   ]
  },
  {
   "cell_type": "code",
   "execution_count": null,
   "id": "eb154a66",
   "metadata": {},
   "outputs": [],
   "source": []
  },
  {
   "cell_type": "code",
   "execution_count": 241,
   "id": "fa1b8c5d",
   "metadata": {},
   "outputs": [
    {
     "data": {
      "text/plain": [
       "-1"
      ]
     },
     "execution_count": 241,
     "metadata": {},
     "output_type": "execute_result"
    }
   ],
   "source": [
    "cv2.imshow('Contours.jpg', thresholded)\n",
    "cv2.waitKey(0)"
   ]
  },
  {
   "cell_type": "code",
   "execution_count": 242,
   "id": "fb3c8f00",
   "metadata": {},
   "outputs": [],
   "source": [
    "for i,cnt in enumerate(question_cnts):\n",
    "    color1=(255,0,0) if i%2==0 else (0,0,255)\n",
    "    cv2.drawContours(paper,[cnt],-1,color1, 1)\n",
    "cv2.imshow('paper', paper)\n",
    "cv2.waitKey(0)\n",
    "paper= four_point_transform(image, paper_contour.reshape(4, 2)) "
   ]
  },
  {
   "cell_type": "code",
   "execution_count": 243,
   "id": "dc815aef",
   "metadata": {},
   "outputs": [],
   "source": [
    "def show_images(images,titles=None):\n",
    "    #This function is used to show image(s) with titles by sending an array of images and an array of associated titles.\n",
    "    # images[0] will be drawn with the title titles[0] if exists\n",
    "    # You aren't required to understand this function, use it as-is.\n",
    "    n_ims = len(images)\n",
    "    if titles is None: titles = ['(%d)' % i for i in range(1,n_ims + 1)]\n",
    "    fig = plt.figure()\n",
    "    n = 1\n",
    "    for image,title in zip(images,titles):\n",
    "        a = fig.add_subplot(1,n_ims,n)\n",
    "        if image.ndim == 2: \n",
    "            plt.gray()\n",
    "        plt.imshow(image)\n",
    "        a.set_title(title)\n",
    "        n += 1\n",
    "    fig.set_size_inches(np.array(fig.get_size_inches()) * n_ims)\n",
    "    plt.show()\n",
    "\n"
   ]
  },
  {
   "cell_type": "code",
   "execution_count": 244,
   "id": "f282f666",
   "metadata": {},
   "outputs": [
    {
     "name": "stdout",
     "output_type": "stream",
     "text": [
      "[array([[[132, 205]],\n",
      "\n",
      "       [[131, 206]],\n",
      "\n",
      "       [[131, 207]],\n",
      "\n",
      "       ...,\n",
      "\n",
      "       [[135, 205]],\n",
      "\n",
      "       [[134, 205]],\n",
      "\n",
      "       [[133, 205]]], dtype=int32), array([[[112, 667]],\n",
      "\n",
      "       [[112, 668]],\n",
      "\n",
      "       [[113, 669]],\n",
      "\n",
      "       [[114, 670]],\n",
      "\n",
      "       [[114, 671]],\n",
      "\n",
      "       [[115, 671]],\n",
      "\n",
      "       [[116, 671]],\n",
      "\n",
      "       [[116, 670]],\n",
      "\n",
      "       [[116, 669]],\n",
      "\n",
      "       [[116, 668]],\n",
      "\n",
      "       [[115, 669]],\n",
      "\n",
      "       [[114, 668]],\n",
      "\n",
      "       [[113, 667]]], dtype=int32), array([[[121, 452]],\n",
      "\n",
      "       [[121, 453]],\n",
      "\n",
      "       [[121, 454]],\n",
      "\n",
      "       [[121, 455]],\n",
      "\n",
      "       [[121, 456]],\n",
      "\n",
      "       [[121, 457]],\n",
      "\n",
      "       [[121, 458]],\n",
      "\n",
      "       [[121, 459]],\n",
      "\n",
      "       [[121, 460]],\n",
      "\n",
      "       [[121, 461]],\n",
      "\n",
      "       [[121, 462]],\n",
      "\n",
      "       [[121, 463]],\n",
      "\n",
      "       [[121, 464]],\n",
      "\n",
      "       [[121, 465]],\n",
      "\n",
      "       [[121, 466]],\n",
      "\n",
      "       [[121, 467]],\n",
      "\n",
      "       [[121, 468]],\n",
      "\n",
      "       [[121, 469]],\n",
      "\n",
      "       [[121, 470]],\n",
      "\n",
      "       [[121, 471]],\n",
      "\n",
      "       [[121, 472]],\n",
      "\n",
      "       [[121, 473]],\n",
      "\n",
      "       [[121, 474]],\n",
      "\n",
      "       [[121, 475]],\n",
      "\n",
      "       [[121, 476]],\n",
      "\n",
      "       [[121, 477]],\n",
      "\n",
      "       [[121, 476]],\n",
      "\n",
      "       [[121, 475]],\n",
      "\n",
      "       [[121, 474]],\n",
      "\n",
      "       [[121, 473]],\n",
      "\n",
      "       [[121, 472]],\n",
      "\n",
      "       [[121, 471]],\n",
      "\n",
      "       [[121, 470]],\n",
      "\n",
      "       [[121, 469]],\n",
      "\n",
      "       [[121, 468]],\n",
      "\n",
      "       [[121, 467]],\n",
      "\n",
      "       [[121, 466]],\n",
      "\n",
      "       [[121, 465]],\n",
      "\n",
      "       [[121, 464]],\n",
      "\n",
      "       [[121, 463]],\n",
      "\n",
      "       [[121, 462]],\n",
      "\n",
      "       [[121, 461]],\n",
      "\n",
      "       [[121, 460]],\n",
      "\n",
      "       [[121, 459]],\n",
      "\n",
      "       [[121, 458]],\n",
      "\n",
      "       [[121, 457]],\n",
      "\n",
      "       [[121, 456]],\n",
      "\n",
      "       [[121, 455]],\n",
      "\n",
      "       [[121, 454]],\n",
      "\n",
      "       [[121, 453]]], dtype=int32), array([[[390, 205]],\n",
      "\n",
      "       [[391, 205]],\n",
      "\n",
      "       [[392, 205]],\n",
      "\n",
      "       [[393, 205]],\n",
      "\n",
      "       [[394, 205]],\n",
      "\n",
      "       [[395, 205]],\n",
      "\n",
      "       [[396, 205]],\n",
      "\n",
      "       [[397, 205]],\n",
      "\n",
      "       [[398, 205]],\n",
      "\n",
      "       [[399, 205]],\n",
      "\n",
      "       [[400, 205]],\n",
      "\n",
      "       [[401, 205]],\n",
      "\n",
      "       [[402, 205]],\n",
      "\n",
      "       [[403, 205]],\n",
      "\n",
      "       [[404, 205]],\n",
      "\n",
      "       [[405, 205]],\n",
      "\n",
      "       [[406, 205]],\n",
      "\n",
      "       [[407, 205]],\n",
      "\n",
      "       [[408, 205]],\n",
      "\n",
      "       [[409, 205]],\n",
      "\n",
      "       [[410, 205]],\n",
      "\n",
      "       [[411, 205]],\n",
      "\n",
      "       [[412, 205]],\n",
      "\n",
      "       [[413, 205]],\n",
      "\n",
      "       [[414, 205]],\n",
      "\n",
      "       [[413, 205]],\n",
      "\n",
      "       [[412, 205]],\n",
      "\n",
      "       [[411, 205]],\n",
      "\n",
      "       [[410, 205]],\n",
      "\n",
      "       [[409, 205]],\n",
      "\n",
      "       [[408, 205]],\n",
      "\n",
      "       [[407, 205]],\n",
      "\n",
      "       [[406, 205]],\n",
      "\n",
      "       [[405, 205]],\n",
      "\n",
      "       [[404, 205]],\n",
      "\n",
      "       [[403, 205]],\n",
      "\n",
      "       [[402, 205]],\n",
      "\n",
      "       [[401, 205]],\n",
      "\n",
      "       [[400, 205]],\n",
      "\n",
      "       [[399, 205]],\n",
      "\n",
      "       [[398, 205]],\n",
      "\n",
      "       [[397, 205]],\n",
      "\n",
      "       [[396, 205]],\n",
      "\n",
      "       [[395, 205]],\n",
      "\n",
      "       [[394, 205]],\n",
      "\n",
      "       [[393, 205]],\n",
      "\n",
      "       [[392, 205]],\n",
      "\n",
      "       [[391, 205]]], dtype=int32)]\n"
     ]
    }
   ],
   "source": [
    "print(contours)"
   ]
  },
  {
   "cell_type": "code",
   "execution_count": 245,
   "id": "148a5f6a",
   "metadata": {},
   "outputs": [
    {
     "data": {
      "text/plain": [
       "'adhamA'"
      ]
     },
     "execution_count": 245,
     "metadata": {},
     "output_type": "execute_result"
    }
   ],
   "source": [
    "f\"adham{chr(bubbled[1]+ord('A'))}\""
   ]
  },
  {
   "cell_type": "code",
   "execution_count": null,
   "id": "1e405d25",
   "metadata": {},
   "outputs": [],
   "source": []
  }
 ],
 "metadata": {
  "kernelspec": {
   "display_name": "Python 3 (ipykernel)",
   "language": "python",
   "name": "python3"
  },
  "language_info": {
   "codemirror_mode": {
    "name": "ipython",
    "version": 3
   },
   "file_extension": ".py",
   "mimetype": "text/x-python",
   "name": "python",
   "nbconvert_exporter": "python",
   "pygments_lexer": "ipython3",
   "version": "3.10.7"
  }
 },
 "nbformat": 4,
 "nbformat_minor": 5
}
