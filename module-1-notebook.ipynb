{
 "cells": [
  {
   "cell_type": "code",
   "execution_count": 1,
   "id": "5b4c1051",
   "metadata": {},
   "outputs": [],
   "source": [
    "import cv2\n",
    "import numpy as np\n",
    "from matplotlib import pyplot as plt\n",
    "from crop_image import *\n",
    "import imutils\n",
    "from imutils import contours as imcnts\n",
    "import skimage.io as io\n",
    "%matplotlib inline"
   ]
  },
  {
   "cell_type": "code",
   "execution_count": 26,
   "id": "2021ae1a",
   "metadata": {},
   "outputs": [],
   "source": [
    "image = cv2.imread('omr.png')\n",
    "cv2.imshow('image.jpg',image)\n",
    "cv2.waitKey(0)\n",
    "number_of_choices=5\n",
    "number_of_columns=2"
   ]
  },
  {
   "cell_type": "code",
   "execution_count": 3,
   "id": "d32f254a",
   "metadata": {},
   "outputs": [
    {
     "data": {
      "text/plain": [
       "-1"
      ]
     },
     "execution_count": 3,
     "metadata": {},
     "output_type": "execute_result"
    }
   ],
   "source": [
    "gray_scale = cv2.cvtColor(image,cv2.COLOR_BGR2GRAY)\n",
    "cv2.imshow('gray scale image.jpg',gray_scale)\n",
    "cv2.waitKey(0)"
   ]
  },
  {
   "cell_type": "code",
   "execution_count": 4,
   "id": "4f332775",
   "metadata": {},
   "outputs": [
    {
     "data": {
      "text/plain": [
       "\"gaussian = cv2.GaussianBlur(image,(3,3),0)\\ncv2.imshow('image',gaussian)\\ncv2.waitKey(0)\""
      ]
     },
     "execution_count": 4,
     "metadata": {},
     "output_type": "execute_result"
    }
   ],
   "source": [
    "\"\"\"gaussian = cv2.GaussianBlur(image,(3,3),0)\n",
    "cv2.imshow('image',gaussian)\n",
    "cv2.waitKey(0)\"\"\""
   ]
  },
  {
   "cell_type": "code",
   "execution_count": 5,
   "id": "129f7331",
   "metadata": {},
   "outputs": [
    {
     "data": {
      "text/plain": [
       "-1"
      ]
     },
     "execution_count": 5,
     "metadata": {},
     "output_type": "execute_result"
    }
   ],
   "source": [
    "edged = cv2.Canny(gray_scale,50,200)\n",
    "cv2.imshow('edged.jpg',edged)\n",
    "cv2.waitKey(0)"
   ]
  },
  {
   "cell_type": "code",
   "execution_count": 6,
   "id": "4a52a783",
   "metadata": {},
   "outputs": [
    {
     "name": "stdout",
     "output_type": "stream",
     "text": [
      "Number of Contours found = 4\n"
     ]
    }
   ],
   "source": [
    "contours,_= cv2.findContours(edged, \n",
    "    cv2.RETR_EXTERNAL, cv2.CHAIN_APPROX_NONE)\n",
    "\n",
    "print(\"Number of Contours found = \" + str(len(contours)))\n",
    "  \n",
    "cv2.drawContours(image, contours, -1,(0,255,0), 3)\n",
    "  \n",
    "cv2.imshow('Contours.jpg', image)\n",
    "cv2.waitKey(0)\n",
    "image = cv2.imread('omr.png')"
   ]
  },
  {
   "cell_type": "code",
   "execution_count": 7,
   "id": "e23dc35c",
   "metadata": {},
   "outputs": [],
   "source": [
    "#sorting all contours\n",
    "if(len(contours)>0):\n",
    "    contours=sorted(contours,key=cv2.contourArea,reverse=True)"
   ]
  },
  {
   "cell_type": "code",
   "execution_count": 8,
   "id": "bba4dbc4",
   "metadata": {},
   "outputs": [],
   "source": [
    "cv2.drawContours(image, contours, 0,(0,255,0), 3)\n",
    "  \n",
    "cv2.imshow('Contours3.jpg', image)\n",
    "cv2.waitKey(0)\n",
    "image = cv2.imread('omr.png')"
   ]
  },
  {
   "cell_type": "code",
   "execution_count": 9,
   "id": "3b88da12",
   "metadata": {},
   "outputs": [
    {
     "name": "stdout",
     "output_type": "stream",
     "text": [
      "2004.0\n",
      "4\n"
     ]
    }
   ],
   "source": [
    "paper_contour=None\n",
    "for cnt in contours:\n",
    "    peri = cv2.arcLength(cnt,True)\n",
    "    print(peri)\n",
    "    # to approximate the given shape to polygon (high value leads to underestimation and low value leads to overestimation)\n",
    "    ratio=0.02\n",
    "    approx=cv2.approxPolyDP(cnt,ratio*peri,True)\n",
    "    cv2.drawContours(image, [approx], 0,(0,0,255), 3)\n",
    "    print(len(approx))\n",
    "    coordinates=approx.ravel()\n",
    "    for i in range(0,len(coordinates),2):\n",
    "        x=coordinates[i]\n",
    "        y=coordinates[i+1]\n",
    "        cv2.putText(image, \"vertex\"+str(i//2), (x, y),cv2.FONT_HERSHEY_COMPLEX, 0.5, (255, 0, 0)) \n",
    "    if(len(approx)==4):\n",
    "        paper_contour=approx\n",
    "        break\n",
    "cv2.imshow('Contours2.jpg', image)\n",
    "cv2.waitKey(0)\n",
    "image = cv2.imread('omr.png')"
   ]
  },
  {
   "cell_type": "code",
   "execution_count": 10,
   "id": "beebe794",
   "metadata": {},
   "outputs": [
    {
     "name": "stdout",
     "output_type": "stream",
     "text": [
      "(4, 1, 2)\n"
     ]
    }
   ],
   "source": [
    "print(paper_contour.shape)"
   ]
  },
  {
   "cell_type": "code",
   "execution_count": 11,
   "id": "15bf9dfc",
   "metadata": {},
   "outputs": [
    {
     "data": {
      "text/plain": [
       "-1"
      ]
     },
     "execution_count": 11,
     "metadata": {},
     "output_type": "execute_result"
    }
   ],
   "source": [
    "paper= four_point_transform(image, paper_contour.reshape(4, 2))  \n",
    "cv2.imshow('paper', paper)\n",
    "cv2.waitKey(0)"
   ]
  },
  {
   "cell_type": "code",
   "execution_count": 12,
   "id": "2256f836",
   "metadata": {},
   "outputs": [
    {
     "data": {
      "text/plain": [
       "-1"
      ]
     },
     "execution_count": 12,
     "metadata": {},
     "output_type": "execute_result"
    }
   ],
   "source": [
    "gray_scale_paper= four_point_transform(gray_scale, paper_contour.reshape(4, 2))  \n",
    "cv2.imshow('paper', gray_scale_paper)\n",
    "cv2.waitKey(0)"
   ]
  },
  {
   "cell_type": "code",
   "execution_count": 36,
   "id": "cc0586b5",
   "metadata": {},
   "outputs": [
    {
     "data": {
      "text/plain": [
       "-1"
      ]
     },
     "execution_count": 36,
     "metadata": {},
     "output_type": "execute_result"
    }
   ],
   "source": [
    "_,thresholded=cv2.threshold(gray_scale_paper,200,255, cv2.THRESH_BINARY_INV | cv2.THRESH_OTSU)\n",
    "cv2.imshow('paper1', thresholded)\n",
    "cv2.waitKey(0)"
   ]
  },
  {
   "cell_type": "code",
   "execution_count": 37,
   "id": "53c98da0",
   "metadata": {},
   "outputs": [
    {
     "data": {
      "text/plain": [
       "-1"
      ]
     },
     "execution_count": 37,
     "metadata": {},
     "output_type": "execute_result"
    }
   ],
   "source": [
    "_,thresholded=cv2.threshold(gray_scale_paper,200,255, cv2.THRESH_BINARY_INV)\n",
    "cv2.imshow('paper2', thresholded)\n",
    "cv2.waitKey(0)"
   ]
  },
  {
   "cell_type": "code",
   "execution_count": 38,
   "id": "06cb63ec",
   "metadata": {},
   "outputs": [],
   "source": [
    "pap_cnts,_=cv2.findContours(thresholded, cv2.RETR_EXTERNAL, cv2.CHAIN_APPROX_SIMPLE)"
   ]
  },
  {
   "cell_type": "code",
   "execution_count": 39,
   "id": "4f4399a3",
   "metadata": {},
   "outputs": [],
   "source": [
    "def test_cnts(cnts):\n",
    "    cv2.drawContours(thresholded, cnts, -1,255, 3)\n",
    "  \n",
    "    cv2.imshow('Contours.jpg', thresholded)\n",
    "    cv2.waitKey(0)"
   ]
  },
  {
   "cell_type": "code",
   "execution_count": 40,
   "id": "89175552",
   "metadata": {},
   "outputs": [],
   "source": [
    "pre_question_cnts=[]\n",
    "value=(15,25)\n",
    "for cnt in pap_cnts:\n",
    "    (x,y,w,h)=cv2.boundingRect(cnt)\n",
    "    aspect_ratio=w/h\n",
    "    if(w>=value[0] and w<=value[1] and h>=value[0] and h<=value[1] and aspect_ratio>=0.9 and aspect_ratio<=1.1):\n",
    "        pre_question_cnts.append(cnt)"
   ]
  },
  {
   "cell_type": "code",
   "execution_count": 41,
   "id": "8ba4b8d2",
   "metadata": {},
   "outputs": [
    {
     "name": "stdout",
     "output_type": "stream",
     "text": [
      "100 141\n"
     ]
    }
   ],
   "source": [
    "print(len(pre_question_cnts),len(pap_cnts))"
   ]
  },
  {
   "cell_type": "code",
   "execution_count": 42,
   "id": "b47d745a",
   "metadata": {},
   "outputs": [],
   "source": [
    "question_cnts,_=imcnts.sort_contours(pre_question_cnts,method='top-to-bottom')"
   ]
  },
  {
   "cell_type": "code",
   "execution_count": 43,
   "id": "5dcaa634",
   "metadata": {},
   "outputs": [],
   "source": [
    "Answer_key= {0:1, 1:4, 2:0, 3:2}\n",
    "correct=0"
   ]
  },
  {
   "cell_type": "code",
   "execution_count": 44,
   "id": "8f73f4ea",
   "metadata": {},
   "outputs": [
    {
     "name": "stdout",
     "output_type": "stream",
     "text": [
      "100\n"
     ]
    }
   ],
   "source": [
    "print(len(question_cnts))"
   ]
  },
  {
   "cell_type": "code",
   "execution_count": 45,
   "id": "cafbe8f7",
   "metadata": {},
   "outputs": [],
   "source": [
    "#test_cnts(question_cnts)"
   ]
  },
  {
   "cell_type": "code",
   "execution_count": 46,
   "id": "8b34ad89",
   "metadata": {},
   "outputs": [],
   "source": [
    "_,thresholded=cv2.threshold(gray_scale_paper,150,255, cv2.THRESH_BINARY_INV)\n",
    "pap_cnts,_=cv2.findContours(thresholded, cv2.RETR_EXTERNAL, cv2.CHAIN_APPROX_SIMPLE)"
   ]
  },
  {
   "cell_type": "code",
   "execution_count": 61,
   "id": "8c1cfbb8",
   "metadata": {},
   "outputs": [],
   "source": [
    "colors=[(0,0,0)\n",
    ",(0,255,0)\n",
    ",(0,0,255)\n",
    ",(0,255,0)\n",
    ",(255,255,0)\n",
    ",(0,0,255)\n",
    ",(0,255,255)\n",
    ",(255,0,255)\n",
    ",(192,192,192)\n",
    ",(128,128,128)\n",
    ",(128,0,0)\n",
    ",(128,128,0)\n",
    ",(0,128,0)\n",
    ",(128,0,128)\n",
    ",(0,128,128)\n",
    ",(0,0,128),\n",
    "       (255,215,0)]"
   ]
  },
  {
   "cell_type": "code",
   "execution_count": null,
   "id": "5802bab6",
   "metadata": {},
   "outputs": [
    {
     "name": "stdout",
     "output_type": "stream",
     "text": [
      "qestion#1: A\n",
      "qestion#2: A\n",
      "qestion#3: C\n",
      "qestion#4: B\n",
      "qestion#5: C\n",
      "qestion#6: C\n",
      "qestion#7: B\n",
      "qestion#8: C\n",
      "qestion#9: D\n",
      "qestion#10: C\n",
      "qestion#11: C\n",
      "qestion#12: C\n",
      "qestion#13: D\n",
      "qestion#14: B\n",
      "qestion#15: D\n",
      "qestion#16: B\n",
      "qestion#17: D\n",
      "qestion#18: B\n",
      "qestion#19: A\n",
      "qestion#20: B\n",
      "10\n"
     ]
    }
   ],
   "source": [
    "counter=0\n",
    "qs=0\n",
    "for (row,i) in enumerate(np.arange(0,len(question_cnts),number_of_columns*number_of_choices)):\n",
    "\n",
    "    curr_row_cnts,_=imcnts.sort_contours(question_cnts[i:i+number_of_columns*number_of_choices])\n",
    "    for k in np.arange(0,len(curr_row_cnts),number_of_choices):\n",
    "        curr_ques_cnts=curr_row_cnts[k:k+number_of_choices]\n",
    "        color1=colors[qs%len(colors)]\n",
    "        cv2.drawContours(paper,curr_ques_cnts,-1,color1, 1)\n",
    "        bubbled=None\n",
    "        for (j,c) in enumerate(curr_ques_cnts):\n",
    "            mask = np.zeros(thresholded.shape, dtype=\"uint8\")\n",
    "            #negative one at the last arguement to fill the contours\n",
    "            cv2.drawContours(mask, [c], -1, 255, -1)\n",
    "            mask= cv2.bitwise_and(thresholded, mask)\n",
    "            total= cv2.countNonZero(mask)\n",
    "\n",
    "            if bubbled is None or total >bubbled[0]:\n",
    "                bubbled= (total, j)\n",
    "            color= (0, 0, 255)\n",
    "        print(f\"qestion#{qs+1}: {chr(bubbled[1]+ord('A'))}\")\n",
    "        qs+=1\n",
    "    counter+=1\n",
    "print(counter)\n",
    "counter=0\n",
    "cv2.imshow('paper', paper)\n",
    "cv2.waitKey(0)\n",
    "paper= four_point_transform(image, paper_contour.reshape(4, 2)) "
   ]
  },
  {
   "cell_type": "code",
   "execution_count": null,
   "id": "c9261ae9",
   "metadata": {},
   "outputs": [],
   "source": [
    "print(correct)\n",
    "correct=0"
   ]
  },
  {
   "cell_type": "code",
   "execution_count": null,
   "id": "eb154a66",
   "metadata": {},
   "outputs": [],
   "source": []
  },
  {
   "cell_type": "code",
   "execution_count": null,
   "id": "fa1b8c5d",
   "metadata": {},
   "outputs": [],
   "source": [
    "cv2.imshow('Contours.jpg', thresholded)\n",
    "cv2.waitKey(0)"
   ]
  },
  {
   "cell_type": "code",
   "execution_count": null,
   "id": "fb3c8f00",
   "metadata": {},
   "outputs": [],
   "source": [
    "for i,cnt in enumerate(question_cnts):\n",
    "    color1=(255,0,0) if i%2==0 else (0,0,255)\n",
    "    cv2.drawContours(paper,[cnt],-1,color1, 1)\n",
    "cv2.imshow('paper', paper)\n",
    "cv2.waitKey(0)\n",
    "paper= four_point_transform(image, paper_contour.reshape(4, 2)) "
   ]
  },
  {
   "cell_type": "code",
   "execution_count": null,
   "id": "dc815aef",
   "metadata": {},
   "outputs": [],
   "source": [
    "def show_images(images,titles=None):\n",
    "    #This function is used to show image(s) with titles by sending an array of images and an array of associated titles.\n",
    "    # images[0] will be drawn with the title titles[0] if exists\n",
    "    # You aren't required to understand this function, use it as-is.\n",
    "    n_ims = len(images)\n",
    "    if titles is None: titles = ['(%d)' % i for i in range(1,n_ims + 1)]\n",
    "    fig = plt.figure()\n",
    "    n = 1\n",
    "    for image,title in zip(images,titles):\n",
    "        a = fig.add_subplot(1,n_ims,n)\n",
    "        if image.ndim == 2: \n",
    "            plt.gray()\n",
    "        plt.imshow(image)\n",
    "        a.set_title(title)\n",
    "        n += 1\n",
    "    fig.set_size_inches(np.array(fig.get_size_inches()) * n_ims)\n",
    "    plt.show()\n",
    "\n"
   ]
  },
  {
   "cell_type": "code",
   "execution_count": 30,
   "id": "9cca76ff",
   "metadata": {},
   "outputs": [
    {
     "name": "stdout",
     "output_type": "stream",
     "text": [
      "[array([[[10, 13]],\n",
      "\n",
      "       [[10, 14]],\n",
      "\n",
      "       [[10, 15]],\n",
      "\n",
      "       ...,\n",
      "\n",
      "       [[13, 13]],\n",
      "\n",
      "       [[12, 13]],\n",
      "\n",
      "       [[11, 13]]], dtype=int32), array([[[ 10, 575]],\n",
      "\n",
      "       [[ 11, 575]],\n",
      "\n",
      "       [[ 12, 575]],\n",
      "\n",
      "       ...,\n",
      "\n",
      "       [[ 13, 575]],\n",
      "\n",
      "       [[ 12, 575]],\n",
      "\n",
      "       [[ 11, 575]]], dtype=int32), array([[[454,  13]],\n",
      "\n",
      "       [[454,  14]],\n",
      "\n",
      "       [[454,  15]],\n",
      "\n",
      "       ...,\n",
      "\n",
      "       [[454,  16]],\n",
      "\n",
      "       [[454,  15]],\n",
      "\n",
      "       [[454,  14]]], dtype=int32), array([[[ 9, 11]],\n",
      "\n",
      "       [[ 8, 12]],\n",
      "\n",
      "       [[ 8, 13]],\n",
      "\n",
      "       ...,\n",
      "\n",
      "       [[12, 11]],\n",
      "\n",
      "       [[11, 11]],\n",
      "\n",
      "       [[10, 11]]], dtype=int32)]\n"
     ]
    }
   ],
   "source": [
    "print(contours)"
   ]
  },
  {
   "cell_type": "code",
   "execution_count": 59,
   "id": "bdd71099",
   "metadata": {},
   "outputs": [
    {
     "data": {
      "text/plain": [
       "'adhamB'"
      ]
     },
     "execution_count": 59,
     "metadata": {},
     "output_type": "execute_result"
    }
   ],
   "source": [
    "f\"adham{chr(bubbled[1]+ord('A'))}\""
   ]
  },
  {
   "cell_type": "code",
   "execution_count": null,
   "id": "df60671a",
   "metadata": {},
   "outputs": [],
   "source": []
  }
 ],
 "metadata": {
  "kernelspec": {
   "display_name": "Python 3 (ipykernel)",
   "language": "python",
   "name": "python3"
  },
  "language_info": {
   "codemirror_mode": {
    "name": "ipython",
    "version": 3
   },
   "file_extension": ".py",
   "mimetype": "text/x-python",
   "name": "python",
   "nbconvert_exporter": "python",
   "pygments_lexer": "ipython3",
   "version": "3.10.7"
  }
 },
 "nbformat": 4,
 "nbformat_minor": 5
}
