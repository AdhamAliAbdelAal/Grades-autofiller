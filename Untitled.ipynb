{
 "cells": [
  {
   "cell_type": "code",
   "execution_count": 137,
   "id": "39478b6b",
   "metadata": {},
   "outputs": [],
   "source": [
    "import cv2\n",
    "import numpy as np\n",
    "from matplotlib import pyplot as plt\n",
    "from crop_image import *\n",
    "import imutils\n",
    "from imutils import contours as imcnts\n",
    "import skimage.io as io\n",
    "from skimage.exposure import histogram\n",
    "from bubble_sheet_answer import *\n",
    "from paper_extraction import *\n",
    "from crop_image import *\n",
    "%matplotlib inline"
   ]
  },
  {
   "cell_type": "code",
   "execution_count": 138,
   "id": "f6792a0b",
   "metadata": {},
   "outputs": [],
   "source": [
    "def extract_the_paper_from_image(image):\n",
    "    paper = None\n",
    "    gray_scale = cv2.cvtColor(image, cv2.COLOR_BGR2GRAY)\n",
    "    edged = cv2.Canny(gray_scale, 75, 200)\n",
    "    contours, _ = cv2.findContours(edged,\n",
    "                                   cv2.RETR_EXTERNAL, cv2.CHAIN_APPROX_NONE)\n",
    "    if (len(contours) > 0):\n",
    "        contours = sorted(contours, key=cv2.contourArea, reverse=True)\n",
    "        paper_contour = None\n",
    "        for cnt in contours:\n",
    "            peri = cv2.arcLength(cnt, True)\n",
    "            ratio = 0.01\n",
    "            approx = cv2.approxPolyDP(cnt, ratio*peri, True)\n",
    "            if (len(approx) == 4):\n",
    "                paper_contour = approx\n",
    "                break\n",
    "        paper = four_point_transform(image, paper_contour.reshape(4, 2))\n",
    "    return paper"
   ]
  },
  {
   "cell_type": "code",
   "execution_count": 139,
   "id": "ba4c0a16",
   "metadata": {},
   "outputs": [],
   "source": [
    "image= cv2.imread('omr.png') \n",
    "paper=extract_the_paper_from_image(image)\n",
    "#paper=extract_the_paper_from_image(paper)\n",
    "bubble_size=(15,50)"
   ]
  },
  {
   "cell_type": "code",
   "execution_count": 140,
   "id": "7495032a",
   "metadata": {},
   "outputs": [
    {
     "data": {
      "text/plain": [
       "-1"
      ]
     },
     "execution_count": 140,
     "metadata": {},
     "output_type": "execute_result"
    }
   ],
   "source": [
    "# Get the gray scale paper \n",
    "gray_scale_paper = cv2.cvtColor(paper,cv2.COLOR_BGR2GRAY)\n",
    "cv2.imshow('image',gray_scale_paper)\n",
    "cv2.waitKey(0)"
   ]
  },
  {
   "cell_type": "code",
   "execution_count": 141,
   "id": "be5dd088",
   "metadata": {},
   "outputs": [
    {
     "data": {
      "text/plain": [
       "-1"
      ]
     },
     "execution_count": 141,
     "metadata": {},
     "output_type": "execute_result"
    }
   ],
   "source": [
    "# Get binary paper\n",
    "_,thresholded=cv2.threshold(gray_scale_paper,200,255, cv2.THRESH_BINARY_INV)\n",
    "cv2.imshow('image',thresholded)\n",
    "cv2.waitKey(0)"
   ]
  },
  {
   "cell_type": "code",
   "execution_count": 142,
   "id": "5748c7a2",
   "metadata": {},
   "outputs": [],
   "source": [
    "# Get the external contours\n",
    "pap_cnts,_=cv2.findContours(thresholded, cv2.RETR_EXTERNAL, cv2.CHAIN_APPROX_SIMPLE)\n",
    "\n",
    "# Check if there are no contours\n",
    "if(len(pap_cnts)==0):\n",
    "    print(\"No external contours found\")\n",
    "\n",
    "# Get the bubbles contours\n",
    "pre_question_cnts=[]\n",
    "for cnt in pap_cnts:\n",
    "    (x,y,w,h)=cv2.boundingRect(cnt)\n",
    "    aspect_ratio=w/h\n",
    "    if(w>=bubble_size[0] and w<=bubble_size[1] and h>=bubble_size[0] and h<=bubble_size[1] and aspect_ratio>=0.9 and aspect_ratio<=1.1):\n",
    "        pre_question_cnts.append(cnt)\n",
    "\n",
    "# Check if there are no contours\n",
    "if(len(pre_question_cnts)==0):\n",
    "    print(\"No bubbles contours found\")"
   ]
  },
  {
   "cell_type": "code",
   "execution_count": 143,
   "id": "2c78a5bf",
   "metadata": {},
   "outputs": [
    {
     "name": "stdout",
     "output_type": "stream",
     "text": [
      "5\n",
      "1 5\n"
     ]
    }
   ],
   "source": [
    "if(len(pre_question_cnts)):\n",
    "    # Sort the contours from top to bottom\n",
    "    question_cnts,_=imcnts.sort_contours(pre_question_cnts,method='top-to-bottom')\n",
    "\n",
    "    # Detect the number of choices and the number of columns\n",
    "    xs_set=set()\n",
    "    for cnt in question_cnts:\n",
    "        (x,y,w,h)=cv2.boundingRect(cnt)\n",
    "        if(all([ x-i not in xs_set and x+i not in xs_set for i in np.arange(0,5)])):\n",
    "            xs_set.add(x)\n",
    "    number_of_bubbles=len(xs_set)\n",
    "    print(number_of_bubbles)\n",
    "    xs=np.array(list(sorted(xs_set)))\n",
    "    dist=np.append(xs[1:],xs[-1])-xs\n",
    "    distance_set=[]\n",
    "    for diff in dist:\n",
    "        if(len(distance_set)==0 or all([ diff-i != distance_set[-1] and diff+i != distance_set[-1] for i in np.arange(0,5)])):\n",
    "            distance_set.append(diff)\n",
    "    distance_set.pop()\n",
    "    number_of_columns=sum([x > distance_set[i] and x > distance_set[i+2] for i, x in enumerate(distance_set[1:-1])])+1\n",
    "    number_of_choices=number_of_bubbles//number_of_columns\n",
    "\n",
    "    print(number_of_columns,number_of_choices)"
   ]
  },
  {
   "cell_type": "code",
   "execution_count": 144,
   "id": "94aaa459",
   "metadata": {},
   "outputs": [],
   "source": [
    "colors=[(255,0,0)\n",
    ",(0,255,0)\n",
    ",(0,0,255)\n",
    ",(0,255,255)\n",
    ",(255,255,0)\n",
    ",(0,0,255)\n",
    ",(0,255,255)\n",
    ",(255,0,255)\n",
    ",(192,192,192)\n",
    ",(128,128,128)\n",
    ",(128,0,0)\n",
    ",(128,128,0)\n",
    ",(0,128,0)\n",
    ",(128,0,128)\n",
    ",(0,128,128)\n",
    ",(0,0,128),\n",
    "       (255,215,0)]"
   ]
  },
  {
   "cell_type": "code",
   "execution_count": 145,
   "id": "98365f18",
   "metadata": {},
   "outputs": [
    {
     "name": "stdout",
     "output_type": "stream",
     "text": [
      "['B', 'E', 'A', 'C', 'B'] 5\n"
     ]
    }
   ],
   "source": [
    "if(len(pre_question_cnts)):\n",
    "    qs=0\n",
    "    # Get student answers\n",
    "    answers=[]\n",
    "\n",
    "    # Iterate over each row\n",
    "    for (_,i) in enumerate(np.arange(0,len(question_cnts),number_of_columns*number_of_choices)):\n",
    "\n",
    "        # Get all bubbles of the current row which has (number_of_columns) questions\n",
    "        curr_row_cnts,_=imcnts.sort_contours(question_cnts[i:i+number_of_columns*number_of_choices])\n",
    "\n",
    "        # Iterate over each question\n",
    "        for k in np.arange(0,len(curr_row_cnts),number_of_choices):\n",
    "\n",
    "            # Current Question answers\n",
    "            curr_ques_cnts=curr_row_cnts[k:k+number_of_choices]\n",
    "            color1=colors[qs%len(colors)]\n",
    "            qs=qs+1\n",
    "            cv2.drawContours(paper,curr_ques_cnts,-1,color1, 1)\n",
    "\n",
    "            bubbled=None\n",
    "\n",
    "            for (j,c) in enumerate(curr_ques_cnts):\n",
    "\n",
    "                # Get the maximum shaded bubble\n",
    "                mask = np.zeros(thresholded.shape, dtype=\"uint8\")\n",
    "                cv2.drawContours(mask, [c], -1, 255, -1)\n",
    "                mask= cv2.bitwise_and(thresholded, mask)\n",
    "                total= cv2.countNonZero(mask)\n",
    "\n",
    "                if bubbled is None or total > bubbled[0]:\n",
    "                    bubbled= (total, j)\n",
    "\n",
    "            answers.append(chr(bubbled[1]+ord('A')))\n",
    "    print(answers,len(answers))\n",
    "    "
   ]
  },
  {
   "cell_type": "code",
   "execution_count": 146,
   "id": "043c2cd3",
   "metadata": {},
   "outputs": [],
   "source": [
    "cv2.imshow('image',paper)\n",
    "cv2.waitKey(0)\n",
    "paper=extract_the_paper_from_image(image)\n",
    "#paper=extract_the_paper_from_image(paper)"
   ]
  }
 ],
 "metadata": {
  "kernelspec": {
   "display_name": "Python 3 (ipykernel)",
   "language": "python",
   "name": "python3"
  },
  "language_info": {
   "codemirror_mode": {
    "name": "ipython",
    "version": 3
   },
   "file_extension": ".py",
   "mimetype": "text/x-python",
   "name": "python",
   "nbconvert_exporter": "python",
   "pygments_lexer": "ipython3",
   "version": "3.10.7"
  }
 },
 "nbformat": 4,
 "nbformat_minor": 5
}
