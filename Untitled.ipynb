{
 "cells": [
  {
   "cell_type": "code",
   "execution_count": 632,
   "id": "1f4efafd",
   "metadata": {},
   "outputs": [],
   "source": [
    "import cv2\n",
    "import numpy as np\n",
    "from matplotlib import pyplot as plt\n",
    "from crop_image import *\n",
    "import imutils\n",
    "from imutils import contours as imcnts\n",
    "import skimage.io as io\n",
    "from skimage.exposure import histogram\n",
    "from bubble_sheet_answer import *\n",
    "from paper_extraction import *\n",
    "from crop_image import *\n",
    "%matplotlib inline"
   ]
  },
  {
   "cell_type": "code",
   "execution_count": 633,
   "id": "6e2f1a21",
   "metadata": {},
   "outputs": [],
   "source": [
    "def extract_the_paper_from_image(image):\n",
    "    paper = None\n",
    "    gray_scale = cv2.cvtColor(image, cv2.COLOR_BGR2GRAY)\n",
    "    edged = cv2.Canny(gray_scale, 75, 200)\n",
    "    contours, _ = cv2.findContours(edged,\n",
    "                                   cv2.RETR_EXTERNAL, cv2.CHAIN_APPROX_NONE)\n",
    "    if (len(contours) > 0):\n",
    "        contours = sorted(contours, key=cv2.contourArea, reverse=True)\n",
    "        paper_contour = None\n",
    "        for cnt in contours:\n",
    "            peri = cv2.arcLength(cnt, True)\n",
    "            ratio = 0.01\n",
    "            approx = cv2.approxPolyDP(cnt, ratio*peri, True)\n",
    "            if (len(approx) == 4):\n",
    "                paper_contour = approx\n",
    "                break\n",
    "        paper = four_point_transform(image, paper_contour.reshape(4, 2))\n",
    "    return paper"
   ]
  },
  {
   "cell_type": "code",
   "execution_count": 634,
   "id": "42410f68",
   "metadata": {},
   "outputs": [],
   "source": [
    "image= cv2.imread('7531A5B15AE8468999E4B9A3C1E8190B.png') \n",
    "paper=extract_the_paper_from_image(image)\n",
    "temp=paper.copy()\n",
    "#paper=extract_the_paper_from_image(paper)\n",
    "bubble_size=(5,50)"
   ]
  },
  {
   "cell_type": "code",
   "execution_count": 635,
   "id": "02758e46",
   "metadata": {},
   "outputs": [
    {
     "data": {
      "text/plain": [
       "-1"
      ]
     },
     "execution_count": 635,
     "metadata": {},
     "output_type": "execute_result"
    }
   ],
   "source": [
    "# Get the gray scale paper \n",
    "gray_scale_paper = cv2.cvtColor(paper,cv2.COLOR_BGR2GRAY)\n",
    "cv2.imshow('image',gray_scale_paper)\n",
    "cv2.waitKey(0)"
   ]
  },
  {
   "cell_type": "code",
   "execution_count": 636,
   "id": "f29af2b7",
   "metadata": {},
   "outputs": [
    {
     "data": {
      "text/plain": [
       "-1"
      ]
     },
     "execution_count": 636,
     "metadata": {},
     "output_type": "execute_result"
    }
   ],
   "source": [
    "equalized_gray_scale_paper=cv2.equalizeHist(gray_scale_paper)\n",
    "cv2.imshow('equalized',equalized_gray_scale_paper)\n",
    "cv2.waitKey(0)"
   ]
  },
  {
   "cell_type": "code",
   "execution_count": 637,
   "id": "c3023637",
   "metadata": {},
   "outputs": [],
   "source": [
    "def show_hist(gray_scale_paper):\n",
    "    hist, bin_centers = histogram(gray_scale_paper,20)\n",
    "    plt.figure()\n",
    "    plt.bar(bin_centers, hist, width=0.8, align='center')\n",
    "    plt.xlabel(\"graylevel\")\n",
    "    plt.ylabel(\"frequency\")\n",
    "    plt.show()"
   ]
  },
  {
   "cell_type": "code",
   "execution_count": 638,
   "id": "34f56eb7",
   "metadata": {},
   "outputs": [
    {
     "data": {
      "image/png": "[encoded data removed]",
      "text/plain": [
       "<Figure size 432x288 with 1 Axes>"
      ]
     },
     "metadata": {
      "needs_background": "light"
     },
     "output_type": "display_data"
    },
    {
     "data": {
      "image/png": "[encoded data removed]",
      "text/plain": [
       "<Figure size 432x288 with 1 Axes>"
      ]
     },
     "metadata": {
      "needs_background": "light"
     },
     "output_type": "display_data"
    }
   ],
   "source": [
    "show_hist(gray_scale_paper)\n",
    "show_hist(equalized_gray_scale_paper)"
   ]
  },
  {
   "cell_type": "code",
   "execution_count": 639,
   "id": "2d42985d",
   "metadata": {},
   "outputs": [
    {
     "data": {
      "text/plain": [
       "-1"
      ]
     },
     "execution_count": 639,
     "metadata": {},
     "output_type": "execute_result"
    }
   ],
   "source": [
    "# Get binary paper\n",
    "_,thresholded=cv2.threshold(equalized_gray_scale_paper,45,255, cv2.THRESH_BINARY_INV)\n",
    "cv2.imshow('after threshold',thresholded)\n",
    "cv2.waitKey(0)\n",
    "\n",
    "# thresholded = cv2.morphologyEx(thresholded0, cv2.MORPH_CLOSE, np.ones((2, 2), np.uint8))\n",
    "# cv2.imshow('thresholded image after cloing',thresholded)\n",
    "# cv2.waitKey(0)\n",
    "\n",
    "\n",
    "thresholded = cv2.erode(thresholded, np.ones((1, 2), np.uint8), iterations=1)\n",
    "cv2.imshow('after erosion',thresholded)\n",
    "cv2.waitKey(0)\n",
    "thresholded = cv2.dilate(thresholded, np.ones((2, 2), np.uint8), iterations=1)\n",
    "cv2.imshow('after dilation',thresholded)\n",
    "cv2.waitKey(0)\n",
    "thresholded = cv2.erode(thresholded, np.ones((1, 2), np.uint8), iterations=1)\n",
    "cv2.imshow('after erosion',thresholded)\n",
    "cv2.waitKey(0)\n",
    "thresholded = cv2.dilate(thresholded, np.ones((2, 2), np.uint8), iterations=1)\n",
    "cv2.imshow('after dilation',thresholded)\n",
    "cv2.waitKey(0)"
   ]
  },
  {
   "cell_type": "code",
   "execution_count": 640,
   "id": "1d339f3e",
   "metadata": {},
   "outputs": [
    {
     "name": "stdout",
     "output_type": "stream",
     "text": [
      "329 367\n"
     ]
    }
   ],
   "source": [
    "#Get Average Area\n",
    "areas=[]\n",
    "# Get the external contours\n",
    "pap_cnts,_=cv2.findContours(thresholded, cv2.RETR_EXTERNAL, cv2.CHAIN_APPROX_NONE)\n",
    "\n",
    "# Check if there are no contours\n",
    "if(len(pap_cnts)==0):\n",
    "    print(\"No external contours found\")\n",
    "\n",
    "# Get the bubbles contours\n",
    "pre_question_cnts=[]\n",
    "for cnt in pap_cnts:\n",
    "    (x,y,w,h)=cv2.boundingRect(cnt)\n",
    "    aspect_ratio=w/h\n",
    "    if(aspect_ratio>=0.8 and aspect_ratio<=1.2):\n",
    "        areas.append(cv2.contourArea(cnt))\n",
    "        pre_question_cnts.append(cnt)\n",
    "\n",
    "# Check if there are no contours\n",
    "if(len(pre_question_cnts)==0):\n",
    "    print(\"No bubbles contours found\")\n",
    "print(len(pre_question_cnts),len(pap_cnts))\n"
   ]
  },
  {
   "cell_type": "code",
   "execution_count": 641,
   "id": "06769b7f",
   "metadata": {},
   "outputs": [
    {
     "data": {
      "text/plain": [
       "-1"
      ]
     },
     "execution_count": 641,
     "metadata": {},
     "output_type": "execute_result"
    }
   ],
   "source": [
    "temp3333=paper.copy()\n",
    "cv2.drawContours(temp3333,pre_question_cnts,-1,(0,255,0), 5)\n",
    "cv2.imshow('temp3333',temp3333)\n",
    "cv2.waitKey(0)"
   ]
  },
  {
   "cell_type": "code",
   "execution_count": 642,
   "id": "3d3a02ad",
   "metadata": {},
   "outputs": [
    {
     "name": "stdout",
     "output_type": "stream",
     "text": [
      "165.0\n",
      "300\n"
     ]
    }
   ],
   "source": [
    "#print(cnt_cont,sum_cont_area,sum_cont_area/cnt_cont)\n",
    "bubble_area=np.median(areas)\n",
    "print(bubble_area)\n",
    "#print(np.median(areas))\n",
    "#print(np.amin(areas))\n",
    "question_cnts_copy=[]\n",
    "for i,area  in enumerate(areas):\n",
    "    #print(i,area,abs(area-bubble_area))\n",
    "    if(abs(area-bubble_area)<=10):\n",
    "        question_cnts_copy.append(pre_question_cnts[i])\n",
    "pre_question_cnts= question_cnts_copy      \n",
    "print(len(pre_question_cnts))"
   ]
  },
  {
   "cell_type": "code",
   "execution_count": 643,
   "id": "5ae0208d",
   "metadata": {},
   "outputs": [
    {
     "name": "stdout",
     "output_type": "stream",
     "text": [
      "159.0\n"
     ]
    }
   ],
   "source": [
    "temp222=paper.copy()\n",
    "tempo= sorted(pre_question_cnts, key=cv2.contourArea)\n",
    "cv2.drawContours(temp222,tempo[0],-1,(0,255,0), 5)\n",
    "print(cv2.contourArea(tempo[0]))\n",
    "#cv2.imshow('temp222',temp222)\n",
    "#cv2.waitKey(0)"
   ]
  },
  {
   "cell_type": "code",
   "execution_count": 644,
   "id": "a2d6dc2e",
   "metadata": {},
   "outputs": [
    {
     "name": "stdout",
     "output_type": "stream",
     "text": [
      "15\n",
      "3 5\n"
     ]
    }
   ],
   "source": [
    "if(len(pre_question_cnts)):\n",
    "    # Sort the contours from top to bottom\n",
    "    question_cnts,_=imcnts.sort_contours(pre_question_cnts,method='top-to-bottom')\n",
    "\n",
    "    # Detect the number of choices and the number of columns\n",
    "    xs_set=set()\n",
    "    for cnt in question_cnts:\n",
    "        (x,y,w,h)=cv2.boundingRect(cnt)\n",
    "        if(all([ x-i not in xs_set and x+i not in xs_set for i in np.arange(0,5)])):\n",
    "            xs_set.add(x)\n",
    "    number_of_bubbles=len(xs_set)\n",
    "    print(number_of_bubbles)\n",
    "    xs=np.array(list(sorted(xs_set)))\n",
    "    dist=np.append(xs[1:],xs[-1])-xs\n",
    "    distance_set=[]\n",
    "    for diff in dist:\n",
    "        if(len(distance_set)==0 or all([ diff-i != distance_set[-1] and diff+i != distance_set[-1] for i in np.arange(0,5)])):\n",
    "            distance_set.append(diff)\n",
    "    distance_set.pop()\n",
    "    number_of_columns=sum([x > distance_set[i] and x > distance_set[i+2] for i, x in enumerate(distance_set[1:-1])])+1\n",
    "    number_of_choices=number_of_bubbles//number_of_columns\n",
    "\n",
    "    print(number_of_columns,number_of_choices)"
   ]
  },
  {
   "cell_type": "code",
   "execution_count": 645,
   "id": "f4d8c0cf",
   "metadata": {},
   "outputs": [],
   "source": [
    "colors=[(255,0,0)\n",
    ",(0,255,0)\n",
    ",(0,0,255)\n",
    ",(255,0,0)\n",
    ",(0,255,0)\n",
    ",(0,0,255)\n",
    ",(0,255,0)\n",
    ",(255,0,0)\n",
    ",(255,255,192)\n",
    ",(225,255,128)\n",
    ",(128,0,0)\n",
    ",(128,128,0)\n",
    ",(0,128,0)\n",
    ",(128,0,128)\n",
    ",(0,128,128)\n",
    ",(0,0,128),\n",
    "       (255,215,0)]"
   ]
  },
  {
   "cell_type": "code",
   "execution_count": 646,
   "id": "4f7a8eb3",
   "metadata": {},
   "outputs": [
    {
     "name": "stdout",
     "output_type": "stream",
     "text": [
      "['A', 'A', 'A', 'B', 'B', 'A', 'C', 'C', 'A', 'D', 'D', 'A', 'E', 'E', 'A', 'D', 'D', 'A', 'C', 'C', 'A', 'B', 'B', 'D', 'A', 'A', 'D', 'B', 'C', 'D', 'A', 'A', 'E', 'A', 'B', 'D', 'A', 'B', 'C', 'A', 'C', 'B', 'A', 'C', 'A', 'A', 'C', 'B', 'B', 'C', 'C', 'B', 'C', 'D', 'B', 'C', 'E', 'B', 'C', 'A'] 60\n"
     ]
    }
   ],
   "source": [
    "if(len(pre_question_cnts)):\n",
    "    qs=0\n",
    "    # Get student answers\n",
    "    answers=[]\n",
    "\n",
    "    # Iterate over each row\n",
    "    for (_,i) in enumerate(np.arange(0,len(question_cnts),number_of_columns*number_of_choices)):\n",
    "\n",
    "        # Get all bubbles of the current row which has (number_of_columns) questions\n",
    "        curr_row_cnts,_=imcnts.sort_contours(question_cnts[i:i+number_of_columns*number_of_choices])\n",
    "\n",
    "        # Iterate over each question\n",
    "        for k in np.arange(0,len(curr_row_cnts),number_of_choices):\n",
    "\n",
    "            # Current Question answers\n",
    "            curr_ques_cnts=curr_row_cnts[k:k+number_of_choices]\n",
    "            color1=colors[qs%len(colors)]\n",
    "            qs=qs+1\n",
    "            cv2.drawContours(temp,curr_ques_cnts,-1,color1, 5)\n",
    "\n",
    "            bubbled=None\n",
    "\n",
    "            for (j,c) in enumerate(curr_ques_cnts):\n",
    "\n",
    "                # Get the maximum shaded bubble\n",
    "                mask = np.zeros(thresholded.shape, dtype=\"uint8\")\n",
    "                cv2.drawContours(mask, [c], -1, 255, -1)\n",
    "                mask= cv2.bitwise_and(thresholded, mask)\n",
    "                total= cv2.countNonZero(mask)\n",
    "\n",
    "                if bubbled is None or total > bubbled[0]:\n",
    "                    bubbled= (total, j)\n",
    "\n",
    "            answers.append(chr(bubbled[1]+ord('A')))\n",
    "    print(answers,len(answers))\n",
    "    "
   ]
  },
  {
   "cell_type": "code",
   "execution_count": null,
   "id": "48ab2fba",
   "metadata": {},
   "outputs": [],
   "source": [
    "cv2.imshow('temp',temp)\n",
    "cv2.waitKey(0)\n",
    "# paper=extract_the_paper_from_image(image)\n",
    "#paper=extract_the_paper_from_image(paper)"
   ]
  },
  {
   "cell_type": "code",
   "execution_count": null,
   "id": "577ca784",
   "metadata": {},
   "outputs": [],
   "source": []
  },
  {
   "cell_type": "code",
   "execution_count": null,
   "id": "6917d1cc",
   "metadata": {},
   "outputs": [],
   "source": []
  }
 ],
 "metadata": {
  "kernelspec": {
   "display_name": "Python 3 (ipykernel)",
   "language": "python",
   "name": "python3"
  },
  "language_info": {
   "codemirror_mode": {
    "name": "ipython",
    "version": 3
   },
   "file_extension": ".py",
   "mimetype": "text/x-python",
   "name": "python",
   "nbconvert_exporter": "python",
   "pygments_lexer": "ipython3",
   "version": "3.9.12"
  }
 },
 "nbformat": 4,
 "nbformat_minor": 5
}
