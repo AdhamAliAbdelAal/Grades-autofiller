{
 "cells": [
  {
   "cell_type": "code",
   "execution_count": 58,
   "id": "b5605b7b",
   "metadata": {},
   "outputs": [],
   "source": [
    "import numpy as np\n",
    "import cv2"
   ]
  },
  {
   "cell_type": "code",
   "execution_count": null,
   "id": "0a38b416",
   "metadata": {},
   "outputs": [],
   "source": [
    "# This classifier is used to categorize a group of pixels within an image based on given dataset\n",
    "#algorithm to build a classifier:\n",
    "#1-read data set images of digits\n",
    "#2-use image resizing to maintain a proportion size for all digits\n",
    "#3-convert to gray scale\n",
    "#4-threshold\n",
    "#5-find contours (external) each contour represents a digit\n",
    "#6-flattenedImages contains all images of digits extracted from dataset\n",
    "#7-intClassifications contain all numeric value corresponding to digit images in flaattenedImages\n",
    "#8-convert extracted images into 1-d array to write them into a file"
   ]
  },
  {
   "cell_type": "code",
   "execution_count": 59,
   "id": "a2ab1530",
   "metadata": {},
   "outputs": [],
   "source": [
    "RESIZED_IMAGE_WIDTH = 30\n",
    "RESIZED_IMAGE_HEIGHT= 40"
   ]
  },
  {
   "cell_type": "code",
   "execution_count": 60,
   "id": "5049163d",
   "metadata": {},
   "outputs": [],
   "source": [
    "digit0 = 0\n",
    "digit1 = 1\n",
    "digit2 = 2\n",
    "digit3 = 3"
   ]
  },
  {
   "cell_type": "code",
   "execution_count": 61,
   "id": "08a26a41",
   "metadata": {},
   "outputs": [],
   "source": [
    "imgTraining0 = cv2.imread('id dataset/0/0.png')\n",
    "imgTraining1 = cv2.imread('id dataset/1/1.png')\n",
    "imgTraining2 = cv2.imread('id dataset/2/2.png')\n",
    "imgTraining3 = cv2.imread('id dataset/3/3.png')"
   ]
  },
  {
   "cell_type": "code",
   "execution_count": 62,
   "id": "a91b6f20",
   "metadata": {},
   "outputs": [],
   "source": [
    "imgGray0 = cv2.cvtColor(imgTraining0, cv2.COLOR_BGR2GRAY)\n",
    "imgGray1 = cv2.cvtColor(imgTraining1, cv2.COLOR_BGR2GRAY)\n",
    "imgGray2 = cv2.cvtColor(imgTraining2, cv2.COLOR_BGR2GRAY)\n",
    "imgGray3 = cv2.cvtColor(imgTraining3, cv2.COLOR_BGR2GRAY)"
   ]
  },
  {
   "cell_type": "code",
   "execution_count": 63,
   "id": "2e4959d4",
   "metadata": {},
   "outputs": [],
   "source": [
    "retval0,imgThresh0 = cv2.threshold(imgGray0, 150, 255, cv2.CHAIN_APPROX_NONE)\n",
    "retval1,imgThresh1 = cv2.threshold(imgGray1, 150, 255, cv2.CHAIN_APPROX_NONE)\n",
    "retval2,imgThresh2 = cv2.threshold(imgGray2, 150, 255, cv2.CHAIN_APPROX_NONE)\n",
    "retval3,imgThresh3 = cv2.threshold(imgGray3, 150, 255, cv2.CHAIN_APPROX_NONE)"
   ]
  },
  {
   "cell_type": "code",
   "execution_count": 64,
   "id": "1918f841",
   "metadata": {},
   "outputs": [],
   "source": [
    "imgThreshCopy0 = imgThresh0.copy()\n",
    "imgThreshCopy1 = imgThresh1.copy()\n",
    "imgThreshCopy2 = imgThresh2.copy()\n",
    "imgThreshCopy3 = imgThresh3.copy()"
   ]
  },
  {
   "cell_type": "code",
   "execution_count": 65,
   "id": "399ceffd",
   "metadata": {},
   "outputs": [],
   "source": [
    "imgContours0, h0 = cv2.findContours(imgThreshCopy0, cv2.RETR_EXTERNAL, cv2.CHAIN_APPROX_SIMPLE)\n",
    "imgContours1, h1 = cv2.findContours(imgThreshCopy1, cv2.RETR_EXTERNAL, cv2.CHAIN_APPROX_SIMPLE)\n",
    "imgContours2, h2 = cv2.findContours(imgThreshCopy2, cv2.RETR_EXTERNAL, cv2.CHAIN_APPROX_SIMPLE)\n",
    "imgContours3, h3 = cv2.findContours(imgThreshCopy3, cv2.RETR_EXTERNAL, cv2.CHAIN_APPROX_SIMPLE)"
   ]
  },
  {
   "cell_type": "code",
   "execution_count": 66,
   "id": "2a04fc46",
   "metadata": {},
   "outputs": [],
   "source": [
    "flattenedImages = np.empty((0, RESIZED_IMAGE_WIDTH * RESIZED_IMAGE_HEIGHT))\n",
    "intClassifications = []"
   ]
  },
  {
   "cell_type": "code",
   "execution_count": 67,
   "id": "25792434",
   "metadata": {},
   "outputs": [],
   "source": [
    "for c0 in imgContours0:\n",
    "    [intX, intY, intW, intH] = cv2.boundingRect(c0)\n",
    "    imgROI0 = imgThresh0[intY:intY + intH, intX:intX + intW]\n",
    "    imgResizedROI0 = cv2.resize(imgROI0, (RESIZED_IMAGE_WIDTH, RESIZED_IMAGE_HEIGHT))\n",
    "    \n",
    "    intClassifications.append(digit0)\n",
    "    flattenImg = imgResizedROI0.reshape(1, RESIZED_IMAGE_WIDTH * RESIZED_IMAGE_HEIGHT)\n",
    "    flattenedImages = np.append(flattenedImages, flattenImg, 0)"
   ]
  },
  {
   "cell_type": "code",
   "execution_count": 68,
   "id": "c4096925",
   "metadata": {},
   "outputs": [],
   "source": [
    "for c1 in imgContours1:\n",
    "    [intX, intY, intW, intH] = cv2.boundingRect(c1)\n",
    "    imgROI1 = imgThresh1[intY:intY + intH, intX:intX + intW]\n",
    "    imgResizedROI1 = cv2.resize(imgROI1, (RESIZED_IMAGE_WIDTH, RESIZED_IMAGE_HEIGHT))\n",
    "    \n",
    "    intClassifications.append(digit1)\n",
    "    flattenImg = imgResizedROI1.reshape(1, RESIZED_IMAGE_WIDTH * RESIZED_IMAGE_HEIGHT)\n",
    "    flattenedImages = np.append(flattenedImages, flattenImg, 0)"
   ]
  },
  {
   "cell_type": "code",
   "execution_count": 69,
   "id": "a090398e",
   "metadata": {},
   "outputs": [],
   "source": [
    "for c2 in imgContours2:\n",
    "    [intX, intY, intW, intH] = cv2.boundingRect(c2)\n",
    "    imgROI2 = imgThresh2[intY:intY + intH, intX:intX + intW]\n",
    "    imgResizedROI2 = cv2.resize(imgROI2, (RESIZED_IMAGE_WIDTH, RESIZED_IMAGE_HEIGHT))\n",
    "    \n",
    "    intClassifications.append(digit2)\n",
    "    flattenImg = imgResizedROI2.reshape(1, RESIZED_IMAGE_WIDTH * RESIZED_IMAGE_HEIGHT)\n",
    "    flattenedImages = np.append(flattenedImages, flattenImg, 0)"
   ]
  },
  {
   "cell_type": "code",
   "execution_count": 70,
   "id": "e511257b",
   "metadata": {},
   "outputs": [],
   "source": [
    "for c3 in imgContours3:\n",
    "    [intX, intY, intW, intH] = cv2.boundingRect(c3)\n",
    "    imgROI3 = imgThresh3[intY:intY + intH, intX:intX + intW]\n",
    "    imgResizedROI3 = cv2.resize(imgROI3, (RESIZED_IMAGE_WIDTH, RESIZED_IMAGE_HEIGHT))\n",
    "    \n",
    "    intClassifications.append(digit3)\n",
    "    flattenImg = imgResizedROI3.reshape(1, RESIZED_IMAGE_WIDTH * RESIZED_IMAGE_HEIGHT)\n",
    "    flattenedImages = np.append(flattenedImages, flattenImg, 0)"
   ]
  },
  {
   "cell_type": "code",
   "execution_count": 74,
   "id": "52ec9a4c",
   "metadata": {},
   "outputs": [],
   "source": [
    "fltClassifications = np.array(intClassifications, np.float64)\n",
    "finalClassifications = fltClassifications.reshape(fltClassifications.size, 1)"
   ]
  },
  {
   "cell_type": "code",
   "execution_count": 75,
   "id": "5bd43a59",
   "metadata": {},
   "outputs": [
    {
     "name": "stdout",
     "output_type": "stream",
     "text": [
      "Complete!!!\n"
     ]
    }
   ],
   "source": [
    "print(\"Complete!!!\")"
   ]
  },
  {
   "cell_type": "code",
   "execution_count": 76,
   "id": "de3fcf7a",
   "metadata": {},
   "outputs": [],
   "source": [
    "np.savetxt('classifications.txt', finalClassifications)\n",
    "np.savetxt('flatDigitImages.txt', flattenedImages)"
   ]
  },
  {
   "cell_type": "code",
   "execution_count": null,
   "id": "38a3693a",
   "metadata": {},
   "outputs": [],
   "source": []
  }
 ],
 "metadata": {
  "kernelspec": {
   "display_name": "Python 3 (ipykernel)",
   "language": "python",
   "name": "python3"
  },
  "language_info": {
   "codemirror_mode": {
    "name": "ipython",
    "version": 3
   },
   "file_extension": ".py",
   "mimetype": "text/x-python",
   "name": "python",
   "nbconvert_exporter": "python",
   "pygments_lexer": "ipython3",
   "version": "3.9.12"
  }
 },
 "nbformat": 4,
 "nbformat_minor": 5
}
