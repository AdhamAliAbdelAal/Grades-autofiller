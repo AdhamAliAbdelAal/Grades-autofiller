{
 "cells": [
  {
   "cell_type": "code",
   "execution_count": 124,
   "id": "b5605b7b",
   "metadata": {},
   "outputs": [],
   "source": [
    "import numpy as np\n",
    "import cv2"
   ]
  },
  {
   "cell_type": "code",
   "execution_count": 125,
   "id": "0a38b416",
   "metadata": {},
   "outputs": [],
   "source": [
    "# This classifier is used to categorize a group of pixels within an image based on given dataset\n",
    "#algorithm to build a classifier:\n",
    "#1-read data set images of digits\n",
    "#2-use image resizing to maintain a proportion size for all digits\n",
    "#3-convert to gray scale\n",
    "#4-threshold\n",
    "#5-find contours (external) each contour represents a digit\n",
    "#6-flattenedImages contains all images of digits extracted from dataset\n",
    "#7-intClassifications contain all numeric value corresponding to digit images in flaattenedImages\n",
    "#8-convert extracted images into 1-d array to write them into a file"
   ]
  },
  {
   "cell_type": "code",
   "execution_count": 126,
   "id": "a2ab1530",
   "metadata": {},
   "outputs": [],
   "source": [
    "RESIZED_IMAGE_WIDTH = 30\n",
    "RESIZED_IMAGE_HEIGHT= 40"
   ]
  },
  {
   "cell_type": "code",
   "execution_count": 127,
   "id": "5049163d",
   "metadata": {},
   "outputs": [],
   "source": [
    "digit0 = 0\n",
    "digit1 = 1\n",
    "digit2 = 2\n",
    "digit3 = 3\n",
    "digit4 = 4\n",
    "digit5 = 5\n",
    "digit6 = 6\n",
    "digit7 = 7\n",
    "digit8 = 8\n",
    "digit9 = 9"
   ]
  },
  {
   "cell_type": "code",
   "execution_count": 128,
   "id": "08a26a41",
   "metadata": {},
   "outputs": [],
   "source": [
    "imgTraining0 = cv2.imread('id dataset/0/0.png')\n",
    "imgTraining1 = cv2.imread('id dataset/1/1.png')\n",
    "imgTraining12 = cv2.imread('id dataset/1/2.png')\n",
    "imgTraining13 = cv2.imread('id dataset/1/3.png')\n",
    "imgTraining2 = cv2.imread('id dataset/2/2.png')\n",
    "imgTraining3 = cv2.imread('id dataset/3/3.png')\n",
    "imgTraining4 = cv2.imread('id dataset/4/4.png')\n",
    "imgTraining5 = cv2.imread('id dataset/5/5.png')\n",
    "imgTraining6 = cv2.imread('id dataset/6/6.png')\n",
    "imgTraining7 = cv2.imread('id dataset/7/7.png')\n",
    "imgTraining8 = cv2.imread('id dataset/8/8.png')\n",
    "imgTraining9 = cv2.imread('id dataset/9/9.png')"
   ]
  },
  {
   "cell_type": "code",
   "execution_count": 129,
   "id": "a91b6f20",
   "metadata": {},
   "outputs": [],
   "source": [
    "imgGray0 = cv2.cvtColor(imgTraining0, cv2.COLOR_BGR2GRAY)\n",
    "imgGray1 = cv2.cvtColor(imgTraining1, cv2.COLOR_BGR2GRAY)\n",
    "imgGray12 = cv2.cvtColor(imgTraining12, cv2.COLOR_BGR2GRAY)\n",
    "imgGray13 = cv2.cvtColor(imgTraining13, cv2.COLOR_BGR2GRAY)\n",
    "imgGray14 = cv2.cvtColor(imgTraining13, cv2.COLOR_BGR2GRAY)\n",
    "imgGray2 = cv2.cvtColor(imgTraining2, cv2.COLOR_BGR2GRAY)\n",
    "imgGray3 = cv2.cvtColor(imgTraining3, cv2.COLOR_BGR2GRAY)\n",
    "imgGray4 = cv2.cvtColor(imgTraining4, cv2.COLOR_BGR2GRAY)\n",
    "imgGray5 = cv2.cvtColor(imgTraining5, cv2.COLOR_BGR2GRAY)\n",
    "imgGray6 = cv2.cvtColor(imgTraining6, cv2.COLOR_BGR2GRAY)\n",
    "imgGray7 = cv2.cvtColor(imgTraining7, cv2.COLOR_BGR2GRAY)\n",
    "imgGray8 = cv2.cvtColor(imgTraining8, cv2.COLOR_BGR2GRAY)\n",
    "imgGray9 = cv2.cvtColor(imgTraining9, cv2.COLOR_BGR2GRAY)"
   ]
  },
  {
   "cell_type": "code",
   "execution_count": 130,
   "id": "2e4959d4",
   "metadata": {},
   "outputs": [],
   "source": [
    "retval0,imgThresh0 = cv2.threshold(imgGray0, 150, 255, cv2.CHAIN_APPROX_NONE)\n",
    "retval1,imgThresh1 = cv2.threshold(imgGray1, 150, 255, cv2.CHAIN_APPROX_NONE)\n",
    "retval12,imgThresh12 = cv2.threshold(imgGray12, 150, 255, cv2.CHAIN_APPROX_NONE)\n",
    "retval12,imgThresh13 = cv2.threshold(imgGray13, 150, 255, cv2.CHAIN_APPROX_NONE)\n",
    "retval12,imgThresh14 = cv2.threshold(imgGray14, 150, 255, cv2.CHAIN_APPROX_NONE)\n",
    "retval2,imgThresh2 = cv2.threshold(imgGray2, 150, 255, cv2.CHAIN_APPROX_NONE)\n",
    "retval3,imgThresh3 = cv2.threshold(imgGray3, 150, 255, cv2.CHAIN_APPROX_NONE)\n",
    "retval0,imgThresh4 = cv2.threshold(imgGray4, 150, 255, cv2.CHAIN_APPROX_NONE)\n",
    "retval1,imgThresh5 = cv2.threshold(imgGray5, 150, 255, cv2.CHAIN_APPROX_NONE)\n",
    "retval2,imgThresh6 = cv2.threshold(imgGray6, 150, 255, cv2.CHAIN_APPROX_NONE)\n",
    "retval3,imgThresh7 = cv2.threshold(imgGray7, 150, 255, cv2.CHAIN_APPROX_NONE)\n",
    "retval0,imgThresh8 = cv2.threshold(imgGray8, 150, 255, cv2.CHAIN_APPROX_NONE)\n",
    "retval1,imgThresh9 = cv2.threshold(imgGray9, 150, 255, cv2.CHAIN_APPROX_NONE)"
   ]
  },
  {
   "cell_type": "code",
   "execution_count": 131,
   "id": "1918f841",
   "metadata": {},
   "outputs": [],
   "source": [
    "imgThreshCopy0 = imgThresh0.copy()\n",
    "imgThreshCopy1 = imgThresh1.copy()\n",
    "imgThreshCopy12 = imgThresh12.copy()\n",
    "imgThreshCopy13 = imgThresh13.copy()\n",
    "imgThreshCopy2 = imgThresh2.copy()\n",
    "imgThreshCopy3 = imgThresh3.copy()\n",
    "imgThreshCopy4 = imgThresh4.copy()\n",
    "imgThreshCopy5 = imgThresh5.copy()\n",
    "imgThreshCopy6 = imgThresh6.copy()\n",
    "imgThreshCopy7 = imgThresh7.copy()\n",
    "imgThreshCopy8 = imgThresh8.copy()\n",
    "imgThreshCopy9 = imgThresh9.copy()"
   ]
  },
  {
   "cell_type": "code",
   "execution_count": 132,
   "id": "399ceffd",
   "metadata": {},
   "outputs": [],
   "source": [
    "imgContours0, h0 = cv2.findContours(imgThreshCopy0, cv2.RETR_EXTERNAL, cv2.CHAIN_APPROX_SIMPLE)\n",
    "imgContours1, h1 = cv2.findContours(imgThreshCopy1, cv2.RETR_EXTERNAL, cv2.CHAIN_APPROX_SIMPLE)\n",
    "imgContours12, h12 = cv2.findContours(imgThreshCopy12, cv2.RETR_EXTERNAL, cv2.CHAIN_APPROX_SIMPLE)\n",
    "imgContours13, h13 = cv2.findContours(imgThreshCopy13, cv2.RETR_EXTERNAL, cv2.CHAIN_APPROX_SIMPLE)\n",
    "imgContours1 = imgContours1+imgContours12+imgContours13\n",
    "imgContours2, h2 = cv2.findContours(imgThreshCopy2, cv2.RETR_EXTERNAL, cv2.CHAIN_APPROX_SIMPLE)\n",
    "imgContours3, h3 = cv2.findContours(imgThreshCopy3, cv2.RETR_EXTERNAL, cv2.CHAIN_APPROX_SIMPLE)\n",
    "imgContours4, h4 = cv2.findContours(imgThreshCopy4, cv2.RETR_EXTERNAL, cv2.CHAIN_APPROX_SIMPLE)\n",
    "imgContours5, h5 = cv2.findContours(imgThreshCopy5, cv2.RETR_EXTERNAL, cv2.CHAIN_APPROX_SIMPLE)\n",
    "imgContours6, h6 = cv2.findContours(imgThreshCopy6, cv2.RETR_EXTERNAL, cv2.CHAIN_APPROX_SIMPLE)\n",
    "imgContours7, h7 = cv2.findContours(imgThreshCopy7, cv2.RETR_EXTERNAL, cv2.CHAIN_APPROX_SIMPLE)\n",
    "imgContours8, h8 = cv2.findContours(imgThreshCopy8, cv2.RETR_EXTERNAL, cv2.CHAIN_APPROX_SIMPLE)\n",
    "imgContours9, h9 = cv2.findContours(imgThreshCopy9, cv2.RETR_EXTERNAL, cv2.CHAIN_APPROX_SIMPLE)"
   ]
  },
  {
   "cell_type": "code",
   "execution_count": 133,
   "id": "2a04fc46",
   "metadata": {},
   "outputs": [],
   "source": [
    "flattenedImages = np.empty((0, RESIZED_IMAGE_WIDTH * RESIZED_IMAGE_HEIGHT))\n",
    "intClassifications = []"
   ]
  },
  {
   "cell_type": "code",
   "execution_count": 134,
   "id": "25792434",
   "metadata": {},
   "outputs": [],
   "source": [
    "for c0 in imgContours0:\n",
    "    [intX, intY, intW, intH] = cv2.boundingRect(c0)\n",
    "    imgROI0 = imgThresh0[intY:intY + intH, intX:intX + intW]\n",
    "    imgResizedROI0 = cv2.resize(imgROI0, (RESIZED_IMAGE_WIDTH, RESIZED_IMAGE_HEIGHT))\n",
    "    \n",
    "    intClassifications.append(digit0)\n",
    "    flattenImg = imgResizedROI0.reshape(1, RESIZED_IMAGE_WIDTH * RESIZED_IMAGE_HEIGHT)\n",
    "    flattenedImages = np.append(flattenedImages, flattenImg, 0)"
   ]
  },
  {
   "cell_type": "code",
   "execution_count": 135,
   "id": "c4096925",
   "metadata": {},
   "outputs": [],
   "source": [
    "for c1 in imgContours1:\n",
    "    [intX, intY, intW, intH] = cv2.boundingRect(c1)\n",
    "    imgROI1 = imgThresh1[intY:intY + intH, intX:intX + intW]\n",
    "    imgResizedROI1 = cv2.resize(imgROI1, (RESIZED_IMAGE_WIDTH, RESIZED_IMAGE_HEIGHT))\n",
    "    \n",
    "    intClassifications.append(digit1)\n",
    "    flattenImg = imgResizedROI1.reshape(1, RESIZED_IMAGE_WIDTH * RESIZED_IMAGE_HEIGHT)\n",
    "    flattenedImages = np.append(flattenedImages, flattenImg, 0)"
   ]
  },
  {
   "cell_type": "code",
   "execution_count": 136,
   "id": "a090398e",
   "metadata": {},
   "outputs": [],
   "source": [
    "for c2 in imgContours2:\n",
    "    [intX, intY, intW, intH] = cv2.boundingRect(c2)\n",
    "    imgROI2 = imgThresh2[intY:intY + intH, intX:intX + intW]\n",
    "    imgResizedROI2 = cv2.resize(imgROI2, (RESIZED_IMAGE_WIDTH, RESIZED_IMAGE_HEIGHT))\n",
    "    \n",
    "    intClassifications.append(digit2)\n",
    "    flattenImg = imgResizedROI2.reshape(1, RESIZED_IMAGE_WIDTH * RESIZED_IMAGE_HEIGHT)\n",
    "    flattenedImages = np.append(flattenedImages, flattenImg, 0)"
   ]
  },
  {
   "cell_type": "code",
   "execution_count": 137,
   "id": "e511257b",
   "metadata": {},
   "outputs": [],
   "source": [
    "for c3 in imgContours3:\n",
    "    [intX, intY, intW, intH] = cv2.boundingRect(c3)\n",
    "    imgROI3 = imgThresh3[intY:intY + intH, intX:intX + intW]\n",
    "    imgResizedROI3 = cv2.resize(imgROI3, (RESIZED_IMAGE_WIDTH, RESIZED_IMAGE_HEIGHT))\n",
    "    \n",
    "    intClassifications.append(digit3)\n",
    "    flattenImg = imgResizedROI3.reshape(1, RESIZED_IMAGE_WIDTH * RESIZED_IMAGE_HEIGHT)\n",
    "    flattenedImages = np.append(flattenedImages, flattenImg, 0)"
   ]
  },
  {
   "cell_type": "code",
   "execution_count": 138,
   "id": "376c99cf",
   "metadata": {},
   "outputs": [],
   "source": [
    "for c4 in imgContours4:\n",
    "    [intX, intY, intW, intH] = cv2.boundingRect(c4)\n",
    "    imgROI4 = imgThresh4[intY:intY + intH, intX:intX + intW]\n",
    "    imgResizedROI4 = cv2.resize(imgROI4, (RESIZED_IMAGE_WIDTH, RESIZED_IMAGE_HEIGHT))\n",
    "    \n",
    "    intClassifications.append(digit4)\n",
    "    flattenImg = imgResizedROI4.reshape(1, RESIZED_IMAGE_WIDTH * RESIZED_IMAGE_HEIGHT)\n",
    "    flattenedImages = np.append(flattenedImages, flattenImg, 0)"
   ]
  },
  {
   "cell_type": "code",
   "execution_count": 139,
   "id": "e3b2d880",
   "metadata": {},
   "outputs": [],
   "source": [
    "for c5 in imgContours5:\n",
    "    [intX, intY, intW, intH] = cv2.boundingRect(c5)\n",
    "    imgROI5 = imgThresh5[intY:intY + intH, intX:intX + intW]\n",
    "    imgResizedROI5 = cv2.resize(imgROI5, (RESIZED_IMAGE_WIDTH, RESIZED_IMAGE_HEIGHT))\n",
    "    \n",
    "    intClassifications.append(digit5)\n",
    "    flattenImg = imgResizedROI5.reshape(1, RESIZED_IMAGE_WIDTH * RESIZED_IMAGE_HEIGHT)\n",
    "    flattenedImages = np.append(flattenedImages, flattenImg, 0)"
   ]
  },
  {
   "cell_type": "code",
   "execution_count": 140,
   "id": "7fa768fa",
   "metadata": {},
   "outputs": [],
   "source": [
    "for c6 in imgContours6:\n",
    "    [intX, intY, intW, intH] = cv2.boundingRect(c6)\n",
    "    imgROI6 = imgThresh6[intY:intY + intH, intX:intX + intW]\n",
    "    imgResizedROI6 = cv2.resize(imgROI6, (RESIZED_IMAGE_WIDTH, RESIZED_IMAGE_HEIGHT))\n",
    "    \n",
    "    intClassifications.append(digit6)\n",
    "    flattenImg = imgResizedROI6.reshape(1, RESIZED_IMAGE_WIDTH * RESIZED_IMAGE_HEIGHT)\n",
    "    flattenedImages = np.append(flattenedImages, flattenImg, 0)"
   ]
  },
  {
   "cell_type": "code",
   "execution_count": 141,
   "id": "b82c1d52",
   "metadata": {},
   "outputs": [],
   "source": [
    "for c7 in imgContours7:\n",
    "    [intX, intY, intW, intH] = cv2.boundingRect(c7)\n",
    "    imgROI7 = imgThresh7[intY:intY + intH, intX:intX + intW]\n",
    "    imgResizedROI7 = cv2.resize(imgROI7, (RESIZED_IMAGE_WIDTH, RESIZED_IMAGE_HEIGHT))\n",
    "    \n",
    "    intClassifications.append(digit7)\n",
    "    flattenImg = imgResizedROI7.reshape(1, RESIZED_IMAGE_WIDTH * RESIZED_IMAGE_HEIGHT)\n",
    "    flattenedImages = np.append(flattenedImages, flattenImg, 0)"
   ]
  },
  {
   "cell_type": "code",
   "execution_count": 142,
   "id": "38fd60c1",
   "metadata": {},
   "outputs": [],
   "source": [
    "for c8 in imgContours8:\n",
    "    [intX, intY, intW, intH] = cv2.boundingRect(c8)\n",
    "    imgROI8 = imgThresh8[intY:intY + intH, intX:intX + intW]\n",
    "    imgResizedROI8 = cv2.resize(imgROI8, (RESIZED_IMAGE_WIDTH, RESIZED_IMAGE_HEIGHT))\n",
    "    \n",
    "    intClassifications.append(digit8)\n",
    "    flattenImg = imgResizedROI8.reshape(1, RESIZED_IMAGE_WIDTH * RESIZED_IMAGE_HEIGHT)\n",
    "    flattenedImages = np.append(flattenedImages, flattenImg, 0)"
   ]
  },
  {
   "cell_type": "code",
   "execution_count": 143,
   "id": "7f724a06",
   "metadata": {},
   "outputs": [],
   "source": [
    "for c9 in imgContours9:\n",
    "    [intX, intY, intW, intH] = cv2.boundingRect(c9)\n",
    "    imgROI9 = imgThresh9[intY:intY + intH, intX:intX + intW]\n",
    "    imgResizedROI9 = cv2.resize(imgROI9, (RESIZED_IMAGE_WIDTH, RESIZED_IMAGE_HEIGHT))\n",
    "    \n",
    "    intClassifications.append(digit9)\n",
    "    flattenImg = imgResizedROI9.reshape(1, RESIZED_IMAGE_WIDTH * RESIZED_IMAGE_HEIGHT)\n",
    "    flattenedImages = np.append(flattenedImages, flattenImg, 0)"
   ]
  },
  {
   "cell_type": "code",
   "execution_count": 144,
   "id": "52ec9a4c",
   "metadata": {},
   "outputs": [],
   "source": [
    "fltClassifications = np.array(intClassifications, np.float64)\n",
    "finalClassifications = fltClassifications.reshape(fltClassifications.size, 1)"
   ]
  },
  {
   "cell_type": "code",
   "execution_count": 145,
   "id": "5bd43a59",
   "metadata": {},
   "outputs": [
    {
     "name": "stdout",
     "output_type": "stream",
     "text": [
      "Complete!!!\n"
     ]
    }
   ],
   "source": [
    "print(\"Complete!!!\")"
   ]
  },
  {
   "cell_type": "code",
   "execution_count": 146,
   "id": "de3fcf7a",
   "metadata": {},
   "outputs": [],
   "source": [
    "np.savetxt('classifications.txt', finalClassifications)\n",
    "np.savetxt('flatDigitImages.txt', flattenedImages)"
   ]
  },
  {
   "cell_type": "code",
   "execution_count": null,
   "id": "38a3693a",
   "metadata": {},
   "outputs": [],
   "source": []
  },
  {
   "cell_type": "code",
   "execution_count": null,
   "id": "56e39ef6",
   "metadata": {},
   "outputs": [],
   "source": []
  }
 ],
 "metadata": {
  "kernelspec": {
   "display_name": "Python 3 (ipykernel)",
   "language": "python",
   "name": "python3"
  },
  "language_info": {
   "codemirror_mode": {
    "name": "ipython",
    "version": 3
   },
   "file_extension": ".py",
   "mimetype": "text/x-python",
   "name": "python",
   "nbconvert_exporter": "python",
   "pygments_lexer": "ipython3",
   "version": "3.9.12"
  }
 },
 "nbformat": 4,
 "nbformat_minor": 5
}
